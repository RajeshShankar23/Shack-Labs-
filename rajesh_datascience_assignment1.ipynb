{
 "cells": [
  {
   "cell_type": "code",
   "execution_count": 1,
   "metadata": {},
   "outputs": [
    {
     "name": "stderr",
     "output_type": "stream",
     "text": [
      "C:\\Users\\rajes\\Anaconda3\\lib\\site-packages\\pandas\\core\\computation\\expressions.py:20: UserWarning: Pandas requires version '2.7.3' or newer of 'numexpr' (version '2.7.1' currently installed).\n",
      "  from pandas.core.computation.check import NUMEXPR_INSTALLED\n"
     ]
    },
    {
     "name": "stdout",
     "output_type": "stream",
     "text": [
      "Requirement already satisfied: chart_studio in c:\\users\\rajes\\anaconda3\\lib\\site-packages (1.1.0)\n",
      "Requirement already satisfied: requests in c:\\users\\rajes\\anaconda3\\lib\\site-packages (from chart_studio) (2.24.0)\n",
      "Requirement already satisfied: plotly in c:\\users\\rajes\\anaconda3\\lib\\site-packages (from chart_studio) (5.10.0)\n",
      "Requirement already satisfied: retrying>=1.3.3 in c:\\users\\rajes\\anaconda3\\lib\\site-packages (from chart_studio) (1.3.4)\n",
      "Requirement already satisfied: six in c:\\users\\rajes\\anaconda3\\lib\\site-packages (from chart_studio) (1.15.0)\n",
      "Requirement already satisfied: urllib3!=1.25.0,!=1.25.1,<1.26,>=1.21.1 in c:\\users\\rajes\\anaconda3\\lib\\site-packages (from requests->chart_studio) (1.25.11)\n",
      "Requirement already satisfied: chardet<4,>=3.0.2 in c:\\users\\rajes\\anaconda3\\lib\\site-packages (from requests->chart_studio) (3.0.4)\n",
      "Requirement already satisfied: idna<3,>=2.5 in c:\\users\\rajes\\anaconda3\\lib\\site-packages (from requests->chart_studio) (2.10)\n",
      "Requirement already satisfied: certifi>=2017.4.17 in c:\\users\\rajes\\anaconda3\\lib\\site-packages (from requests->chart_studio) (2020.6.20)\n",
      "Requirement already satisfied: tenacity>=6.2.0 in c:\\users\\rajes\\anaconda3\\lib\\site-packages (from plotly->chart_studio) (8.1.0)\n"
     ]
    },
    {
     "data": {
      "text/html": [
       "        <script type=\"text/javascript\">\n",
       "        window.PlotlyConfig = {MathJaxConfig: 'local'};\n",
       "        if (window.MathJax && window.MathJax.Hub && window.MathJax.Hub.Config) {window.MathJax.Hub.Config({SVG: {font: \"STIX-Web\"}});}\n",
       "        if (typeof require !== 'undefined') {\n",
       "        require.undef(\"plotly\");\n",
       "        requirejs.config({\n",
       "            paths: {\n",
       "                'plotly': ['https://cdn.plot.ly/plotly-2.14.0.min']\n",
       "            }\n",
       "        });\n",
       "        require(['plotly'], function(Plotly) {\n",
       "            window._Plotly = Plotly;\n",
       "        });\n",
       "        }\n",
       "        </script>\n",
       "        "
      ]
     },
     "metadata": {},
     "output_type": "display_data"
    }
   ],
   "source": [
    "#importing libraries\n",
    "\n",
    "import numpy as np\n",
    "import pandas as pd\n",
    "import seaborn as sns\n",
    "import matplotlib.pyplot as plt\n",
    "%matplotlib inline\n",
    "\n",
    "# Plotly Packages\n",
    "from plotly import tools\n",
    "!pip install chart_studio\n",
    "import chart_studio.plotly as ply\n",
    "\n",
    " \n",
    "import plotly.figure_factory as ff\n",
    "import plotly.graph_objs as go\n",
    "from plotly.offline import download_plotlyjs,init_notebook_mode,plot, iplot#renderer framework\n",
    "\n",
    "init_notebook_mode(connected=True)# to display figures in the notebook\n",
    "from sklearn.model_selection import train_test_split\n",
    "from sklearn.experimental import enable_hist_gradient_boosting\n",
    "from sklearn.ensemble import RandomForestRegressor,BaggingRegressor, GradientBoostingRegressor, ExtraTreesRegressor, HistGradientBoostingRegressor\n",
    "from sklearn.neighbors import KNeighborsRegressor\n",
    "from sklearn.linear_model import Ridge\n",
    "from sklearn.linear_model import Lasso\n",
    "from sklearn.tree import DecisionTreeRegressor\n",
    "from sklearn.ensemble import RandomForestRegressor\n",
    "from sklearn.model_selection import KFold\n",
    "from pprint import pprint\n",
    "from sklearn.model_selection import cross_val_score\n",
    "from sklearn.metrics import mean_absolute_error, mean_squared_error, r2_score\n",
    "from sklearn.model_selection import GridSearchCV\n",
    "from sklearn.model_selection import RandomizedSearchCV\n",
    "\n",
    "# Ignore Warnings\n",
    "import warnings\n",
    "warnings.filterwarnings(\"ignore\")\n"
   ]
  },
  {
   "cell_type": "markdown",
   "metadata": {},
   "source": []
  },
  {
   "cell_type": "code",
   "execution_count": 2,
   "metadata": {},
   "outputs": [],
   "source": [
    "#read real estate data set\n",
    "df = pd.read_excel(\"dataset-1.xlsx\")"
   ]
  },
  {
   "cell_type": "code",
   "execution_count": 3,
   "metadata": {},
   "outputs": [
    {
     "data": {
      "text/plain": [
       "(414, 9)"
      ]
     },
     "execution_count": 3,
     "metadata": {},
     "output_type": "execute_result"
    }
   ],
   "source": [
    "df.shape"
   ]
  },
  {
   "cell_type": "code",
   "execution_count": 4,
   "metadata": {},
   "outputs": [
    {
     "data": {
      "text/html": [
       "<div>\n",
       "<style scoped>\n",
       "    .dataframe tbody tr th:only-of-type {\n",
       "        vertical-align: middle;\n",
       "    }\n",
       "\n",
       "    .dataframe tbody tr th {\n",
       "        vertical-align: top;\n",
       "    }\n",
       "\n",
       "    .dataframe thead th {\n",
       "        text-align: right;\n",
       "    }\n",
       "</style>\n",
       "<table border=\"1\" class=\"dataframe\">\n",
       "  <thead>\n",
       "    <tr style=\"text-align: right;\">\n",
       "      <th></th>\n",
       "      <th>Transaction date</th>\n",
       "      <th>House Age</th>\n",
       "      <th>Distance from nearest Metro station (km)</th>\n",
       "      <th>Number of convenience stores</th>\n",
       "      <th>latitude</th>\n",
       "      <th>longitude</th>\n",
       "      <th>Number of bedrooms</th>\n",
       "      <th>House size (sqft)</th>\n",
       "      <th>House price of unit area</th>\n",
       "    </tr>\n",
       "  </thead>\n",
       "  <tbody>\n",
       "    <tr>\n",
       "      <th>0</th>\n",
       "      <td>2012.916667</td>\n",
       "      <td>32.0</td>\n",
       "      <td>84.87882</td>\n",
       "      <td>10</td>\n",
       "      <td>24.98298</td>\n",
       "      <td>121.54024</td>\n",
       "      <td>1</td>\n",
       "      <td>575</td>\n",
       "      <td>37.9</td>\n",
       "    </tr>\n",
       "    <tr>\n",
       "      <th>1</th>\n",
       "      <td>2012.916667</td>\n",
       "      <td>19.5</td>\n",
       "      <td>306.59470</td>\n",
       "      <td>9</td>\n",
       "      <td>24.98034</td>\n",
       "      <td>121.53951</td>\n",
       "      <td>2</td>\n",
       "      <td>1240</td>\n",
       "      <td>42.2</td>\n",
       "    </tr>\n",
       "    <tr>\n",
       "      <th>2</th>\n",
       "      <td>2013.583333</td>\n",
       "      <td>13.3</td>\n",
       "      <td>561.98450</td>\n",
       "      <td>5</td>\n",
       "      <td>24.98746</td>\n",
       "      <td>121.54391</td>\n",
       "      <td>3</td>\n",
       "      <td>1060</td>\n",
       "      <td>47.3</td>\n",
       "    </tr>\n",
       "    <tr>\n",
       "      <th>3</th>\n",
       "      <td>2013.500000</td>\n",
       "      <td>13.3</td>\n",
       "      <td>561.98450</td>\n",
       "      <td>5</td>\n",
       "      <td>24.98746</td>\n",
       "      <td>121.54391</td>\n",
       "      <td>2</td>\n",
       "      <td>875</td>\n",
       "      <td>54.8</td>\n",
       "    </tr>\n",
       "    <tr>\n",
       "      <th>4</th>\n",
       "      <td>2012.833333</td>\n",
       "      <td>5.0</td>\n",
       "      <td>390.56840</td>\n",
       "      <td>5</td>\n",
       "      <td>24.97937</td>\n",
       "      <td>121.54245</td>\n",
       "      <td>1</td>\n",
       "      <td>491</td>\n",
       "      <td>43.1</td>\n",
       "    </tr>\n",
       "  </tbody>\n",
       "</table>\n",
       "</div>"
      ],
      "text/plain": [
       "   Transaction date  House Age  Distance from nearest Metro station (km)  \\\n",
       "0       2012.916667       32.0                                  84.87882   \n",
       "1       2012.916667       19.5                                 306.59470   \n",
       "2       2013.583333       13.3                                 561.98450   \n",
       "3       2013.500000       13.3                                 561.98450   \n",
       "4       2012.833333        5.0                                 390.56840   \n",
       "\n",
       "   Number of convenience stores  latitude  longitude  Number of bedrooms  \\\n",
       "0                            10  24.98298  121.54024                   1   \n",
       "1                             9  24.98034  121.53951                   2   \n",
       "2                             5  24.98746  121.54391                   3   \n",
       "3                             5  24.98746  121.54391                   2   \n",
       "4                             5  24.97937  121.54245                   1   \n",
       "\n",
       "   House size (sqft)  House price of unit area  \n",
       "0                575                      37.9  \n",
       "1               1240                      42.2  \n",
       "2               1060                      47.3  \n",
       "3                875                      54.8  \n",
       "4                491                      43.1  "
      ]
     },
     "execution_count": 4,
     "metadata": {},
     "output_type": "execute_result"
    }
   ],
   "source": [
    "df.head()"
   ]
  },
  {
   "cell_type": "code",
   "execution_count": 5,
   "metadata": {},
   "outputs": [
    {
     "data": {
      "text/html": [
       "<div>\n",
       "<style scoped>\n",
       "    .dataframe tbody tr th:only-of-type {\n",
       "        vertical-align: middle;\n",
       "    }\n",
       "\n",
       "    .dataframe tbody tr th {\n",
       "        vertical-align: top;\n",
       "    }\n",
       "\n",
       "    .dataframe thead th {\n",
       "        text-align: right;\n",
       "    }\n",
       "</style>\n",
       "<table border=\"1\" class=\"dataframe\">\n",
       "  <thead>\n",
       "    <tr style=\"text-align: right;\">\n",
       "      <th></th>\n",
       "      <th>Transaction date</th>\n",
       "      <th>House Age</th>\n",
       "      <th>Distance from nearest Metro station (km)</th>\n",
       "      <th>Number of convenience stores</th>\n",
       "      <th>latitude</th>\n",
       "      <th>longitude</th>\n",
       "      <th>Number of bedrooms</th>\n",
       "      <th>House size (sqft)</th>\n",
       "      <th>House price of unit area</th>\n",
       "    </tr>\n",
       "  </thead>\n",
       "  <tbody>\n",
       "    <tr>\n",
       "      <th>count</th>\n",
       "      <td>414.000000</td>\n",
       "      <td>414.000000</td>\n",
       "      <td>414.000000</td>\n",
       "      <td>414.000000</td>\n",
       "      <td>414.000000</td>\n",
       "      <td>414.000000</td>\n",
       "      <td>414.000000</td>\n",
       "      <td>414.000000</td>\n",
       "      <td>414.000000</td>\n",
       "    </tr>\n",
       "    <tr>\n",
       "      <th>mean</th>\n",
       "      <td>2013.148953</td>\n",
       "      <td>17.712560</td>\n",
       "      <td>1083.885689</td>\n",
       "      <td>4.094203</td>\n",
       "      <td>24.969030</td>\n",
       "      <td>121.533361</td>\n",
       "      <td>1.987923</td>\n",
       "      <td>931.475845</td>\n",
       "      <td>37.980193</td>\n",
       "    </tr>\n",
       "    <tr>\n",
       "      <th>std</th>\n",
       "      <td>0.281995</td>\n",
       "      <td>11.392485</td>\n",
       "      <td>1262.109595</td>\n",
       "      <td>2.945562</td>\n",
       "      <td>0.012410</td>\n",
       "      <td>0.015347</td>\n",
       "      <td>0.818875</td>\n",
       "      <td>348.910269</td>\n",
       "      <td>13.606488</td>\n",
       "    </tr>\n",
       "    <tr>\n",
       "      <th>min</th>\n",
       "      <td>2012.666667</td>\n",
       "      <td>0.000000</td>\n",
       "      <td>23.382840</td>\n",
       "      <td>0.000000</td>\n",
       "      <td>24.932070</td>\n",
       "      <td>121.473530</td>\n",
       "      <td>1.000000</td>\n",
       "      <td>402.000000</td>\n",
       "      <td>7.600000</td>\n",
       "    </tr>\n",
       "    <tr>\n",
       "      <th>25%</th>\n",
       "      <td>2012.916667</td>\n",
       "      <td>9.025000</td>\n",
       "      <td>289.324800</td>\n",
       "      <td>1.000000</td>\n",
       "      <td>24.963000</td>\n",
       "      <td>121.528085</td>\n",
       "      <td>1.000000</td>\n",
       "      <td>548.000000</td>\n",
       "      <td>27.700000</td>\n",
       "    </tr>\n",
       "    <tr>\n",
       "      <th>50%</th>\n",
       "      <td>2013.166667</td>\n",
       "      <td>16.100000</td>\n",
       "      <td>492.231300</td>\n",
       "      <td>4.000000</td>\n",
       "      <td>24.971100</td>\n",
       "      <td>121.538630</td>\n",
       "      <td>2.000000</td>\n",
       "      <td>975.000000</td>\n",
       "      <td>38.450000</td>\n",
       "    </tr>\n",
       "    <tr>\n",
       "      <th>75%</th>\n",
       "      <td>2013.416667</td>\n",
       "      <td>28.150000</td>\n",
       "      <td>1454.279000</td>\n",
       "      <td>6.000000</td>\n",
       "      <td>24.977455</td>\n",
       "      <td>121.543305</td>\n",
       "      <td>3.000000</td>\n",
       "      <td>1234.750000</td>\n",
       "      <td>46.600000</td>\n",
       "    </tr>\n",
       "    <tr>\n",
       "      <th>max</th>\n",
       "      <td>2013.583333</td>\n",
       "      <td>43.800000</td>\n",
       "      <td>6488.021000</td>\n",
       "      <td>10.000000</td>\n",
       "      <td>25.014590</td>\n",
       "      <td>121.566270</td>\n",
       "      <td>3.000000</td>\n",
       "      <td>1500.000000</td>\n",
       "      <td>117.500000</td>\n",
       "    </tr>\n",
       "  </tbody>\n",
       "</table>\n",
       "</div>"
      ],
      "text/plain": [
       "       Transaction date   House Age  Distance from nearest Metro station (km)  \\\n",
       "count        414.000000  414.000000                                414.000000   \n",
       "mean        2013.148953   17.712560                               1083.885689   \n",
       "std            0.281995   11.392485                               1262.109595   \n",
       "min         2012.666667    0.000000                                 23.382840   \n",
       "25%         2012.916667    9.025000                                289.324800   \n",
       "50%         2013.166667   16.100000                                492.231300   \n",
       "75%         2013.416667   28.150000                               1454.279000   \n",
       "max         2013.583333   43.800000                               6488.021000   \n",
       "\n",
       "       Number of convenience stores    latitude   longitude  \\\n",
       "count                    414.000000  414.000000  414.000000   \n",
       "mean                       4.094203   24.969030  121.533361   \n",
       "std                        2.945562    0.012410    0.015347   \n",
       "min                        0.000000   24.932070  121.473530   \n",
       "25%                        1.000000   24.963000  121.528085   \n",
       "50%                        4.000000   24.971100  121.538630   \n",
       "75%                        6.000000   24.977455  121.543305   \n",
       "max                       10.000000   25.014590  121.566270   \n",
       "\n",
       "       Number of bedrooms  House size (sqft)  House price of unit area  \n",
       "count          414.000000         414.000000                414.000000  \n",
       "mean             1.987923         931.475845                 37.980193  \n",
       "std              0.818875         348.910269                 13.606488  \n",
       "min              1.000000         402.000000                  7.600000  \n",
       "25%              1.000000         548.000000                 27.700000  \n",
       "50%              2.000000         975.000000                 38.450000  \n",
       "75%              3.000000        1234.750000                 46.600000  \n",
       "max              3.000000        1500.000000                117.500000  "
      ]
     },
     "execution_count": 5,
     "metadata": {},
     "output_type": "execute_result"
    }
   ],
   "source": [
    "df.describe()"
   ]
  },
  {
   "cell_type": "markdown",
   "metadata": {},
   "source": [
    "# Data Cleaning"
   ]
  },
  {
   "cell_type": "code",
   "execution_count": 6,
   "metadata": {},
   "outputs": [
    {
     "data": {
      "text/plain": [
       "Transaction date                            float64\n",
       "House Age                                   float64\n",
       "Distance from nearest Metro station (km)    float64\n",
       "Number of convenience stores                  int64\n",
       "latitude                                    float64\n",
       "longitude                                   float64\n",
       "Number of bedrooms                            int64\n",
       "House size (sqft)                             int64\n",
       "House price of unit area                    float64\n",
       "dtype: object"
      ]
     },
     "execution_count": 6,
     "metadata": {},
     "output_type": "execute_result"
    }
   ],
   "source": [
    "df.dtypes"
   ]
  },
  {
   "cell_type": "code",
   "execution_count": 7,
   "metadata": {},
   "outputs": [
    {
     "data": {
      "text/plain": [
       "Transaction date                            0\n",
       "House Age                                   0\n",
       "Distance from nearest Metro station (km)    0\n",
       "Number of convenience stores                0\n",
       "latitude                                    0\n",
       "longitude                                   0\n",
       "Number of bedrooms                          0\n",
       "House size (sqft)                           0\n",
       "House price of unit area                    0\n",
       "dtype: int64"
      ]
     },
     "execution_count": 7,
     "metadata": {},
     "output_type": "execute_result"
    }
   ],
   "source": [
    "df.isnull().sum()"
   ]
  },
  {
   "cell_type": "markdown",
   "metadata": {},
   "source": [
    "No null values in the data set"
   ]
  },
  {
   "cell_type": "code",
   "execution_count": 8,
   "metadata": {},
   "outputs": [
    {
     "name": "stdout",
     "output_type": "stream",
     "text": [
      "(414, 9)\n"
     ]
    },
    {
     "data": {
      "text/plain": [
       "(414, 9)"
      ]
     },
     "execution_count": 8,
     "metadata": {},
     "output_type": "execute_result"
    }
   ],
   "source": [
    "print(df.shape)\n",
    "df.drop_duplicates()\n",
    "df.shape"
   ]
  },
  {
   "cell_type": "code",
   "execution_count": 9,
   "metadata": {},
   "outputs": [],
   "source": [
    "#dropping unnecessary \"X1 transaction date\" columns because we already have house age\n",
    "\n",
    "df = df.drop(['Transaction date'], axis=1)"
   ]
  },
  {
   "cell_type": "markdown",
   "metadata": {},
   "source": [
    "# Data Exploration"
   ]
  },
  {
   "cell_type": "code",
   "execution_count": 10,
   "metadata": {},
   "outputs": [
    {
     "data": {
      "text/html": [
       "<div>\n",
       "<style scoped>\n",
       "    .dataframe tbody tr th:only-of-type {\n",
       "        vertical-align: middle;\n",
       "    }\n",
       "\n",
       "    .dataframe tbody tr th {\n",
       "        vertical-align: top;\n",
       "    }\n",
       "\n",
       "    .dataframe thead th {\n",
       "        text-align: right;\n",
       "    }\n",
       "</style>\n",
       "<table border=\"1\" class=\"dataframe\">\n",
       "  <thead>\n",
       "    <tr style=\"text-align: right;\">\n",
       "      <th></th>\n",
       "      <th>House Age</th>\n",
       "      <th>Distance from nearest Metro station (km)</th>\n",
       "      <th>Number of convenience stores</th>\n",
       "      <th>latitude</th>\n",
       "      <th>longitude</th>\n",
       "      <th>Number of bedrooms</th>\n",
       "      <th>House size (sqft)</th>\n",
       "      <th>House price of unit area</th>\n",
       "    </tr>\n",
       "  </thead>\n",
       "  <tbody>\n",
       "    <tr>\n",
       "      <th>House Age</th>\n",
       "      <td>1.000000</td>\n",
       "      <td>0.025622</td>\n",
       "      <td>0.049593</td>\n",
       "      <td>0.054420</td>\n",
       "      <td>-0.048520</td>\n",
       "      <td>-0.008756</td>\n",
       "      <td>-0.060361</td>\n",
       "      <td>-0.210567</td>\n",
       "    </tr>\n",
       "    <tr>\n",
       "      <th>Distance from nearest Metro station (km)</th>\n",
       "      <td>0.025622</td>\n",
       "      <td>1.000000</td>\n",
       "      <td>-0.602519</td>\n",
       "      <td>-0.591067</td>\n",
       "      <td>-0.806317</td>\n",
       "      <td>-0.046856</td>\n",
       "      <td>0.001795</td>\n",
       "      <td>-0.673613</td>\n",
       "    </tr>\n",
       "    <tr>\n",
       "      <th>Number of convenience stores</th>\n",
       "      <td>0.049593</td>\n",
       "      <td>-0.602519</td>\n",
       "      <td>1.000000</td>\n",
       "      <td>0.444143</td>\n",
       "      <td>0.449099</td>\n",
       "      <td>0.043638</td>\n",
       "      <td>0.033286</td>\n",
       "      <td>0.571005</td>\n",
       "    </tr>\n",
       "    <tr>\n",
       "      <th>latitude</th>\n",
       "      <td>0.054420</td>\n",
       "      <td>-0.591067</td>\n",
       "      <td>0.444143</td>\n",
       "      <td>1.000000</td>\n",
       "      <td>0.412924</td>\n",
       "      <td>0.043921</td>\n",
       "      <td>0.031696</td>\n",
       "      <td>0.546307</td>\n",
       "    </tr>\n",
       "    <tr>\n",
       "      <th>longitude</th>\n",
       "      <td>-0.048520</td>\n",
       "      <td>-0.806317</td>\n",
       "      <td>0.449099</td>\n",
       "      <td>0.412924</td>\n",
       "      <td>1.000000</td>\n",
       "      <td>0.041680</td>\n",
       "      <td>0.009322</td>\n",
       "      <td>0.523287</td>\n",
       "    </tr>\n",
       "    <tr>\n",
       "      <th>Number of bedrooms</th>\n",
       "      <td>-0.008756</td>\n",
       "      <td>-0.046856</td>\n",
       "      <td>0.043638</td>\n",
       "      <td>0.043921</td>\n",
       "      <td>0.041680</td>\n",
       "      <td>1.000000</td>\n",
       "      <td>0.752276</td>\n",
       "      <td>0.050265</td>\n",
       "    </tr>\n",
       "    <tr>\n",
       "      <th>House size (sqft)</th>\n",
       "      <td>-0.060361</td>\n",
       "      <td>0.001795</td>\n",
       "      <td>0.033286</td>\n",
       "      <td>0.031696</td>\n",
       "      <td>0.009322</td>\n",
       "      <td>0.752276</td>\n",
       "      <td>1.000000</td>\n",
       "      <td>0.046489</td>\n",
       "    </tr>\n",
       "    <tr>\n",
       "      <th>House price of unit area</th>\n",
       "      <td>-0.210567</td>\n",
       "      <td>-0.673613</td>\n",
       "      <td>0.571005</td>\n",
       "      <td>0.546307</td>\n",
       "      <td>0.523287</td>\n",
       "      <td>0.050265</td>\n",
       "      <td>0.046489</td>\n",
       "      <td>1.000000</td>\n",
       "    </tr>\n",
       "  </tbody>\n",
       "</table>\n",
       "</div>"
      ],
      "text/plain": [
       "                                          House Age  \\\n",
       "House Age                                  1.000000   \n",
       "Distance from nearest Metro station (km)   0.025622   \n",
       "Number of convenience stores               0.049593   \n",
       "latitude                                   0.054420   \n",
       "longitude                                 -0.048520   \n",
       "Number of bedrooms                        -0.008756   \n",
       "House size (sqft)                         -0.060361   \n",
       "House price of unit area                  -0.210567   \n",
       "\n",
       "                                          Distance from nearest Metro station (km)  \\\n",
       "House Age                                                                 0.025622   \n",
       "Distance from nearest Metro station (km)                                  1.000000   \n",
       "Number of convenience stores                                             -0.602519   \n",
       "latitude                                                                 -0.591067   \n",
       "longitude                                                                -0.806317   \n",
       "Number of bedrooms                                                       -0.046856   \n",
       "House size (sqft)                                                         0.001795   \n",
       "House price of unit area                                                 -0.673613   \n",
       "\n",
       "                                          Number of convenience stores  \\\n",
       "House Age                                                     0.049593   \n",
       "Distance from nearest Metro station (km)                     -0.602519   \n",
       "Number of convenience stores                                  1.000000   \n",
       "latitude                                                      0.444143   \n",
       "longitude                                                     0.449099   \n",
       "Number of bedrooms                                            0.043638   \n",
       "House size (sqft)                                             0.033286   \n",
       "House price of unit area                                      0.571005   \n",
       "\n",
       "                                          latitude  longitude  \\\n",
       "House Age                                 0.054420  -0.048520   \n",
       "Distance from nearest Metro station (km) -0.591067  -0.806317   \n",
       "Number of convenience stores              0.444143   0.449099   \n",
       "latitude                                  1.000000   0.412924   \n",
       "longitude                                 0.412924   1.000000   \n",
       "Number of bedrooms                        0.043921   0.041680   \n",
       "House size (sqft)                         0.031696   0.009322   \n",
       "House price of unit area                  0.546307   0.523287   \n",
       "\n",
       "                                          Number of bedrooms  \\\n",
       "House Age                                          -0.008756   \n",
       "Distance from nearest Metro station (km)           -0.046856   \n",
       "Number of convenience stores                        0.043638   \n",
       "latitude                                            0.043921   \n",
       "longitude                                           0.041680   \n",
       "Number of bedrooms                                  1.000000   \n",
       "House size (sqft)                                   0.752276   \n",
       "House price of unit area                            0.050265   \n",
       "\n",
       "                                          House size (sqft)  \\\n",
       "House Age                                         -0.060361   \n",
       "Distance from nearest Metro station (km)           0.001795   \n",
       "Number of convenience stores                       0.033286   \n",
       "latitude                                           0.031696   \n",
       "longitude                                          0.009322   \n",
       "Number of bedrooms                                 0.752276   \n",
       "House size (sqft)                                  1.000000   \n",
       "House price of unit area                           0.046489   \n",
       "\n",
       "                                          House price of unit area  \n",
       "House Age                                                -0.210567  \n",
       "Distance from nearest Metro station (km)                 -0.673613  \n",
       "Number of convenience stores                              0.571005  \n",
       "latitude                                                  0.546307  \n",
       "longitude                                                 0.523287  \n",
       "Number of bedrooms                                        0.050265  \n",
       "House size (sqft)                                         0.046489  \n",
       "House price of unit area                                  1.000000  "
      ]
     },
     "execution_count": 10,
     "metadata": {},
     "output_type": "execute_result"
    }
   ],
   "source": [
    "df.corr()"
   ]
  },
  {
   "cell_type": "markdown",
   "metadata": {},
   "source": [
    "We can easily see that Target \"Y house price of unit area\" does not depend upon much on \"house age\". Also there is almost a zero correlation between target and number of bedrooms and house size feature.\n",
    "\n",
    "It is corrleated to the location of the house(latitude and longitude) and number of convenience stores."
   ]
  },
  {
   "cell_type": "code",
   "execution_count": 11,
   "metadata": {},
   "outputs": [
    {
     "data": {
      "text/plain": [
       "<matplotlib.axes._subplots.AxesSubplot at 0x1f211907bb0>"
      ]
     },
     "execution_count": 11,
     "metadata": {},
     "output_type": "execute_result"
    },
    {
     "data": {
      "image/png": "[encoded data removed]",
      "text/plain": [
       "<Figure size 1440x1440 with 2 Axes>"
      ]
     },
     "metadata": {
      "needs_background": "light"
     },
     "output_type": "display_data"
    }
   ],
   "source": [
    "#Let's plot a heat map see what is going on\n",
    "\n",
    "plt.figure(figsize=(20,20))\n",
    "sns.heatmap(df.corr())"
   ]
  },
  {
   "cell_type": "markdown",
   "metadata": {},
   "source": [
    "Clearly, we can see the house price is positively correlated with number of convenience store and latitude and longitude."
   ]
  },
  {
   "cell_type": "markdown",
   "metadata": {},
   "source": [
    "# Removing Outliers"
   ]
  },
  {
   "cell_type": "code",
   "execution_count": 12,
   "metadata": {},
   "outputs": [],
   "source": [
    "#first change these big column names\n",
    "\n",
    "df.columns = ['house_age', 'nearest_MRT', 'convenience_stores', 'latitude', 'longitude','bedrooms','house_size', 'house_price']"
   ]
  },
  {
   "cell_type": "code",
   "execution_count": 13,
   "metadata": {},
   "outputs": [
    {
     "data": {
      "text/plain": [
       "<matplotlib.axes._subplots.AxesSubplot at 0x1f214272af0>"
      ]
     },
     "execution_count": 13,
     "metadata": {},
     "output_type": "execute_result"
    },
    {
     "data": {
      "image/png": "[encoded data removed]",
      "text/plain": [
       "<Figure size 432x288 with 1 Axes>"
      ]
     },
     "metadata": {
      "needs_background": "light"
     },
     "output_type": "display_data"
    }
   ],
   "source": [
    "sns.boxplot(df.house_price)"
   ]
  },
  {
   "cell_type": "code",
   "execution_count": 14,
   "metadata": {},
   "outputs": [
    {
     "data": {
      "text/plain": [
       "270    117.5\n",
       "220     78.3\n",
       "312     78.0\n",
       "166     73.6\n",
       "105     71.0\n",
       "Name: house_price, dtype: float64"
      ]
     },
     "execution_count": 14,
     "metadata": {},
     "output_type": "execute_result"
    }
   ],
   "source": [
    "df.house_price.sort_values(ascending=False).head()"
   ]
  },
  {
   "cell_type": "code",
   "execution_count": 15,
   "metadata": {},
   "outputs": [
    {
     "data": {
      "text/plain": [
       "count    414.000000\n",
       "mean      37.980193\n",
       "std       13.606488\n",
       "min        7.600000\n",
       "25%       27.700000\n",
       "50%       38.450000\n",
       "75%       46.600000\n",
       "max      117.500000\n",
       "Name: house_price, dtype: float64"
      ]
     },
     "execution_count": 15,
     "metadata": {},
     "output_type": "execute_result"
    }
   ],
   "source": [
    "df['house_price'].describe()"
   ]
  },
  {
   "cell_type": "code",
   "execution_count": 16,
   "metadata": {},
   "outputs": [
    {
     "data": {
      "text/plain": [
       "(413, 8)"
      ]
     },
     "execution_count": 16,
     "metadata": {},
     "output_type": "execute_result"
    }
   ],
   "source": [
    "## Remove observations with house_price greater than 80.\n",
    "df = df[df.house_price <= 80]\n",
    "df.shape"
   ]
  },
  {
   "cell_type": "code",
   "execution_count": 17,
   "metadata": {},
   "outputs": [
    {
     "data": {
      "text/plain": [
       "house_age            -0.881056\n",
       "nearest_MRT           3.193445\n",
       "convenience_stores   -1.064560\n",
       "latitude              0.262361\n",
       "longitude             1.194639\n",
       "bedrooms             -1.512117\n",
       "house_size           -1.421163\n",
       "house_price          -0.243291\n",
       "dtype: float64"
      ]
     },
     "execution_count": 17,
     "metadata": {},
     "output_type": "execute_result"
    }
   ],
   "source": [
    "df.kurt()"
   ]
  },
  {
   "cell_type": "markdown",
   "metadata": {},
   "source": [
    "Kurtosis > 3 is said to be platykurtic. Here only the distance from the metro station is said to be platykuric and rest all are leptokurtic"
   ]
  },
  {
   "cell_type": "code",
   "execution_count": 18,
   "metadata": {},
   "outputs": [
    {
     "data": {
      "text/plain": [
       "house_age             0.379098\n",
       "nearest_MRT           1.885365\n",
       "convenience_stores    0.150203\n",
       "latitude             -0.435341\n",
       "longitude            -1.219649\n",
       "bedrooms              0.022390\n",
       "house_size           -0.109866\n",
       "house_price           0.174349\n",
       "dtype: float64"
      ]
     },
     "execution_count": 18,
     "metadata": {},
     "output_type": "execute_result"
    }
   ],
   "source": [
    "df.skew()"
   ]
  },
  {
   "cell_type": "markdown",
   "metadata": {},
   "source": [
    "not much skewness visible in the dataset."
   ]
  },
  {
   "cell_type": "markdown",
   "metadata": {},
   "source": [
    "# Examining the Distributons and the Relationships"
   ]
  },
  {
   "cell_type": "code",
   "execution_count": 19,
   "metadata": {},
   "outputs": [
    {
     "data": {
      "text/plain": [
       "Text(0.5, 1.0, 'convenience_stores')"
      ]
     },
     "execution_count": 19,
     "metadata": {},
     "output_type": "execute_result"
    },
    {
     "data": {
      "image/png": "[encoded data removed]",
      "text/plain": [
       "<Figure size 720x576 with 4 Axes>"
      ]
     },
     "metadata": {
      "needs_background": "light"
     },
     "output_type": "display_data"
    }
   ],
   "source": [
    "# visualise the distribution of continuous variables\n",
    "plt.rcParams['figure.figsize'] = [10,8]\n",
    "fig , axis = plt.subplots(2,2)\n",
    "axis[0,0].hist(df.house_price)\n",
    "axis[0,0].set_title('house price hist')\n",
    "axis[0,1].hist(df.house_age)\n",
    "axis[0,1].set_title('house age hist')\n",
    "axis[1,0].hist(df.nearest_MRT)\n",
    "axis[1,0].set_title('distance_to_the_nearest_MRT_station')\n",
    "axis[1,1].hist(df.convenience_stores)\n",
    "axis[1,1].set_title('convenience_stores')"
   ]
  },
  {
   "cell_type": "markdown",
   "metadata": {},
   "source": [
    "House age varies from 0 to 43 years, with 3 peaks: 0-6 years,12-18 years, 30-36 years.\n",
    "Most houses are located within 1 km of the nearest MRT station.From the above charts, it can be it can be assumed that variables house price, house age and number of convenient stores are symmetric and thus are normal. The variable distance from the nearest metro station seems to be positively skewed but can be standardised for our convenience."
   ]
  },
  {
   "cell_type": "code",
   "execution_count": 20,
   "metadata": {},
   "outputs": [],
   "source": [
    "# log transformation\n",
    "nearest_MRT = np.log10(df.nearest_MRT)"
   ]
  },
  {
   "cell_type": "code",
   "execution_count": 21,
   "metadata": {},
   "outputs": [
    {
     "data": {
      "text/plain": [
       "(array([ 2.,  6., 27., 44., 77., 94., 39., 54., 34., 36.]),\n",
       " array([1.36889726, 1.61321876, 1.85754026, 2.10186175, 2.34618325,\n",
       "        2.59050475, 2.83482625, 3.07914775, 3.32346925, 3.56779075,\n",
       "        3.81211225]),\n",
       " <a list of 10 Patch objects>)"
      ]
     },
     "execution_count": 21,
     "metadata": {},
     "output_type": "execute_result"
    },
    {
     "data": {
      "image/png": "[encoded data removed]",
      "text/plain": [
       "<Figure size 720x576 with 1 Axes>"
      ]
     },
     "metadata": {
      "needs_background": "light"
     },
     "output_type": "display_data"
    }
   ],
   "source": [
    "plt.hist(nearest_MRT)"
   ]
  },
  {
   "cell_type": "markdown",
   "metadata": {},
   "source": [
    "From the above chart it can be drawn that the variable distance from the nearest metro station is standardised as it seems to be symmetric in nature."
   ]
  },
  {
   "cell_type": "code",
   "execution_count": 22,
   "metadata": {},
   "outputs": [],
   "source": [
    "# replacing earlier column with transformed one\n",
    "df['nearest_MRT'] = nearest_MRT"
   ]
  },
  {
   "cell_type": "code",
   "execution_count": 23,
   "metadata": {},
   "outputs": [
    {
     "data": {
      "image/png": "[encoded data removed]",
      "text/plain": [
       "<Figure size 720x576 with 1 Axes>"
      ]
     },
     "metadata": {
      "needs_background": "light"
     },
     "output_type": "display_data"
    }
   ],
   "source": [
    "# visualise X4 number of convenience stores\n",
    "sns.countplot(x = 'convenience_stores', data = df)\n",
    "plt.tight_layout(rect=(0, 0, 2.5, 2.5)) "
   ]
  },
  {
   "cell_type": "markdown",
   "metadata": {},
   "source": [
    "Approximately 1 house in 6 does not have any convenience store in the living circle on foot. These houses are probably located in residential areas.\n",
    "Half of the houses has between 1 and 6 convenience stores in the living circle on foot."
   ]
  },
  {
   "cell_type": "code",
   "execution_count": 24,
   "metadata": {},
   "outputs": [
    {
     "data": {
      "image/png": "[encoded data removed]",
      "text/plain": [
       "<Figure size 1440x648 with 2 Axes>"
      ]
     },
     "metadata": {
      "needs_background": "light"
     },
     "output_type": "display_data"
    }
   ],
   "source": [
    "# visualise the distribution of latitude and longitude\n",
    "fig = df[['latitude',\n",
    "          'longitude',\n",
    "          ]].hist(bins=15,\n",
    "                 color='steelblue',\n",
    "                 xlabelsize=10, ylabelsize=10,\n",
    "                 figsize=(20,9),\n",
    "                 grid=False)"
   ]
  },
  {
   "cell_type": "markdown",
   "metadata": {},
   "source": [
    "Most of the houses are located in the East central part of the area within the extreme values of latitude and longitude of this dataset."
   ]
  },
  {
   "cell_type": "code",
   "execution_count": 25,
   "metadata": {},
   "outputs": [
    {
     "data": {
      "text/plain": [
       "Text(0, 0.5, 'House Price')"
      ]
     },
     "execution_count": 25,
     "metadata": {},
     "output_type": "execute_result"
    },
    {
     "data": {
      "image/png": "[encoded data removed]",
      "text/plain": [
       "<Figure size 770x560 with 3 Axes>"
      ]
     },
     "metadata": {
      "needs_background": "light"
     },
     "output_type": "display_data"
    }
   ],
   "source": [
    "#Parameter of the graphs\n",
    "fig = plt.figure(figsize=(11,8), dpi=70)\n",
    "#House Age vs Price per Unit\n",
    "plt.subplot(3,1,1)\n",
    "x1 = df['house_age']\n",
    "y = df['house_price'];\n",
    "plt.scatter(x1,y,marker='x')\n",
    "plt.title('House Age vs House Price');\n",
    "plt.xlabel('House Age')\n",
    "plt.ylabel('Price per Unit')\n",
    "plt.tight_layout()\n",
    "#Stores vs Price per Unit\n",
    "plt.subplot(3,1,2)\n",
    "x2 = df['convenience_stores']\n",
    "y = df['house_price'];\n",
    "plt.scatter(x2,y, marker='^')\n",
    "plt.title('Number of stores vs House Price');\n",
    "plt.xlabel('Number of stores')\n",
    "plt.ylabel('House Price')\n",
    "plt.tight_layout()\n",
    "#Nbr of bedrooms vs Price per Unit\n",
    "plt.subplot(3,1,3)\n",
    "x4 = df['bedrooms']\n",
    "y = df['house_price'];\n",
    "plt.scatter(x4,y, marker='x')\n",
    "plt.title('Number of bedrooms vs House Price');\n",
    "plt.xlabel('Number of bedrooms')\n",
    "plt.ylabel('House Price')"
   ]
  },
  {
   "cell_type": "markdown",
   "metadata": {},
   "source": [
    "There is no much pattern that can be explained from this scatter plot no clear discrimination of target happening with these 3 features."
   ]
  },
  {
   "cell_type": "code",
   "execution_count": 26,
   "metadata": {},
   "outputs": [
    {
     "data": {
      "text/plain": [
       "Text(0, 0.5, 'House Price')"
      ]
     },
     "execution_count": 26,
     "metadata": {},
     "output_type": "execute_result"
    },
    {
     "data": {
      "image/png": "[encoded data removed]",
      "text/plain": [
       "<Figure size 936x216 with 1 Axes>"
      ]
     },
     "metadata": {
      "needs_background": "light"
     },
     "output_type": "display_data"
    }
   ],
   "source": [
    "#lets explore the relation between house size vs house price \n",
    "fig = plt.figure(figsize=(13,3)) \n",
    "#Data Gathering\n",
    "x3 = df['house_size']\n",
    "y = df['house_price']\n",
    "plt.scatter(x3,y, marker='^')   #Data points\n",
    "plt.title('House Size vs House Price');\n",
    "plt.xlabel('House Size')\n",
    "plt.ylabel('House Price')"
   ]
  },
  {
   "cell_type": "markdown",
   "metadata": {},
   "source": [
    "It implies house size has  almost no effect on the price of houses."
   ]
  },
  {
   "cell_type": "code",
   "execution_count": 27,
   "metadata": {},
   "outputs": [
    {
     "data": {
      "text/plain": [
       "Text(0, 0.5, 'House Price')"
      ]
     },
     "execution_count": 27,
     "metadata": {},
     "output_type": "execute_result"
    },
    {
     "data": {
      "image/png": "[encoded data removed]",
      "text/plain": [
       "<Figure size 936x216 with 1 Axes>"
      ]
     },
     "metadata": {
      "needs_background": "light"
     },
     "output_type": "display_data"
    }
   ],
   "source": [
    "#lets explore the relation between distance from the nearest metro station vs house price \n",
    "#Distance to the nearest MRT station vs Price per Unit\n",
    "fig = plt.figure(figsize=(13,3)) \n",
    "#Data Gathering\n",
    "x3 = df['nearest_MRT']\n",
    "y = df['house_price']\n",
    "plt.scatter(x3,y, marker='^')   #Data points\n",
    "plt.title('Distance to the nearest MRT vs House Price');\n",
    "plt.xlabel('Distance to the nearest MRT')\n",
    "plt.ylabel('House Price')"
   ]
  },
  {
   "cell_type": "markdown",
   "metadata": {},
   "source": [
    "Looking at the figure, it looks like more the house is near to the MRT station, the house price tends to be higher. This figure, shows a certain relationship between the distance to the nearest MRT station and the house price.So this feature gives us a clear discriminative feature for the target.So this is a relevant feature."
   ]
  },
  {
   "cell_type": "code",
   "execution_count": 28,
   "metadata": {},
   "outputs": [],
   "source": [
    "#library to convert latitude and longitude values\n",
    "from scipy.cluster.vq import kmeans2, whiten"
   ]
  },
  {
   "cell_type": "markdown",
   "metadata": {},
   "source": [
    "# Feature Engineering"
   ]
  },
  {
   "cell_type": "code",
   "execution_count": 29,
   "metadata": {},
   "outputs": [],
   "source": [
    "#Add attribute Region based on latitude and longitude values\n",
    "np.random.seed(12345678)\n",
    "coordinates = np.array(df[['latitude','longitude']])\n",
    "\n",
    "\n",
    "x,df['Region'] = kmeans2(whiten(coordinates), 4, iter = 20,) \n",
    "df['Region'].loc[df['Region']==0]='Region0'\n",
    "df['Region'].loc[df['Region']==1]='Region1'\n",
    "df['Region'].loc[df['Region']==2]='Region2'\n",
    "df['Region'].loc[df['Region']==3]='Region3'"
   ]
  },
  {
   "cell_type": "code",
   "execution_count": 30,
   "metadata": {},
   "outputs": [
    {
     "data": {
      "text/plain": [
       "5     67\n",
       "0     67\n",
       "3     46\n",
       "1     45\n",
       "6     37\n",
       "7     31\n",
       "4     31\n",
       "8     30\n",
       "9     25\n",
       "2     24\n",
       "10    10\n",
       "Name: convenience_stores, dtype: int64"
      ]
     },
     "execution_count": 30,
     "metadata": {},
     "output_type": "execute_result"
    }
   ],
   "source": [
    "df['convenience_stores'].value_counts()"
   ]
  },
  {
   "cell_type": "code",
   "execution_count": 31,
   "metadata": {},
   "outputs": [],
   "source": [
    "#A new categorical variable store_cat is added based on the number of Nearby Stores\n",
    "df['store_cat']=np.nan\n",
    "\n",
    "\n",
    "for homes in [df]:\n",
    "    homes.loc[homes['convenience_stores'] <5,'store_cat'] = 'Less'\n",
    "    homes.loc[homes['convenience_stores'] >=5,'store_cat']='More'"
   ]
  },
  {
   "cell_type": "code",
   "execution_count": 32,
   "metadata": {},
   "outputs": [],
   "source": [
    "#New categorical variable age_cat is added as 'NewHome' <15 years, 'MiddleAgedHome' between 15 to 25,\n",
    "#'OldHome' > 25 based on age of the house\n",
    "df['house_age_cat']=np.nan\n",
    "\n",
    "\n",
    "for homes in [df]:\n",
    "    homes.loc[homes['house_age'] <15,'house_age_cat'] = 'New Home'\n",
    "    homes.loc[(homes['house_age'] >=15) &(homes['house_age'] <30),'house_age_cat']='Middle Aged Home'\n",
    "    homes.loc[homes['house_age'] >=30,'house_age_cat']='OldHome'"
   ]
  },
  {
   "cell_type": "code",
   "execution_count": 33,
   "metadata": {},
   "outputs": [
    {
     "data": {
      "text/html": [
       "<div>\n",
       "<style scoped>\n",
       "    .dataframe tbody tr th:only-of-type {\n",
       "        vertical-align: middle;\n",
       "    }\n",
       "\n",
       "    .dataframe tbody tr th {\n",
       "        vertical-align: top;\n",
       "    }\n",
       "\n",
       "    .dataframe thead th {\n",
       "        text-align: right;\n",
       "    }\n",
       "</style>\n",
       "<table border=\"1\" class=\"dataframe\">\n",
       "  <thead>\n",
       "    <tr style=\"text-align: right;\">\n",
       "      <th></th>\n",
       "      <th>house_age</th>\n",
       "      <th>nearest_MRT</th>\n",
       "      <th>convenience_stores</th>\n",
       "      <th>latitude</th>\n",
       "      <th>longitude</th>\n",
       "      <th>bedrooms</th>\n",
       "      <th>house_size</th>\n",
       "      <th>house_price</th>\n",
       "      <th>Region</th>\n",
       "      <th>store_cat</th>\n",
       "      <th>house_age_cat</th>\n",
       "    </tr>\n",
       "  </thead>\n",
       "  <tbody>\n",
       "    <tr>\n",
       "      <th>0</th>\n",
       "      <td>32.0</td>\n",
       "      <td>1.928799</td>\n",
       "      <td>10</td>\n",
       "      <td>24.98298</td>\n",
       "      <td>121.54024</td>\n",
       "      <td>1</td>\n",
       "      <td>575</td>\n",
       "      <td>37.9</td>\n",
       "      <td>Region2</td>\n",
       "      <td>More</td>\n",
       "      <td>OldHome</td>\n",
       "    </tr>\n",
       "    <tr>\n",
       "      <th>1</th>\n",
       "      <td>19.5</td>\n",
       "      <td>2.486565</td>\n",
       "      <td>9</td>\n",
       "      <td>24.98034</td>\n",
       "      <td>121.53951</td>\n",
       "      <td>2</td>\n",
       "      <td>1240</td>\n",
       "      <td>42.2</td>\n",
       "      <td>Region2</td>\n",
       "      <td>More</td>\n",
       "      <td>Middle Aged Home</td>\n",
       "    </tr>\n",
       "    <tr>\n",
       "      <th>2</th>\n",
       "      <td>13.3</td>\n",
       "      <td>2.749724</td>\n",
       "      <td>5</td>\n",
       "      <td>24.98746</td>\n",
       "      <td>121.54391</td>\n",
       "      <td>3</td>\n",
       "      <td>1060</td>\n",
       "      <td>47.3</td>\n",
       "      <td>Region2</td>\n",
       "      <td>More</td>\n",
       "      <td>New Home</td>\n",
       "    </tr>\n",
       "    <tr>\n",
       "      <th>3</th>\n",
       "      <td>13.3</td>\n",
       "      <td>2.749724</td>\n",
       "      <td>5</td>\n",
       "      <td>24.98746</td>\n",
       "      <td>121.54391</td>\n",
       "      <td>2</td>\n",
       "      <td>875</td>\n",
       "      <td>54.8</td>\n",
       "      <td>Region2</td>\n",
       "      <td>More</td>\n",
       "      <td>New Home</td>\n",
       "    </tr>\n",
       "    <tr>\n",
       "      <th>4</th>\n",
       "      <td>5.0</td>\n",
       "      <td>2.591697</td>\n",
       "      <td>5</td>\n",
       "      <td>24.97937</td>\n",
       "      <td>121.54245</td>\n",
       "      <td>1</td>\n",
       "      <td>491</td>\n",
       "      <td>43.1</td>\n",
       "      <td>Region2</td>\n",
       "      <td>More</td>\n",
       "      <td>New Home</td>\n",
       "    </tr>\n",
       "  </tbody>\n",
       "</table>\n",
       "</div>"
      ],
      "text/plain": [
       "   house_age  nearest_MRT  convenience_stores  latitude  longitude  bedrooms  \\\n",
       "0       32.0     1.928799                  10  24.98298  121.54024         1   \n",
       "1       19.5     2.486565                   9  24.98034  121.53951         2   \n",
       "2       13.3     2.749724                   5  24.98746  121.54391         3   \n",
       "3       13.3     2.749724                   5  24.98746  121.54391         2   \n",
       "4        5.0     2.591697                   5  24.97937  121.54245         1   \n",
       "\n",
       "   house_size  house_price   Region store_cat     house_age_cat  \n",
       "0         575         37.9  Region2      More           OldHome  \n",
       "1        1240         42.2  Region2      More  Middle Aged Home  \n",
       "2        1060         47.3  Region2      More          New Home  \n",
       "3         875         54.8  Region2      More          New Home  \n",
       "4         491         43.1  Region2      More          New Home  "
      ]
     },
     "execution_count": 33,
     "metadata": {},
     "output_type": "execute_result"
    }
   ],
   "source": [
    "df.head()"
   ]
  },
  {
   "cell_type": "code",
   "execution_count": 34,
   "metadata": {},
   "outputs": [],
   "source": [
    "#Does  the number of convenince stores depends on region\n",
    "stores_r0 = df['convenience_stores'].loc[df['Region']=='Region0'].values\n",
    "stores_r1 = df['convenience_stores'].loc[df['Region']=='Region1'].values\n",
    "stores_r2 = df['convenience_stores'].loc[df['Region']=='Region2'].values\n",
    "stores_r3 = df['convenience_stores'].loc[df['Region']=='Region3'].values\n"
   ]
  },
  {
   "cell_type": "code",
   "execution_count": 35,
   "metadata": {},
   "outputs": [
    {
     "data": {
      "application/vnd.plotly.v1+json": {
       "config": {
        "linkText": "Export to plot.ly",
        "plotlyServerURL": "https://plot.ly",
        "showLink": false
       },
       "data": [
        {
         "boxmean": true,
         "marker": {
          "color": "rgb(214, 12, 140)"
         },
         "name": "region 0",
         "type": "box",
         "y": [
          3,
          3,
          4,
          3,
          2,
          2,
          3,
          2,
          3,
          3,
          3,
          4,
          3,
          3,
          3,
          3,
          3,
          3,
          3,
          3,
          3,
          3,
          3,
          4,
          2,
          3,
          3,
          2,
          4,
          3,
          3,
          3,
          3,
          3,
          3,
          3,
          3,
          2,
          3,
          2,
          3,
          3,
          3,
          4,
          2,
          3,
          2,
          3,
          4,
          2,
          3,
          3
         ]
        },
        {
         "boxmean": true,
         "marker": {
          "color": "rgb(0, 128, 128)"
         },
         "name": "region 1",
         "type": "box",
         "y": [
          1,
          0,
          0,
          0,
          0,
          1,
          1,
          0,
          0,
          0,
          1,
          0,
          0,
          0,
          0,
          0,
          0,
          0,
          0,
          0,
          0,
          0,
          0,
          0,
          1,
          1,
          1,
          0,
          0,
          0,
          0,
          1,
          0,
          0,
          1,
          0
         ]
        },
        {
         "boxmean": true,
         "marker": {
          "color": "rgb(247, 186, 166)"
         },
         "name": "region 2",
         "type": "box",
         "y": [
          10,
          9,
          5,
          5,
          5,
          7,
          6,
          1,
          9,
          4,
          2,
          6,
          1,
          7,
          7,
          4,
          5,
          4,
          5,
          7,
          1,
          6,
          7,
          0,
          6,
          5,
          6,
          4,
          3,
          4,
          5,
          8,
          6,
          4,
          8,
          6,
          5,
          9,
          3,
          8,
          10,
          3,
          2,
          4,
          0,
          1,
          0,
          9,
          3,
          5,
          9,
          4,
          1,
          6,
          8,
          2,
          7,
          8,
          2,
          5,
          4,
          0,
          7,
          4,
          5,
          7,
          8,
          5,
          8,
          5,
          0,
          5,
          5,
          0,
          8,
          9,
          4,
          5,
          4,
          3,
          0,
          1,
          6,
          8,
          5,
          9,
          4,
          7,
          3,
          9,
          4,
          1,
          8,
          8,
          8,
          2,
          5,
          2,
          5,
          3,
          5,
          10,
          3,
          8,
          5,
          1,
          2,
          9,
          8,
          1,
          6,
          8,
          9,
          0,
          10,
          0,
          6,
          8,
          0,
          9,
          10,
          0,
          0,
          8,
          5,
          7,
          9,
          5,
          1,
          1,
          6,
          5,
          4,
          5,
          5,
          1,
          7,
          9,
          2,
          3,
          9,
          6,
          5,
          0,
          6,
          4,
          10,
          0,
          0,
          5,
          1,
          5,
          4,
          9,
          6,
          2,
          2,
          10,
          4,
          1,
          6,
          3,
          2,
          5,
          2,
          5,
          0,
          2,
          9,
          8,
          0,
          0,
          6,
          5,
          1,
          10,
          8,
          4,
          10,
          7,
          1,
          5,
          1,
          5,
          6,
          5,
          9,
          4,
          10,
          0,
          9,
          6,
          4,
          4,
          1,
          4,
          1,
          5,
          1,
          9,
          5,
          7,
          9,
          7,
          9
         ]
        },
        {
         "boxmean": true,
         "marker": {
          "color": "rgb(247, 186, 166)"
         },
         "name": "region 3",
         "type": "box",
         "y": [
          5,
          8,
          7,
          1,
          5,
          1,
          5,
          8,
          9,
          1,
          5,
          0,
          7,
          5,
          0,
          6,
          5,
          1,
          1,
          6,
          7,
          7,
          9,
          1,
          0,
          5,
          5,
          6,
          6,
          6,
          1,
          5,
          6,
          5,
          5,
          6,
          6,
          6,
          0,
          6,
          5,
          5,
          5,
          1,
          8,
          7,
          1,
          6,
          0,
          8,
          5,
          5,
          1,
          0,
          0,
          7,
          5,
          8,
          7,
          8,
          0,
          1,
          1,
          5,
          6,
          0,
          7,
          0,
          7,
          6,
          0,
          0,
          0,
          0,
          7,
          0,
          8,
          5,
          7,
          5,
          6,
          6,
          1,
          7,
          5,
          7,
          5,
          7,
          4,
          4,
          0,
          0,
          2,
          5,
          7,
          5,
          8,
          7,
          0,
          5,
          6,
          5,
          9,
          5,
          5,
          1,
          9,
          6,
          0,
          1,
          5,
          7,
          0,
          8,
          8,
          8,
          1,
          6,
          0,
          5
         ]
        }
       ],
       "layout": {
        "template": {
         "data": {
          "bar": [
           {
            "error_x": {
             "color": "#2a3f5f"
            },
            "error_y": {
             "color": "#2a3f5f"
            },
            "marker": {
             "line": {
              "color": "#E5ECF6",
              "width": 0.5
             },
             "pattern": {
              "fillmode": "overlay",
              "size": 10,
              "solidity": 0.2
             }
            },
            "type": "bar"
           }
          ],
          "barpolar": [
           {
            "marker": {
             "line": {
              "color": "#E5ECF6",
              "width": 0.5
             },
             "pattern": {
              "fillmode": "overlay",
              "size": 10,
              "solidity": 0.2
             }
            },
            "type": "barpolar"
           }
          ],
          "carpet": [
           {
            "aaxis": {
             "endlinecolor": "#2a3f5f",
             "gridcolor": "white",
             "linecolor": "white",
             "minorgridcolor": "white",
             "startlinecolor": "#2a3f5f"
            },
            "baxis": {
             "endlinecolor": "#2a3f5f",
             "gridcolor": "white",
             "linecolor": "white",
             "minorgridcolor": "white",
             "startlinecolor": "#2a3f5f"
            },
            "type": "carpet"
           }
          ],
          "choropleth": [
           {
            "colorbar": {
             "outlinewidth": 0,
             "ticks": ""
            },
            "type": "choropleth"
           }
          ],
          "contour": [
           {
            "colorbar": {
             "outlinewidth": 0,
             "ticks": ""
            },
            "colorscale": [
             [
              0,
              "#0d0887"
             ],
             [
              0.1111111111111111,
              "#46039f"
             ],
             [
              0.2222222222222222,
              "#7201a8"
             ],
             [
              0.3333333333333333,
              "#9c179e"
             ],
             [
              0.4444444444444444,
              "#bd3786"
             ],
             [
              0.5555555555555556,
              "#d8576b"
             ],
             [
              0.6666666666666666,
              "#ed7953"
             ],
             [
              0.7777777777777778,
              "#fb9f3a"
             ],
             [
              0.8888888888888888,
              "#fdca26"
             ],
             [
              1,
              "#f0f921"
             ]
            ],
            "type": "contour"
           }
          ],
          "contourcarpet": [
           {
            "colorbar": {
             "outlinewidth": 0,
             "ticks": ""
            },
            "type": "contourcarpet"
           }
          ],
          "heatmap": [
           {
            "colorbar": {
             "outlinewidth": 0,
             "ticks": ""
            },
            "colorscale": [
             [
              0,
              "#0d0887"
             ],
             [
              0.1111111111111111,
              "#46039f"
             ],
             [
              0.2222222222222222,
              "#7201a8"
             ],
             [
              0.3333333333333333,
              "#9c179e"
             ],
             [
              0.4444444444444444,
              "#bd3786"
             ],
             [
              0.5555555555555556,
              "#d8576b"
             ],
             [
              0.6666666666666666,
              "#ed7953"
             ],
             [
              0.7777777777777778,
              "#fb9f3a"
             ],
             [
              0.8888888888888888,
              "#fdca26"
             ],
             [
              1,
              "#f0f921"
             ]
            ],
            "type": "heatmap"
           }
          ],
          "heatmapgl": [
           {
            "colorbar": {
             "outlinewidth": 0,
             "ticks": ""
            },
            "colorscale": [
             [
              0,
              "#0d0887"
             ],
             [
              0.1111111111111111,
              "#46039f"
             ],
             [
              0.2222222222222222,
              "#7201a8"
             ],
             [
              0.3333333333333333,
              "#9c179e"
             ],
             [
              0.4444444444444444,
              "#bd3786"
             ],
             [
              0.5555555555555556,
              "#d8576b"
             ],
             [
              0.6666666666666666,
              "#ed7953"
             ],
             [
              0.7777777777777778,
              "#fb9f3a"
             ],
             [
              0.8888888888888888,
              "#fdca26"
             ],
             [
              1,
              "#f0f921"
             ]
            ],
            "type": "heatmapgl"
           }
          ],
          "histogram": [
           {
            "marker": {
             "pattern": {
              "fillmode": "overlay",
              "size": 10,
              "solidity": 0.2
             }
            },
            "type": "histogram"
           }
          ],
          "histogram2d": [
           {
            "colorbar": {
             "outlinewidth": 0,
             "ticks": ""
            },
            "colorscale": [
             [
              0,
              "#0d0887"
             ],
             [
              0.1111111111111111,
              "#46039f"
             ],
             [
              0.2222222222222222,
              "#7201a8"
             ],
             [
              0.3333333333333333,
              "#9c179e"
             ],
             [
              0.4444444444444444,
              "#bd3786"
             ],
             [
              0.5555555555555556,
              "#d8576b"
             ],
             [
              0.6666666666666666,
              "#ed7953"
             ],
             [
              0.7777777777777778,
              "#fb9f3a"
             ],
             [
              0.8888888888888888,
              "#fdca26"
             ],
             [
              1,
              "#f0f921"
             ]
            ],
            "type": "histogram2d"
           }
          ],
          "histogram2dcontour": [
           {
            "colorbar": {
             "outlinewidth": 0,
             "ticks": ""
            },
            "colorscale": [
             [
              0,
              "#0d0887"
             ],
             [
              0.1111111111111111,
              "#46039f"
             ],
             [
              0.2222222222222222,
              "#7201a8"
             ],
             [
              0.3333333333333333,
              "#9c179e"
             ],
             [
              0.4444444444444444,
              "#bd3786"
             ],
             [
              0.5555555555555556,
              "#d8576b"
             ],
             [
              0.6666666666666666,
              "#ed7953"
             ],
             [
              0.7777777777777778,
              "#fb9f3a"
             ],
             [
              0.8888888888888888,
              "#fdca26"
             ],
             [
              1,
              "#f0f921"
             ]
            ],
            "type": "histogram2dcontour"
           }
          ],
          "mesh3d": [
           {
            "colorbar": {
             "outlinewidth": 0,
             "ticks": ""
            },
            "type": "mesh3d"
           }
          ],
          "parcoords": [
           {
            "line": {
             "colorbar": {
              "outlinewidth": 0,
              "ticks": ""
             }
            },
            "type": "parcoords"
           }
          ],
          "pie": [
           {
            "automargin": true,
            "type": "pie"
           }
          ],
          "scatter": [
           {
            "fillpattern": {
             "fillmode": "overlay",
             "size": 10,
             "solidity": 0.2
            },
            "type": "scatter"
           }
          ],
          "scatter3d": [
           {
            "line": {
             "colorbar": {
              "outlinewidth": 0,
              "ticks": ""
             }
            },
            "marker": {
             "colorbar": {
              "outlinewidth": 0,
              "ticks": ""
             }
            },
            "type": "scatter3d"
           }
          ],
          "scattercarpet": [
           {
            "marker": {
             "colorbar": {
              "outlinewidth": 0,
              "ticks": ""
             }
            },
            "type": "scattercarpet"
           }
          ],
          "scattergeo": [
           {
            "marker": {
             "colorbar": {
              "outlinewidth": 0,
              "ticks": ""
             }
            },
            "type": "scattergeo"
           }
          ],
          "scattergl": [
           {
            "marker": {
             "colorbar": {
              "outlinewidth": 0,
              "ticks": ""
             }
            },
            "type": "scattergl"
           }
          ],
          "scattermapbox": [
           {
            "marker": {
             "colorbar": {
              "outlinewidth": 0,
              "ticks": ""
             }
            },
            "type": "scattermapbox"
           }
          ],
          "scatterpolar": [
           {
            "marker": {
             "colorbar": {
              "outlinewidth": 0,
              "ticks": ""
             }
            },
            "type": "scatterpolar"
           }
          ],
          "scatterpolargl": [
           {
            "marker": {
             "colorbar": {
              "outlinewidth": 0,
              "ticks": ""
             }
            },
            "type": "scatterpolargl"
           }
          ],
          "scatterternary": [
           {
            "marker": {
             "colorbar": {
              "outlinewidth": 0,
              "ticks": ""
             }
            },
            "type": "scatterternary"
           }
          ],
          "surface": [
           {
            "colorbar": {
             "outlinewidth": 0,
             "ticks": ""
            },
            "colorscale": [
             [
              0,
              "#0d0887"
             ],
             [
              0.1111111111111111,
              "#46039f"
             ],
             [
              0.2222222222222222,
              "#7201a8"
             ],
             [
              0.3333333333333333,
              "#9c179e"
             ],
             [
              0.4444444444444444,
              "#bd3786"
             ],
             [
              0.5555555555555556,
              "#d8576b"
             ],
             [
              0.6666666666666666,
              "#ed7953"
             ],
             [
              0.7777777777777778,
              "#fb9f3a"
             ],
             [
              0.8888888888888888,
              "#fdca26"
             ],
             [
              1,
              "#f0f921"
             ]
            ],
            "type": "surface"
           }
          ],
          "table": [
           {
            "cells": {
             "fill": {
              "color": "#EBF0F8"
             },
             "line": {
              "color": "white"
             }
            },
            "header": {
             "fill": {
              "color": "#C8D4E3"
             },
             "line": {
              "color": "white"
             }
            },
            "type": "table"
           }
          ]
         },
         "layout": {
          "annotationdefaults": {
           "arrowcolor": "#2a3f5f",
           "arrowhead": 0,
           "arrowwidth": 1
          },
          "autotypenumbers": "strict",
          "coloraxis": {
           "colorbar": {
            "outlinewidth": 0,
            "ticks": ""
           }
          },
          "colorscale": {
           "diverging": [
            [
             0,
             "#8e0152"
            ],
            [
             0.1,
             "#c51b7d"
            ],
            [
             0.2,
             "#de77ae"
            ],
            [
             0.3,
             "#f1b6da"
            ],
            [
             0.4,
             "#fde0ef"
            ],
            [
             0.5,
             "#f7f7f7"
            ],
            [
             0.6,
             "#e6f5d0"
            ],
            [
             0.7,
             "#b8e186"
            ],
            [
             0.8,
             "#7fbc41"
            ],
            [
             0.9,
             "#4d9221"
            ],
            [
             1,
             "#276419"
            ]
           ],
           "sequential": [
            [
             0,
             "#0d0887"
            ],
            [
             0.1111111111111111,
             "#46039f"
            ],
            [
             0.2222222222222222,
             "#7201a8"
            ],
            [
             0.3333333333333333,
             "#9c179e"
            ],
            [
             0.4444444444444444,
             "#bd3786"
            ],
            [
             0.5555555555555556,
             "#d8576b"
            ],
            [
             0.6666666666666666,
             "#ed7953"
            ],
            [
             0.7777777777777778,
             "#fb9f3a"
            ],
            [
             0.8888888888888888,
             "#fdca26"
            ],
            [
             1,
             "#f0f921"
            ]
           ],
           "sequentialminus": [
            [
             0,
             "#0d0887"
            ],
            [
             0.1111111111111111,
             "#46039f"
            ],
            [
             0.2222222222222222,
             "#7201a8"
            ],
            [
             0.3333333333333333,
             "#9c179e"
            ],
            [
             0.4444444444444444,
             "#bd3786"
            ],
            [
             0.5555555555555556,
             "#d8576b"
            ],
            [
             0.6666666666666666,
             "#ed7953"
            ],
            [
             0.7777777777777778,
             "#fb9f3a"
            ],
            [
             0.8888888888888888,
             "#fdca26"
            ],
            [
             1,
             "#f0f921"
            ]
           ]
          },
          "colorway": [
           "#636efa",
           "#EF553B",
           "#00cc96",
           "#ab63fa",
           "#FFA15A",
           "#19d3f3",
           "#FF6692",
           "#B6E880",
           "#FF97FF",
           "#FECB52"
          ],
          "font": {
           "color": "#2a3f5f"
          },
          "geo": {
           "bgcolor": "white",
           "lakecolor": "white",
           "landcolor": "#E5ECF6",
           "showlakes": true,
           "showland": true,
           "subunitcolor": "white"
          },
          "hoverlabel": {
           "align": "left"
          },
          "hovermode": "closest",
          "mapbox": {
           "style": "light"
          },
          "paper_bgcolor": "white",
          "plot_bgcolor": "#E5ECF6",
          "polar": {
           "angularaxis": {
            "gridcolor": "white",
            "linecolor": "white",
            "ticks": ""
           },
           "bgcolor": "#E5ECF6",
           "radialaxis": {
            "gridcolor": "white",
            "linecolor": "white",
            "ticks": ""
           }
          },
          "scene": {
           "xaxis": {
            "backgroundcolor": "#E5ECF6",
            "gridcolor": "white",
            "gridwidth": 2,
            "linecolor": "white",
            "showbackground": true,
            "ticks": "",
            "zerolinecolor": "white"
           },
           "yaxis": {
            "backgroundcolor": "#E5ECF6",
            "gridcolor": "white",
            "gridwidth": 2,
            "linecolor": "white",
            "showbackground": true,
            "ticks": "",
            "zerolinecolor": "white"
           },
           "zaxis": {
            "backgroundcolor": "#E5ECF6",
            "gridcolor": "white",
            "gridwidth": 2,
            "linecolor": "white",
            "showbackground": true,
            "ticks": "",
            "zerolinecolor": "white"
           }
          },
          "shapedefaults": {
           "line": {
            "color": "#2a3f5f"
           }
          },
          "ternary": {
           "aaxis": {
            "gridcolor": "white",
            "linecolor": "white",
            "ticks": ""
           },
           "baxis": {
            "gridcolor": "white",
            "linecolor": "white",
            "ticks": ""
           },
           "bgcolor": "#E5ECF6",
           "caxis": {
            "gridcolor": "white",
            "linecolor": "white",
            "ticks": ""
           }
          },
          "title": {
           "x": 0.05
          },
          "xaxis": {
           "automargin": true,
           "gridcolor": "white",
           "linecolor": "white",
           "ticks": "",
           "title": {
            "standoff": 15
           },
           "zerolinecolor": "white",
           "zerolinewidth": 2
          },
          "yaxis": {
           "automargin": true,
           "gridcolor": "white",
           "linecolor": "white",
           "ticks": "",
           "title": {
            "standoff": 15
           },
           "zerolinecolor": "white",
           "zerolinewidth": 2
          }
         }
        },
        "title": {
         "text": "Convenience Stores <br> by region"
        },
        "xaxis": {
         "title": {
          "font": {
           "size": 16
          },
          "text": "Region"
         }
        },
        "yaxis": {
         "title": {
          "font": {
           "size": 16
          },
          "text": "Stores"
         }
        }
       }
      },
      "text/html": [
       "<div>                            <div id=\"43d24781-89fb-4ad6-a182-d0dbdd9fee1a\" class=\"plotly-graph-div\" style=\"height:525px; width:100%;\"></div>            <script type=\"text/javascript\">                require([\"plotly\"], function(Plotly) {                    window.PLOTLYENV=window.PLOTLYENV || {};                                    if (document.getElementById(\"43d24781-89fb-4ad6-a182-d0dbdd9fee1a\")) {                    Plotly.newPlot(                        \"43d24781-89fb-4ad6-a182-d0dbdd9fee1a\",                        [{\"boxmean\":true,\"marker\":{\"color\":\"rgb(214, 12, 140)\"},\"name\":\"region 0\",\"y\":[3,3,4,3,2,2,3,2,3,3,3,4,3,3,3,3,3,3,3,3,3,3,3,4,2,3,3,2,4,3,3,3,3,3,3,3,3,2,3,2,3,3,3,4,2,3,2,3,4,2,3,3],\"type\":\"box\"},{\"boxmean\":true,\"marker\":{\"color\":\"rgb(0, 128, 128)\"},\"name\":\"region 1\",\"y\":[1,0,0,0,0,1,1,0,0,0,1,0,0,0,0,0,0,0,0,0,0,0,0,0,1,1,1,0,0,0,0,1,0,0,1,0],\"type\":\"box\"},{\"boxmean\":true,\"marker\":{\"color\":\"rgb(247, 186, 166)\"},\"name\":\"region 2\",\"y\":[10,9,5,5,5,7,6,1,9,4,2,6,1,7,7,4,5,4,5,7,1,6,7,0,6,5,6,4,3,4,5,8,6,4,8,6,5,9,3,8,10,3,2,4,0,1,0,9,3,5,9,4,1,6,8,2,7,8,2,5,4,0,7,4,5,7,8,5,8,5,0,5,5,0,8,9,4,5,4,3,0,1,6,8,5,9,4,7,3,9,4,1,8,8,8,2,5,2,5,3,5,10,3,8,5,1,2,9,8,1,6,8,9,0,10,0,6,8,0,9,10,0,0,8,5,7,9,5,1,1,6,5,4,5,5,1,7,9,2,3,9,6,5,0,6,4,10,0,0,5,1,5,4,9,6,2,2,10,4,1,6,3,2,5,2,5,0,2,9,8,0,0,6,5,1,10,8,4,10,7,1,5,1,5,6,5,9,4,10,0,9,6,4,4,1,4,1,5,1,9,5,7,9,7,9],\"type\":\"box\"},{\"boxmean\":true,\"marker\":{\"color\":\"rgb(247, 186, 166)\"},\"name\":\"region 3\",\"y\":[5,8,7,1,5,1,5,8,9,1,5,0,7,5,0,6,5,1,1,6,7,7,9,1,0,5,5,6,6,6,1,5,6,5,5,6,6,6,0,6,5,5,5,1,8,7,1,6,0,8,5,5,1,0,0,7,5,8,7,8,0,1,1,5,6,0,7,0,7,6,0,0,0,0,7,0,8,5,7,5,6,6,1,7,5,7,5,7,4,4,0,0,2,5,7,5,8,7,0,5,6,5,9,5,5,1,9,6,0,1,5,7,0,8,8,8,1,6,0,5],\"type\":\"box\"}],                        {\"template\":{\"data\":{\"barpolar\":[{\"marker\":{\"line\":{\"color\":\"#E5ECF6\",\"width\":0.5},\"pattern\":{\"fillmode\":\"overlay\",\"size\":10,\"solidity\":0.2}},\"type\":\"barpolar\"}],\"bar\":[{\"error_x\":{\"color\":\"#2a3f5f\"},\"error_y\":{\"color\":\"#2a3f5f\"},\"marker\":{\"line\":{\"color\":\"#E5ECF6\",\"width\":0.5},\"pattern\":{\"fillmode\":\"overlay\",\"size\":10,\"solidity\":0.2}},\"type\":\"bar\"}],\"carpet\":[{\"aaxis\":{\"endlinecolor\":\"#2a3f5f\",\"gridcolor\":\"white\",\"linecolor\":\"white\",\"minorgridcolor\":\"white\",\"startlinecolor\":\"#2a3f5f\"},\"baxis\":{\"endlinecolor\":\"#2a3f5f\",\"gridcolor\":\"white\",\"linecolor\":\"white\",\"minorgridcolor\":\"white\",\"startlinecolor\":\"#2a3f5f\"},\"type\":\"carpet\"}],\"choropleth\":[{\"colorbar\":{\"outlinewidth\":0,\"ticks\":\"\"},\"type\":\"choropleth\"}],\"contourcarpet\":[{\"colorbar\":{\"outlinewidth\":0,\"ticks\":\"\"},\"type\":\"contourcarpet\"}],\"contour\":[{\"colorbar\":{\"outlinewidth\":0,\"ticks\":\"\"},\"colorscale\":[[0.0,\"#0d0887\"],[0.1111111111111111,\"#46039f\"],[0.2222222222222222,\"#7201a8\"],[0.3333333333333333,\"#9c179e\"],[0.4444444444444444,\"#bd3786\"],[0.5555555555555556,\"#d8576b\"],[0.6666666666666666,\"#ed7953\"],[0.7777777777777778,\"#fb9f3a\"],[0.8888888888888888,\"#fdca26\"],[1.0,\"#f0f921\"]],\"type\":\"contour\"}],\"heatmapgl\":[{\"colorbar\":{\"outlinewidth\":0,\"ticks\":\"\"},\"colorscale\":[[0.0,\"#0d0887\"],[0.1111111111111111,\"#46039f\"],[0.2222222222222222,\"#7201a8\"],[0.3333333333333333,\"#9c179e\"],[0.4444444444444444,\"#bd3786\"],[0.5555555555555556,\"#d8576b\"],[0.6666666666666666,\"#ed7953\"],[0.7777777777777778,\"#fb9f3a\"],[0.8888888888888888,\"#fdca26\"],[1.0,\"#f0f921\"]],\"type\":\"heatmapgl\"}],\"heatmap\":[{\"colorbar\":{\"outlinewidth\":0,\"ticks\":\"\"},\"colorscale\":[[0.0,\"#0d0887\"],[0.1111111111111111,\"#46039f\"],[0.2222222222222222,\"#7201a8\"],[0.3333333333333333,\"#9c179e\"],[0.4444444444444444,\"#bd3786\"],[0.5555555555555556,\"#d8576b\"],[0.6666666666666666,\"#ed7953\"],[0.7777777777777778,\"#fb9f3a\"],[0.8888888888888888,\"#fdca26\"],[1.0,\"#f0f921\"]],\"type\":\"heatmap\"}],\"histogram2dcontour\":[{\"colorbar\":{\"outlinewidth\":0,\"ticks\":\"\"},\"colorscale\":[[0.0,\"#0d0887\"],[0.1111111111111111,\"#46039f\"],[0.2222222222222222,\"#7201a8\"],[0.3333333333333333,\"#9c179e\"],[0.4444444444444444,\"#bd3786\"],[0.5555555555555556,\"#d8576b\"],[0.6666666666666666,\"#ed7953\"],[0.7777777777777778,\"#fb9f3a\"],[0.8888888888888888,\"#fdca26\"],[1.0,\"#f0f921\"]],\"type\":\"histogram2dcontour\"}],\"histogram2d\":[{\"colorbar\":{\"outlinewidth\":0,\"ticks\":\"\"},\"colorscale\":[[0.0,\"#0d0887\"],[0.1111111111111111,\"#46039f\"],[0.2222222222222222,\"#7201a8\"],[0.3333333333333333,\"#9c179e\"],[0.4444444444444444,\"#bd3786\"],[0.5555555555555556,\"#d8576b\"],[0.6666666666666666,\"#ed7953\"],[0.7777777777777778,\"#fb9f3a\"],[0.8888888888888888,\"#fdca26\"],[1.0,\"#f0f921\"]],\"type\":\"histogram2d\"}],\"histogram\":[{\"marker\":{\"pattern\":{\"fillmode\":\"overlay\",\"size\":10,\"solidity\":0.2}},\"type\":\"histogram\"}],\"mesh3d\":[{\"colorbar\":{\"outlinewidth\":0,\"ticks\":\"\"},\"type\":\"mesh3d\"}],\"parcoords\":[{\"line\":{\"colorbar\":{\"outlinewidth\":0,\"ticks\":\"\"}},\"type\":\"parcoords\"}],\"pie\":[{\"automargin\":true,\"type\":\"pie\"}],\"scatter3d\":[{\"line\":{\"colorbar\":{\"outlinewidth\":0,\"ticks\":\"\"}},\"marker\":{\"colorbar\":{\"outlinewidth\":0,\"ticks\":\"\"}},\"type\":\"scatter3d\"}],\"scattercarpet\":[{\"marker\":{\"colorbar\":{\"outlinewidth\":0,\"ticks\":\"\"}},\"type\":\"scattercarpet\"}],\"scattergeo\":[{\"marker\":{\"colorbar\":{\"outlinewidth\":0,\"ticks\":\"\"}},\"type\":\"scattergeo\"}],\"scattergl\":[{\"marker\":{\"colorbar\":{\"outlinewidth\":0,\"ticks\":\"\"}},\"type\":\"scattergl\"}],\"scattermapbox\":[{\"marker\":{\"colorbar\":{\"outlinewidth\":0,\"ticks\":\"\"}},\"type\":\"scattermapbox\"}],\"scatterpolargl\":[{\"marker\":{\"colorbar\":{\"outlinewidth\":0,\"ticks\":\"\"}},\"type\":\"scatterpolargl\"}],\"scatterpolar\":[{\"marker\":{\"colorbar\":{\"outlinewidth\":0,\"ticks\":\"\"}},\"type\":\"scatterpolar\"}],\"scatter\":[{\"fillpattern\":{\"fillmode\":\"overlay\",\"size\":10,\"solidity\":0.2},\"type\":\"scatter\"}],\"scatterternary\":[{\"marker\":{\"colorbar\":{\"outlinewidth\":0,\"ticks\":\"\"}},\"type\":\"scatterternary\"}],\"surface\":[{\"colorbar\":{\"outlinewidth\":0,\"ticks\":\"\"},\"colorscale\":[[0.0,\"#0d0887\"],[0.1111111111111111,\"#46039f\"],[0.2222222222222222,\"#7201a8\"],[0.3333333333333333,\"#9c179e\"],[0.4444444444444444,\"#bd3786\"],[0.5555555555555556,\"#d8576b\"],[0.6666666666666666,\"#ed7953\"],[0.7777777777777778,\"#fb9f3a\"],[0.8888888888888888,\"#fdca26\"],[1.0,\"#f0f921\"]],\"type\":\"surface\"}],\"table\":[{\"cells\":{\"fill\":{\"color\":\"#EBF0F8\"},\"line\":{\"color\":\"white\"}},\"header\":{\"fill\":{\"color\":\"#C8D4E3\"},\"line\":{\"color\":\"white\"}},\"type\":\"table\"}]},\"layout\":{\"annotationdefaults\":{\"arrowcolor\":\"#2a3f5f\",\"arrowhead\":0,\"arrowwidth\":1},\"autotypenumbers\":\"strict\",\"coloraxis\":{\"colorbar\":{\"outlinewidth\":0,\"ticks\":\"\"}},\"colorscale\":{\"diverging\":[[0,\"#8e0152\"],[0.1,\"#c51b7d\"],[0.2,\"#de77ae\"],[0.3,\"#f1b6da\"],[0.4,\"#fde0ef\"],[0.5,\"#f7f7f7\"],[0.6,\"#e6f5d0\"],[0.7,\"#b8e186\"],[0.8,\"#7fbc41\"],[0.9,\"#4d9221\"],[1,\"#276419\"]],\"sequential\":[[0.0,\"#0d0887\"],[0.1111111111111111,\"#46039f\"],[0.2222222222222222,\"#7201a8\"],[0.3333333333333333,\"#9c179e\"],[0.4444444444444444,\"#bd3786\"],[0.5555555555555556,\"#d8576b\"],[0.6666666666666666,\"#ed7953\"],[0.7777777777777778,\"#fb9f3a\"],[0.8888888888888888,\"#fdca26\"],[1.0,\"#f0f921\"]],\"sequentialminus\":[[0.0,\"#0d0887\"],[0.1111111111111111,\"#46039f\"],[0.2222222222222222,\"#7201a8\"],[0.3333333333333333,\"#9c179e\"],[0.4444444444444444,\"#bd3786\"],[0.5555555555555556,\"#d8576b\"],[0.6666666666666666,\"#ed7953\"],[0.7777777777777778,\"#fb9f3a\"],[0.8888888888888888,\"#fdca26\"],[1.0,\"#f0f921\"]]},\"colorway\":[\"#636efa\",\"#EF553B\",\"#00cc96\",\"#ab63fa\",\"#FFA15A\",\"#19d3f3\",\"#FF6692\",\"#B6E880\",\"#FF97FF\",\"#FECB52\"],\"font\":{\"color\":\"#2a3f5f\"},\"geo\":{\"bgcolor\":\"white\",\"lakecolor\":\"white\",\"landcolor\":\"#E5ECF6\",\"showlakes\":true,\"showland\":true,\"subunitcolor\":\"white\"},\"hoverlabel\":{\"align\":\"left\"},\"hovermode\":\"closest\",\"mapbox\":{\"style\":\"light\"},\"paper_bgcolor\":\"white\",\"plot_bgcolor\":\"#E5ECF6\",\"polar\":{\"angularaxis\":{\"gridcolor\":\"white\",\"linecolor\":\"white\",\"ticks\":\"\"},\"bgcolor\":\"#E5ECF6\",\"radialaxis\":{\"gridcolor\":\"white\",\"linecolor\":\"white\",\"ticks\":\"\"}},\"scene\":{\"xaxis\":{\"backgroundcolor\":\"#E5ECF6\",\"gridcolor\":\"white\",\"gridwidth\":2,\"linecolor\":\"white\",\"showbackground\":true,\"ticks\":\"\",\"zerolinecolor\":\"white\"},\"yaxis\":{\"backgroundcolor\":\"#E5ECF6\",\"gridcolor\":\"white\",\"gridwidth\":2,\"linecolor\":\"white\",\"showbackground\":true,\"ticks\":\"\",\"zerolinecolor\":\"white\"},\"zaxis\":{\"backgroundcolor\":\"#E5ECF6\",\"gridcolor\":\"white\",\"gridwidth\":2,\"linecolor\":\"white\",\"showbackground\":true,\"ticks\":\"\",\"zerolinecolor\":\"white\"}},\"shapedefaults\":{\"line\":{\"color\":\"#2a3f5f\"}},\"ternary\":{\"aaxis\":{\"gridcolor\":\"white\",\"linecolor\":\"white\",\"ticks\":\"\"},\"baxis\":{\"gridcolor\":\"white\",\"linecolor\":\"white\",\"ticks\":\"\"},\"bgcolor\":\"#E5ECF6\",\"caxis\":{\"gridcolor\":\"white\",\"linecolor\":\"white\",\"ticks\":\"\"}},\"title\":{\"x\":0.05},\"xaxis\":{\"automargin\":true,\"gridcolor\":\"white\",\"linecolor\":\"white\",\"ticks\":\"\",\"title\":{\"standoff\":15},\"zerolinecolor\":\"white\",\"zerolinewidth\":2},\"yaxis\":{\"automargin\":true,\"gridcolor\":\"white\",\"linecolor\":\"white\",\"ticks\":\"\",\"title\":{\"standoff\":15},\"zerolinecolor\":\"white\",\"zerolinewidth\":2}}},\"title\":{\"text\":\"Convenience Stores <br> by region\"},\"xaxis\":{\"title\":{\"font\":{\"size\":16},\"text\":\"Region\"}},\"yaxis\":{\"title\":{\"font\":{\"size\":16},\"text\":\"Stores\"}}},                        {\"responsive\": true}                    ).then(function(){\n",
       "                            \n",
       "var gd = document.getElementById('43d24781-89fb-4ad6-a182-d0dbdd9fee1a');\n",
       "var x = new MutationObserver(function (mutations, observer) {{\n",
       "        var display = window.getComputedStyle(gd).display;\n",
       "        if (!display || display === 'none') {{\n",
       "            console.log([gd, 'removed!']);\n",
       "            Plotly.purge(gd);\n",
       "            observer.disconnect();\n",
       "        }}\n",
       "}});\n",
       "\n",
       "// Listen for the removal of the full notebook cells\n",
       "var notebookContainer = gd.closest('#notebook-container');\n",
       "if (notebookContainer) {{\n",
       "    x.observe(notebookContainer, {childList: true});\n",
       "}}\n",
       "\n",
       "// Listen for the clearing of the current output cell\n",
       "var outputEl = gd.closest('.output');\n",
       "if (outputEl) {{\n",
       "    x.observe(outputEl, {childList: true});\n",
       "}}\n",
       "\n",
       "                        })                };                });            </script>        </div>"
      ]
     },
     "metadata": {},
     "output_type": "display_data"
    }
   ],
   "source": [
    "trace0 = go.Box(\n",
    "    y=stores_r0,\n",
    "    name = 'region 0',\n",
    "    boxmean= True,\n",
    "    marker = dict(\n",
    "        color = 'rgb(214, 12, 140)',\n",
    "    )\n",
    ")\n",
    "trace1 = go.Box(\n",
    "    y=stores_r1,\n",
    "    name = 'region 1',\n",
    "    boxmean= True,\n",
    "    marker = dict(\n",
    "        color = 'rgb(0, 128, 128)',\n",
    "    )\n",
    ")\n",
    "trace2 = go.Box(\n",
    "    y=stores_r2,\n",
    "    name = 'region 2',\n",
    "    boxmean= True,\n",
    "    marker = dict(\n",
    "        color = 'rgb(247, 186, 166)',\n",
    "    )\n",
    ")\n",
    "\n",
    "trace3 = go.Box(\n",
    "    y=stores_r3,\n",
    "    name = 'region 3',\n",
    "    boxmean= True,\n",
    "    marker = dict(\n",
    "        color = 'rgb(247, 186, 166)',\n",
    "    )\n",
    ")\n",
    "data = [trace0, trace1, trace2,trace3]\n",
    "layout = go.Layout(title=\"Convenience Stores <br> by region\", xaxis=dict(title=\"Region\", titlefont=dict(size=16)),\n",
    "                  yaxis=dict(title=\"Stores\", titlefont=dict(size=16)))\n",
    "\n",
    "fig = go.Figure(data=data, layout=layout)\n",
    "iplot(fig)"
   ]
  },
  {
   "cell_type": "markdown",
   "metadata": {},
   "source": [
    "It is observed that number of stores are higher in Region 2 and Region 3. Region 0 and Region 1 have houses with zero stores nearby."
   ]
  },
  {
   "cell_type": "code",
   "execution_count": 36,
   "metadata": {},
   "outputs": [
    {
     "name": "stdout",
     "output_type": "stream",
     "text": [
      "                            OLS Regression Results                            \n",
      "==============================================================================\n",
      "Dep. Variable:     convenience_stores   R-squared:                       0.210\n",
      "Model:                            OLS   Adj. R-squared:                  0.204\n",
      "Method:                 Least Squares   F-statistic:                     36.18\n",
      "Date:                Sat, 03 Dec 2022   Prob (F-statistic):           9.34e-21\n",
      "Time:                        07:19:46   Log-Likelihood:                -983.03\n",
      "No. Observations:                 413   AIC:                             1974.\n",
      "Df Residuals:                     409   BIC:                             1990.\n",
      "Df Model:                           3                                         \n",
      "Covariance Type:            nonrobust                                         \n",
      "=====================================================================================\n",
      "                        coef    std err          t      P>|t|      [0.025      0.975]\n",
      "-------------------------------------------------------------------------------------\n",
      "Intercept             2.9231      0.364      8.021      0.000       2.207       3.639\n",
      "Region[T.Region1]    -2.6731      0.570     -4.692      0.000      -3.793      -1.553\n",
      "Region[T.Region2]     1.9842      0.408      4.863      0.000       1.182       2.786\n",
      "Region[T.Region3]     1.4686      0.436      3.366      0.001       0.611       2.326\n",
      "==============================================================================\n",
      "Omnibus:                       16.171   Durbin-Watson:                   2.145\n",
      "Prob(Omnibus):                  0.000   Jarque-Bera (JB):                9.417\n",
      "Skew:                          -0.202   Prob(JB):                      0.00902\n",
      "Kurtosis:                       2.380   Cond. No.                         7.08\n",
      "==============================================================================\n",
      "\n",
      "Notes:\n",
      "[1] Standard Errors assume that the covariance matrix of the errors is correctly specified.\n"
     ]
    }
   ],
   "source": [
    "import statsmodels.api as sm\n",
    "from statsmodels.formula.api import ols\n",
    "\n",
    "\n",
    "lm = ols(\"convenience_stores ~ Region\", data=df).fit()\n",
    "print(lm.summary())"
   ]
  },
  {
   "cell_type": "markdown",
   "metadata": {},
   "source": [
    "The p-value less than 0.05 indicates that there is a significant relationship between region and the stores in the vicinity of homes."
   ]
  },
  {
   "cell_type": "code",
   "execution_count": 37,
   "metadata": {},
   "outputs": [
    {
     "data": {
      "image/png": "[encoded data removed]",
      "text/plain": [
       "<Figure size 1296x576 with 2 Axes>"
      ]
     },
     "metadata": {
      "needs_background": "light"
     },
     "output_type": "display_data"
    }
   ],
   "source": [
    "# Create subpplots\n",
    "f, (ax1, ax2) = plt.subplots(ncols=2, figsize=(18,8))\n",
    "\n",
    "\n",
    "sns.stripplot(x=\"store_cat\", y=\"house_price\", hue=\"house_age_cat\",data=df, ax=ax1, linewidth=1, palette=\"Reds\")\n",
    "ax1.set_title(\"Relationship between Price & Stores by house age\")\n",
    "\n",
    "sns.stripplot(x=\"Region\", y=\"house_price\", hue=\"house_age_cat\", data=df, ax=ax2, linewidth=1, palette=\"Set1\")\n",
    "ax2.set_title(\"Relationship between Price & Region and house age\")\n",
    "\n",
    "plt.show() "
   ]
  },
  {
   "cell_type": "markdown",
   "metadata": {},
   "source": [
    "It is observed that prices tend to be higher when more stores are available. Homes in Region2 and Region3 have higher prices than those in Region0 and Region2. Let us determine if more stores are in region 2 and Region 3."
   ]
  },
  {
   "cell_type": "code",
   "execution_count": 38,
   "metadata": {},
   "outputs": [
    {
     "data": {
      "application/vnd.plotly.v1+json": {
       "config": {
        "linkText": "Export to plot.ly",
        "plotlyServerURL": "https://plot.ly",
        "showLink": false
       },
       "data": [
        {
         "marker": {
          "color": "rgb(255, 0, 0)",
          "line": {
           "color": "darkgrey",
           "width": 1
          },
          "opacity": 1,
          "size": 10
         },
         "mode": "markers",
         "name": "Region0",
         "type": "scatter",
         "x": [
          3,
          3,
          4,
          3,
          2,
          2,
          3,
          2,
          3,
          3,
          3,
          4,
          3,
          3,
          3,
          3,
          3,
          3,
          3,
          3,
          3,
          3,
          3,
          4,
          2,
          3,
          3,
          2,
          4,
          3,
          3,
          3,
          3,
          3,
          3,
          3,
          3,
          2,
          3,
          2,
          3,
          3,
          3,
          4,
          2,
          3,
          2,
          3,
          4,
          2,
          3,
          3
         ],
         "xaxis": "x",
         "y": [
          32.1,
          22.1,
          23.8,
          29.3,
          27,
          22.9,
          27,
          21.3,
          27.7,
          25.6,
          17.7,
          21.8,
          28.4,
          23.1,
          30.6,
          30.7,
          28.9,
          23.6,
          21.5,
          25.7,
          21.4,
          20.9,
          33.4,
          23.9,
          28.8,
          33.4,
          21.7,
          25.9,
          30.7,
          24.4,
          31.7,
          23.7,
          27.7,
          31.1,
          21.8,
          23.2,
          29.4,
          31.3,
          23.6,
          30.8,
          28.6,
          25.7,
          31.3,
          29.5,
          20.9,
          22.8,
          30.5,
          25.6,
          27.3,
          23,
          27.7,
          28.1
         ],
         "yaxis": "y"
        },
        {
         "marker": {
          "color": "rgb(0, 255, 0)",
          "line": {
           "color": "darkgrey",
           "width": 1
          },
          "opacity": 1,
          "size": 10
         },
         "mode": "markers",
         "name": "Region1",
         "type": "scatter",
         "x": [
          1,
          0,
          0,
          0,
          0,
          1,
          1,
          0,
          0,
          0,
          1,
          0,
          0,
          0,
          0,
          0,
          0,
          0,
          0,
          0,
          0,
          0,
          0,
          0,
          1,
          1,
          1,
          0,
          0,
          0,
          0,
          1,
          0,
          0,
          1,
          0
         ],
         "xaxis": "x",
         "y": [
          18.8,
          22.1,
          15.9,
          18.2,
          13.4,
          13.2,
          22.6,
          20,
          18.3,
          25.3,
          12.2,
          13,
          45.1,
          20.7,
          15.6,
          11.6,
          14.4,
          19.2,
          15.5,
          18.8,
          20.5,
          29.3,
          12.8,
          14.7,
          17.4,
          15,
          17.4,
          16.7,
          18.6,
          19.2,
          15.6,
          11.2,
          29.3,
          12.9,
          24.7,
          15.4
         ],
         "yaxis": "y"
        },
        {
         "marker": {
          "color": "rgb(0, 0, 255)",
          "line": {
           "color": "darkgrey",
           "width": 1
          },
          "opacity": 1,
          "size": 10
         },
         "mode": "markers",
         "name": "Region2",
         "type": "scatter",
         "x": [
          10,
          9,
          5,
          5,
          5,
          7,
          6,
          1,
          9,
          4,
          2,
          6,
          1,
          7,
          7,
          4,
          5,
          4,
          5,
          7,
          1,
          6,
          7,
          0,
          6,
          5,
          6,
          4,
          3,
          4,
          5,
          8,
          6,
          4,
          8,
          6,
          5,
          9,
          3,
          8,
          10,
          3,
          2,
          4,
          0,
          1,
          0,
          9,
          3,
          5,
          9,
          4,
          1,
          6,
          8,
          2,
          7,
          8,
          2,
          5,
          4,
          0,
          7,
          4,
          5,
          7,
          8,
          5,
          8,
          5,
          0,
          5,
          5,
          0,
          8,
          9,
          4,
          5,
          4,
          3,
          0,
          1,
          6,
          8,
          5,
          9,
          4,
          7,
          3,
          9,
          4,
          1,
          8,
          8,
          8,
          2,
          5,
          2,
          5,
          3,
          5,
          10,
          3,
          8,
          5,
          1,
          2,
          9,
          8,
          1,
          6,
          8,
          9,
          0,
          10,
          0,
          6,
          8,
          0,
          9,
          10,
          0,
          0,
          8,
          5,
          7,
          9,
          5,
          1,
          1,
          6,
          5,
          4,
          5,
          5,
          1,
          7,
          9,
          2,
          3,
          9,
          6,
          5,
          0,
          6,
          4,
          10,
          0,
          0,
          5,
          1,
          5,
          4,
          9,
          6,
          2,
          2,
          10,
          4,
          1,
          6,
          3,
          2,
          5,
          2,
          5,
          0,
          2,
          9,
          8,
          0,
          0,
          6,
          5,
          1,
          10,
          8,
          4,
          10,
          7,
          1,
          5,
          1,
          5,
          6,
          5,
          9,
          4,
          10,
          0,
          9,
          6,
          4,
          4,
          1,
          4,
          1,
          5,
          1,
          9,
          5,
          7,
          9,
          7,
          9
         ],
         "xaxis": "x",
         "y": [
          37.9,
          42.2,
          47.3,
          54.8,
          43.1,
          40.3,
          46.7,
          41.4,
          58.1,
          34.3,
          50.5,
          70.1,
          37.4,
          51.6,
          47.9,
          38.8,
          56.2,
          47,
          57.1,
          25,
          34.2,
          49.3,
          55.1,
          27.3,
          47.7,
          46.2,
          34.1,
          53.9,
          61.5,
          44.2,
          51.7,
          41.9,
          63.2,
          55,
          44.3,
          36.2,
          42,
          59,
          40.8,
          36.3,
          54.4,
          36.8,
          29.8,
          40.3,
          48,
          45.4,
          43.2,
          59.5,
          34.6,
          51,
          62.2,
          38.2,
          32.9,
          71,
          47.1,
          34.1,
          39.4,
          53.3,
          46.4,
          59.6,
          32.5,
          45.5,
          57.4,
          62.9,
          55,
          41,
          37.5,
          37.5,
          39.5,
          46.8,
          43.5,
          51.4,
          45.5,
          52.2,
          39.7,
          44.7,
          35.6,
          39.4,
          37.4,
          39.6,
          55.2,
          30.6,
          73.6,
          43.4,
          58.8,
          58.1,
          35.1,
          45.2,
          36.5,
          42,
          36.7,
          42.6,
          55.9,
          44.3,
          42.3,
          37.8,
          49.3,
          36.6,
          45.9,
          31.5,
          46.1,
          44,
          34.2,
          40.9,
          52.2,
          43.5,
          31.1,
          58,
          48.1,
          39.7,
          40.8,
          40.2,
          78.3,
          38.5,
          48.5,
          42.3,
          46,
          40.2,
          46.6,
          32.4,
          61.9,
          39,
          40.6,
          48.2,
          40.8,
          30,
          52.7,
          51.8,
          26.5,
          43.9,
          63.3,
          53,
          38.1,
          41.1,
          40.1,
          29.3,
          41,
          44.8,
          23.5,
          55.3,
          56.3,
          51,
          44.5,
          37,
          38.1,
          34.1,
          46.1,
          35.7,
          38.4,
          55,
          50.2,
          53,
          42.2,
          78,
          41.6,
          27.3,
          37.5,
          49.8,
          37.7,
          33.1,
          42.5,
          36.7,
          39.6,
          22.8,
          35.6,
          50.4,
          42.9,
          37,
          53.5,
          46.6,
          41.2,
          37.9,
          53.7,
          60.7,
          45.3,
          47.1,
          63.3,
          40,
          48,
          33.1,
          43.1,
          42.1,
          52.2,
          49.5,
          69.7,
          53.3,
          47.3,
          40.3,
          46.6,
          55.3,
          38.6,
          35.3,
          40.3,
          42.5,
          31.9,
          32.2,
          37.3,
          35.5,
          28.5,
          39.7,
          41.2,
          40.5,
          50,
          40.6,
          63.9
         ],
         "yaxis": "y"
        },
        {
         "marker": {
          "color": "rgb(255, 255, 255)",
          "line": {
           "color": "darkgrey",
           "width": 1
          },
          "opacity": 1,
          "size": 10
         },
         "mode": "markers",
         "name": "Region3",
         "type": "scatter",
         "x": [
          5,
          8,
          7,
          1,
          5,
          1,
          5,
          8,
          9,
          1,
          5,
          0,
          7,
          5,
          0,
          6,
          5,
          1,
          1,
          6,
          7,
          7,
          9,
          1,
          0,
          5,
          5,
          6,
          6,
          6,
          1,
          5,
          6,
          5,
          5,
          6,
          6,
          6,
          0,
          6,
          5,
          5,
          5,
          1,
          8,
          7,
          1,
          6,
          0,
          8,
          5,
          5,
          1,
          0,
          0,
          7,
          5,
          8,
          7,
          8,
          0,
          1,
          1,
          5,
          6,
          0,
          7,
          0,
          7,
          6,
          0,
          0,
          0,
          0,
          7,
          0,
          8,
          5,
          7,
          5,
          6,
          6,
          1,
          7,
          5,
          7,
          5,
          7,
          4,
          4,
          0,
          0,
          2,
          5,
          7,
          5,
          8,
          7,
          0,
          5,
          6,
          5,
          9,
          5,
          5,
          1,
          9,
          6,
          0,
          1,
          5,
          7,
          0,
          8,
          8,
          8,
          1,
          6,
          0,
          5
         ],
         "xaxis": "x",
         "y": [
          39.3,
          42.3,
          47.7,
          24.6,
          33.6,
          25.3,
          34.7,
          38.3,
          42,
          20.7,
          38.9,
          13.7,
          53.5,
          42.4,
          25.3,
          50.7,
          56.8,
          29.5,
          26.5,
          36.8,
          48.1,
          43.7,
          50.8,
          27,
          16.1,
          41,
          51.8,
          54.4,
          45.7,
          30.5,
          26.6,
          51.6,
          7.6,
          31.3,
          48,
          48.6,
          60.7,
          42.2,
          20.8,
          47.4,
          42.5,
          37.5,
          40.1,
          28.4,
          43.2,
          48.5,
          28.9,
          40.9,
          18.3,
          57.8,
          55.5,
          37.4,
          23.5,
          21.8,
          22,
          42.7,
          34.6,
          48.2,
          39.1,
          31.6,
          25.5,
          26.6,
          26.2,
          43.8,
          49,
          19,
          39.3,
          29.7,
          41.4,
          40.6,
          23.1,
          22.3,
          13.8,
          28.8,
          40.6,
          23,
          26.5,
          40.5,
          49.7,
          34,
          44,
          45.4,
          25.6,
          34.4,
          32.9,
          54.4,
          24.5,
          42.5,
          28.5,
          36.9,
          24.7,
          19.1,
          24.7,
          42.8,
          42,
          26.9,
          38.1,
          62.1,
          12.8,
          38.4,
          36.5,
          30.9,
          36.3,
          47,
          42.3,
          30.1,
          44.9,
          45.1,
          24.7,
          24.8,
          51.7,
          41.5,
          23.8,
          56.8,
          37.4,
          67.7,
          31.3,
          37.2,
          22.3,
          52.5
         ],
         "yaxis": "y"
        }
       ],
       "layout": {
        "annotations": [
         {
          "font": {
           "color": "#000000",
           "size": 12
          },
          "showarrow": false,
          "text": "convenience_stores",
          "textangle": 0,
          "x": 0.5,
          "xanchor": "center",
          "xref": "paper",
          "y": -0.1,
          "yanchor": "middle",
          "yref": "paper"
         },
         {
          "font": {
           "color": "#000000",
           "size": 12
          },
          "showarrow": false,
          "text": "house_price",
          "textangle": -90,
          "x": -0.1,
          "xanchor": "center",
          "xref": "paper",
          "y": 0.5,
          "yanchor": "middle",
          "yref": "paper"
         }
        ],
        "height": 600,
        "legend": {
         "bgcolor": "#efefef",
         "borderwidth": 1,
         "x": 1.05,
         "y": 1,
         "yanchor": "top"
        },
        "paper_bgcolor": "rgb(255, 255, 255)",
        "plot_bgcolor": "rgb(251, 251, 251)",
        "showlegend": true,
        "template": {
         "data": {
          "bar": [
           {
            "error_x": {
             "color": "#2a3f5f"
            },
            "error_y": {
             "color": "#2a3f5f"
            },
            "marker": {
             "line": {
              "color": "#E5ECF6",
              "width": 0.5
             },
             "pattern": {
              "fillmode": "overlay",
              "size": 10,
              "solidity": 0.2
             }
            },
            "type": "bar"
           }
          ],
          "barpolar": [
           {
            "marker": {
             "line": {
              "color": "#E5ECF6",
              "width": 0.5
             },
             "pattern": {
              "fillmode": "overlay",
              "size": 10,
              "solidity": 0.2
             }
            },
            "type": "barpolar"
           }
          ],
          "carpet": [
           {
            "aaxis": {
             "endlinecolor": "#2a3f5f",
             "gridcolor": "white",
             "linecolor": "white",
             "minorgridcolor": "white",
             "startlinecolor": "#2a3f5f"
            },
            "baxis": {
             "endlinecolor": "#2a3f5f",
             "gridcolor": "white",
             "linecolor": "white",
             "minorgridcolor": "white",
             "startlinecolor": "#2a3f5f"
            },
            "type": "carpet"
           }
          ],
          "choropleth": [
           {
            "colorbar": {
             "outlinewidth": 0,
             "ticks": ""
            },
            "type": "choropleth"
           }
          ],
          "contour": [
           {
            "colorbar": {
             "outlinewidth": 0,
             "ticks": ""
            },
            "colorscale": [
             [
              0,
              "#0d0887"
             ],
             [
              0.1111111111111111,
              "#46039f"
             ],
             [
              0.2222222222222222,
              "#7201a8"
             ],
             [
              0.3333333333333333,
              "#9c179e"
             ],
             [
              0.4444444444444444,
              "#bd3786"
             ],
             [
              0.5555555555555556,
              "#d8576b"
             ],
             [
              0.6666666666666666,
              "#ed7953"
             ],
             [
              0.7777777777777778,
              "#fb9f3a"
             ],
             [
              0.8888888888888888,
              "#fdca26"
             ],
             [
              1,
              "#f0f921"
             ]
            ],
            "type": "contour"
           }
          ],
          "contourcarpet": [
           {
            "colorbar": {
             "outlinewidth": 0,
             "ticks": ""
            },
            "type": "contourcarpet"
           }
          ],
          "heatmap": [
           {
            "colorbar": {
             "outlinewidth": 0,
             "ticks": ""
            },
            "colorscale": [
             [
              0,
              "#0d0887"
             ],
             [
              0.1111111111111111,
              "#46039f"
             ],
             [
              0.2222222222222222,
              "#7201a8"
             ],
             [
              0.3333333333333333,
              "#9c179e"
             ],
             [
              0.4444444444444444,
              "#bd3786"
             ],
             [
              0.5555555555555556,
              "#d8576b"
             ],
             [
              0.6666666666666666,
              "#ed7953"
             ],
             [
              0.7777777777777778,
              "#fb9f3a"
             ],
             [
              0.8888888888888888,
              "#fdca26"
             ],
             [
              1,
              "#f0f921"
             ]
            ],
            "type": "heatmap"
           }
          ],
          "heatmapgl": [
           {
            "colorbar": {
             "outlinewidth": 0,
             "ticks": ""
            },
            "colorscale": [
             [
              0,
              "#0d0887"
             ],
             [
              0.1111111111111111,
              "#46039f"
             ],
             [
              0.2222222222222222,
              "#7201a8"
             ],
             [
              0.3333333333333333,
              "#9c179e"
             ],
             [
              0.4444444444444444,
              "#bd3786"
             ],
             [
              0.5555555555555556,
              "#d8576b"
             ],
             [
              0.6666666666666666,
              "#ed7953"
             ],
             [
              0.7777777777777778,
              "#fb9f3a"
             ],
             [
              0.8888888888888888,
              "#fdca26"
             ],
             [
              1,
              "#f0f921"
             ]
            ],
            "type": "heatmapgl"
           }
          ],
          "histogram": [
           {
            "marker": {
             "pattern": {
              "fillmode": "overlay",
              "size": 10,
              "solidity": 0.2
             }
            },
            "type": "histogram"
           }
          ],
          "histogram2d": [
           {
            "colorbar": {
             "outlinewidth": 0,
             "ticks": ""
            },
            "colorscale": [
             [
              0,
              "#0d0887"
             ],
             [
              0.1111111111111111,
              "#46039f"
             ],
             [
              0.2222222222222222,
              "#7201a8"
             ],
             [
              0.3333333333333333,
              "#9c179e"
             ],
             [
              0.4444444444444444,
              "#bd3786"
             ],
             [
              0.5555555555555556,
              "#d8576b"
             ],
             [
              0.6666666666666666,
              "#ed7953"
             ],
             [
              0.7777777777777778,
              "#fb9f3a"
             ],
             [
              0.8888888888888888,
              "#fdca26"
             ],
             [
              1,
              "#f0f921"
             ]
            ],
            "type": "histogram2d"
           }
          ],
          "histogram2dcontour": [
           {
            "colorbar": {
             "outlinewidth": 0,
             "ticks": ""
            },
            "colorscale": [
             [
              0,
              "#0d0887"
             ],
             [
              0.1111111111111111,
              "#46039f"
             ],
             [
              0.2222222222222222,
              "#7201a8"
             ],
             [
              0.3333333333333333,
              "#9c179e"
             ],
             [
              0.4444444444444444,
              "#bd3786"
             ],
             [
              0.5555555555555556,
              "#d8576b"
             ],
             [
              0.6666666666666666,
              "#ed7953"
             ],
             [
              0.7777777777777778,
              "#fb9f3a"
             ],
             [
              0.8888888888888888,
              "#fdca26"
             ],
             [
              1,
              "#f0f921"
             ]
            ],
            "type": "histogram2dcontour"
           }
          ],
          "mesh3d": [
           {
            "colorbar": {
             "outlinewidth": 0,
             "ticks": ""
            },
            "type": "mesh3d"
           }
          ],
          "parcoords": [
           {
            "line": {
             "colorbar": {
              "outlinewidth": 0,
              "ticks": ""
             }
            },
            "type": "parcoords"
           }
          ],
          "pie": [
           {
            "automargin": true,
            "type": "pie"
           }
          ],
          "scatter": [
           {
            "fillpattern": {
             "fillmode": "overlay",
             "size": 10,
             "solidity": 0.2
            },
            "type": "scatter"
           }
          ],
          "scatter3d": [
           {
            "line": {
             "colorbar": {
              "outlinewidth": 0,
              "ticks": ""
             }
            },
            "marker": {
             "colorbar": {
              "outlinewidth": 0,
              "ticks": ""
             }
            },
            "type": "scatter3d"
           }
          ],
          "scattercarpet": [
           {
            "marker": {
             "colorbar": {
              "outlinewidth": 0,
              "ticks": ""
             }
            },
            "type": "scattercarpet"
           }
          ],
          "scattergeo": [
           {
            "marker": {
             "colorbar": {
              "outlinewidth": 0,
              "ticks": ""
             }
            },
            "type": "scattergeo"
           }
          ],
          "scattergl": [
           {
            "marker": {
             "colorbar": {
              "outlinewidth": 0,
              "ticks": ""
             }
            },
            "type": "scattergl"
           }
          ],
          "scattermapbox": [
           {
            "marker": {
             "colorbar": {
              "outlinewidth": 0,
              "ticks": ""
             }
            },
            "type": "scattermapbox"
           }
          ],
          "scatterpolar": [
           {
            "marker": {
             "colorbar": {
              "outlinewidth": 0,
              "ticks": ""
             }
            },
            "type": "scatterpolar"
           }
          ],
          "scatterpolargl": [
           {
            "marker": {
             "colorbar": {
              "outlinewidth": 0,
              "ticks": ""
             }
            },
            "type": "scatterpolargl"
           }
          ],
          "scatterternary": [
           {
            "marker": {
             "colorbar": {
              "outlinewidth": 0,
              "ticks": ""
             }
            },
            "type": "scatterternary"
           }
          ],
          "surface": [
           {
            "colorbar": {
             "outlinewidth": 0,
             "ticks": ""
            },
            "colorscale": [
             [
              0,
              "#0d0887"
             ],
             [
              0.1111111111111111,
              "#46039f"
             ],
             [
              0.2222222222222222,
              "#7201a8"
             ],
             [
              0.3333333333333333,
              "#9c179e"
             ],
             [
              0.4444444444444444,
              "#bd3786"
             ],
             [
              0.5555555555555556,
              "#d8576b"
             ],
             [
              0.6666666666666666,
              "#ed7953"
             ],
             [
              0.7777777777777778,
              "#fb9f3a"
             ],
             [
              0.8888888888888888,
              "#fdca26"
             ],
             [
              1,
              "#f0f921"
             ]
            ],
            "type": "surface"
           }
          ],
          "table": [
           {
            "cells": {
             "fill": {
              "color": "#EBF0F8"
             },
             "line": {
              "color": "white"
             }
            },
            "header": {
             "fill": {
              "color": "#C8D4E3"
             },
             "line": {
              "color": "white"
             }
            },
            "type": "table"
           }
          ]
         },
         "layout": {
          "annotationdefaults": {
           "arrowcolor": "#2a3f5f",
           "arrowhead": 0,
           "arrowwidth": 1
          },
          "autotypenumbers": "strict",
          "coloraxis": {
           "colorbar": {
            "outlinewidth": 0,
            "ticks": ""
           }
          },
          "colorscale": {
           "diverging": [
            [
             0,
             "#8e0152"
            ],
            [
             0.1,
             "#c51b7d"
            ],
            [
             0.2,
             "#de77ae"
            ],
            [
             0.3,
             "#f1b6da"
            ],
            [
             0.4,
             "#fde0ef"
            ],
            [
             0.5,
             "#f7f7f7"
            ],
            [
             0.6,
             "#e6f5d0"
            ],
            [
             0.7,
             "#b8e186"
            ],
            [
             0.8,
             "#7fbc41"
            ],
            [
             0.9,
             "#4d9221"
            ],
            [
             1,
             "#276419"
            ]
           ],
           "sequential": [
            [
             0,
             "#0d0887"
            ],
            [
             0.1111111111111111,
             "#46039f"
            ],
            [
             0.2222222222222222,
             "#7201a8"
            ],
            [
             0.3333333333333333,
             "#9c179e"
            ],
            [
             0.4444444444444444,
             "#bd3786"
            ],
            [
             0.5555555555555556,
             "#d8576b"
            ],
            [
             0.6666666666666666,
             "#ed7953"
            ],
            [
             0.7777777777777778,
             "#fb9f3a"
            ],
            [
             0.8888888888888888,
             "#fdca26"
            ],
            [
             1,
             "#f0f921"
            ]
           ],
           "sequentialminus": [
            [
             0,
             "#0d0887"
            ],
            [
             0.1111111111111111,
             "#46039f"
            ],
            [
             0.2222222222222222,
             "#7201a8"
            ],
            [
             0.3333333333333333,
             "#9c179e"
            ],
            [
             0.4444444444444444,
             "#bd3786"
            ],
            [
             0.5555555555555556,
             "#d8576b"
            ],
            [
             0.6666666666666666,
             "#ed7953"
            ],
            [
             0.7777777777777778,
             "#fb9f3a"
            ],
            [
             0.8888888888888888,
             "#fdca26"
            ],
            [
             1,
             "#f0f921"
            ]
           ]
          },
          "colorway": [
           "#636efa",
           "#EF553B",
           "#00cc96",
           "#ab63fa",
           "#FFA15A",
           "#19d3f3",
           "#FF6692",
           "#B6E880",
           "#FF97FF",
           "#FECB52"
          ],
          "font": {
           "color": "#2a3f5f"
          },
          "geo": {
           "bgcolor": "white",
           "lakecolor": "white",
           "landcolor": "#E5ECF6",
           "showlakes": true,
           "showland": true,
           "subunitcolor": "white"
          },
          "hoverlabel": {
           "align": "left"
          },
          "hovermode": "closest",
          "mapbox": {
           "style": "light"
          },
          "paper_bgcolor": "white",
          "plot_bgcolor": "#E5ECF6",
          "polar": {
           "angularaxis": {
            "gridcolor": "white",
            "linecolor": "white",
            "ticks": ""
           },
           "bgcolor": "#E5ECF6",
           "radialaxis": {
            "gridcolor": "white",
            "linecolor": "white",
            "ticks": ""
           }
          },
          "scene": {
           "xaxis": {
            "backgroundcolor": "#E5ECF6",
            "gridcolor": "white",
            "gridwidth": 2,
            "linecolor": "white",
            "showbackground": true,
            "ticks": "",
            "zerolinecolor": "white"
           },
           "yaxis": {
            "backgroundcolor": "#E5ECF6",
            "gridcolor": "white",
            "gridwidth": 2,
            "linecolor": "white",
            "showbackground": true,
            "ticks": "",
            "zerolinecolor": "white"
           },
           "zaxis": {
            "backgroundcolor": "#E5ECF6",
            "gridcolor": "white",
            "gridwidth": 2,
            "linecolor": "white",
            "showbackground": true,
            "ticks": "",
            "zerolinecolor": "white"
           }
          },
          "shapedefaults": {
           "line": {
            "color": "#2a3f5f"
           }
          },
          "ternary": {
           "aaxis": {
            "gridcolor": "white",
            "linecolor": "white",
            "ticks": ""
           },
           "baxis": {
            "gridcolor": "white",
            "linecolor": "white",
            "ticks": ""
           },
           "bgcolor": "#E5ECF6",
           "caxis": {
            "gridcolor": "white",
            "linecolor": "white",
            "ticks": ""
           }
          },
          "title": {
           "x": 0.05
          },
          "xaxis": {
           "automargin": true,
           "gridcolor": "white",
           "linecolor": "white",
           "ticks": "",
           "title": {
            "standoff": 15
           },
           "zerolinecolor": "white",
           "zerolinewidth": 2
          },
          "yaxis": {
           "automargin": true,
           "gridcolor": "white",
           "linecolor": "white",
           "ticks": "",
           "title": {
            "standoff": 15
           },
           "zerolinecolor": "white",
           "zerolinewidth": 2
          }
         }
        },
        "title": {
         "text": "Price vs Stores by Region"
        },
        "width": 800,
        "xaxis": {
         "anchor": "y",
         "domain": [
          0,
          1
         ],
         "dtick": 2,
         "range": [
          -0.5,
          10.525
         ],
         "ticklen": 0,
         "zeroline": false
        },
        "yaxis": {
         "anchor": "x",
         "domain": [
          0,
          1
         ],
         "dtick": 15,
         "range": [
          3.4,
          82.78
         ],
         "ticklen": 0,
         "zeroline": false
        }
       }
      },
      "text/html": [
       "<div>                            <div id=\"29576129-80d0-4030-b578-77249d31a157\" class=\"plotly-graph-div\" style=\"height:600px; width:800px;\"></div>            <script type=\"text/javascript\">                require([\"plotly\"], function(Plotly) {                    window.PLOTLYENV=window.PLOTLYENV || {};                                    if (document.getElementById(\"29576129-80d0-4030-b578-77249d31a157\")) {                    Plotly.newPlot(                        \"29576129-80d0-4030-b578-77249d31a157\",                        [{\"marker\":{\"color\":\"rgb(255, 0, 0)\",\"line\":{\"color\":\"darkgrey\",\"width\":1},\"opacity\":1.0,\"size\":10},\"mode\":\"markers\",\"name\":\"Region0\",\"x\":[3,3,4,3,2,2,3,2,3,3,3,4,3,3,3,3,3,3,3,3,3,3,3,4,2,3,3,2,4,3,3,3,3,3,3,3,3,2,3,2,3,3,3,4,2,3,2,3,4,2,3,3],\"xaxis\":\"x\",\"y\":[32.1,22.1,23.8,29.3,27.0,22.9,27.0,21.3,27.7,25.6,17.7,21.8,28.4,23.1,30.6,30.7,28.9,23.6,21.5,25.7,21.4,20.9,33.4,23.9,28.8,33.4,21.7,25.9,30.7,24.4,31.7,23.7,27.7,31.1,21.8,23.2,29.4,31.3,23.6,30.8,28.6,25.7,31.3,29.5,20.9,22.8,30.5,25.6,27.3,23.0,27.7,28.1],\"yaxis\":\"y\",\"type\":\"scatter\"},{\"marker\":{\"color\":\"rgb(0, 255, 0)\",\"line\":{\"color\":\"darkgrey\",\"width\":1},\"opacity\":1.0,\"size\":10},\"mode\":\"markers\",\"name\":\"Region1\",\"x\":[1,0,0,0,0,1,1,0,0,0,1,0,0,0,0,0,0,0,0,0,0,0,0,0,1,1,1,0,0,0,0,1,0,0,1,0],\"xaxis\":\"x\",\"y\":[18.8,22.1,15.9,18.2,13.4,13.2,22.6,20.0,18.3,25.3,12.2,13.0,45.1,20.7,15.6,11.6,14.4,19.2,15.5,18.8,20.5,29.3,12.8,14.7,17.4,15.0,17.4,16.7,18.6,19.2,15.6,11.2,29.3,12.9,24.7,15.4],\"yaxis\":\"y\",\"type\":\"scatter\"},{\"marker\":{\"color\":\"rgb(0, 0, 255)\",\"line\":{\"color\":\"darkgrey\",\"width\":1},\"opacity\":1.0,\"size\":10},\"mode\":\"markers\",\"name\":\"Region2\",\"x\":[10,9,5,5,5,7,6,1,9,4,2,6,1,7,7,4,5,4,5,7,1,6,7,0,6,5,6,4,3,4,5,8,6,4,8,6,5,9,3,8,10,3,2,4,0,1,0,9,3,5,9,4,1,6,8,2,7,8,2,5,4,0,7,4,5,7,8,5,8,5,0,5,5,0,8,9,4,5,4,3,0,1,6,8,5,9,4,7,3,9,4,1,8,8,8,2,5,2,5,3,5,10,3,8,5,1,2,9,8,1,6,8,9,0,10,0,6,8,0,9,10,0,0,8,5,7,9,5,1,1,6,5,4,5,5,1,7,9,2,3,9,6,5,0,6,4,10,0,0,5,1,5,4,9,6,2,2,10,4,1,6,3,2,5,2,5,0,2,9,8,0,0,6,5,1,10,8,4,10,7,1,5,1,5,6,5,9,4,10,0,9,6,4,4,1,4,1,5,1,9,5,7,9,7,9],\"xaxis\":\"x\",\"y\":[37.9,42.2,47.3,54.8,43.1,40.3,46.7,41.4,58.1,34.3,50.5,70.1,37.4,51.6,47.9,38.8,56.2,47.0,57.1,25.0,34.2,49.3,55.1,27.3,47.7,46.2,34.1,53.9,61.5,44.2,51.7,41.9,63.2,55.0,44.3,36.2,42.0,59.0,40.8,36.3,54.4,36.8,29.8,40.3,48.0,45.4,43.2,59.5,34.6,51.0,62.2,38.2,32.9,71.0,47.1,34.1,39.4,53.3,46.4,59.6,32.5,45.5,57.4,62.9,55.0,41.0,37.5,37.5,39.5,46.8,43.5,51.4,45.5,52.2,39.7,44.7,35.6,39.4,37.4,39.6,55.2,30.6,73.6,43.4,58.8,58.1,35.1,45.2,36.5,42.0,36.7,42.6,55.9,44.3,42.3,37.8,49.3,36.6,45.9,31.5,46.1,44.0,34.2,40.9,52.2,43.5,31.1,58.0,48.1,39.7,40.8,40.2,78.3,38.5,48.5,42.3,46.0,40.2,46.6,32.4,61.9,39.0,40.6,48.2,40.8,30.0,52.7,51.8,26.5,43.9,63.3,53.0,38.1,41.1,40.1,29.3,41.0,44.8,23.5,55.3,56.3,51.0,44.5,37.0,38.1,34.1,46.1,35.7,38.4,55.0,50.2,53.0,42.2,78.0,41.6,27.3,37.5,49.8,37.7,33.1,42.5,36.7,39.6,22.8,35.6,50.4,42.9,37.0,53.5,46.6,41.2,37.9,53.7,60.7,45.3,47.1,63.3,40.0,48.0,33.1,43.1,42.1,52.2,49.5,69.7,53.3,47.3,40.3,46.6,55.3,38.6,35.3,40.3,42.5,31.9,32.2,37.3,35.5,28.5,39.7,41.2,40.5,50.0,40.6,63.9],\"yaxis\":\"y\",\"type\":\"scatter\"},{\"marker\":{\"color\":\"rgb(255, 255, 255)\",\"line\":{\"color\":\"darkgrey\",\"width\":1},\"opacity\":1.0,\"size\":10},\"mode\":\"markers\",\"name\":\"Region3\",\"x\":[5,8,7,1,5,1,5,8,9,1,5,0,7,5,0,6,5,1,1,6,7,7,9,1,0,5,5,6,6,6,1,5,6,5,5,6,6,6,0,6,5,5,5,1,8,7,1,6,0,8,5,5,1,0,0,7,5,8,7,8,0,1,1,5,6,0,7,0,7,6,0,0,0,0,7,0,8,5,7,5,6,6,1,7,5,7,5,7,4,4,0,0,2,5,7,5,8,7,0,5,6,5,9,5,5,1,9,6,0,1,5,7,0,8,8,8,1,6,0,5],\"xaxis\":\"x\",\"y\":[39.3,42.3,47.7,24.6,33.6,25.3,34.7,38.3,42.0,20.7,38.9,13.7,53.5,42.4,25.3,50.7,56.8,29.5,26.5,36.8,48.1,43.7,50.8,27.0,16.1,41.0,51.8,54.4,45.7,30.5,26.6,51.6,7.6,31.3,48.0,48.6,60.7,42.2,20.8,47.4,42.5,37.5,40.1,28.4,43.2,48.5,28.9,40.9,18.3,57.8,55.5,37.4,23.5,21.8,22.0,42.7,34.6,48.2,39.1,31.6,25.5,26.6,26.2,43.8,49.0,19.0,39.3,29.7,41.4,40.6,23.1,22.3,13.8,28.8,40.6,23.0,26.5,40.5,49.7,34.0,44.0,45.4,25.6,34.4,32.9,54.4,24.5,42.5,28.5,36.9,24.7,19.1,24.7,42.8,42.0,26.9,38.1,62.1,12.8,38.4,36.5,30.9,36.3,47.0,42.3,30.1,44.9,45.1,24.7,24.8,51.7,41.5,23.8,56.8,37.4,67.7,31.3,37.2,22.3,52.5],\"yaxis\":\"y\",\"type\":\"scatter\"}],                        {\"annotations\":[{\"font\":{\"color\":\"#000000\",\"size\":12},\"showarrow\":false,\"text\":\"convenience_stores\",\"textangle\":0,\"x\":0.5,\"xanchor\":\"center\",\"xref\":\"paper\",\"y\":-0.1,\"yanchor\":\"middle\",\"yref\":\"paper\"},{\"font\":{\"color\":\"#000000\",\"size\":12},\"showarrow\":false,\"text\":\"house_price\",\"textangle\":-90,\"x\":-0.1,\"xanchor\":\"center\",\"xref\":\"paper\",\"y\":0.5,\"yanchor\":\"middle\",\"yref\":\"paper\"}],\"height\":600,\"legend\":{\"bgcolor\":\"#efefef\",\"borderwidth\":1,\"x\":1.05,\"y\":1,\"yanchor\":\"top\"},\"paper_bgcolor\":\"rgb(255, 255, 255)\",\"plot_bgcolor\":\"rgb(251, 251, 251)\",\"showlegend\":true,\"template\":{\"data\":{\"barpolar\":[{\"marker\":{\"line\":{\"color\":\"#E5ECF6\",\"width\":0.5},\"pattern\":{\"fillmode\":\"overlay\",\"size\":10,\"solidity\":0.2}},\"type\":\"barpolar\"}],\"bar\":[{\"error_x\":{\"color\":\"#2a3f5f\"},\"error_y\":{\"color\":\"#2a3f5f\"},\"marker\":{\"line\":{\"color\":\"#E5ECF6\",\"width\":0.5},\"pattern\":{\"fillmode\":\"overlay\",\"size\":10,\"solidity\":0.2}},\"type\":\"bar\"}],\"carpet\":[{\"aaxis\":{\"endlinecolor\":\"#2a3f5f\",\"gridcolor\":\"white\",\"linecolor\":\"white\",\"minorgridcolor\":\"white\",\"startlinecolor\":\"#2a3f5f\"},\"baxis\":{\"endlinecolor\":\"#2a3f5f\",\"gridcolor\":\"white\",\"linecolor\":\"white\",\"minorgridcolor\":\"white\",\"startlinecolor\":\"#2a3f5f\"},\"type\":\"carpet\"}],\"choropleth\":[{\"colorbar\":{\"outlinewidth\":0,\"ticks\":\"\"},\"type\":\"choropleth\"}],\"contourcarpet\":[{\"colorbar\":{\"outlinewidth\":0,\"ticks\":\"\"},\"type\":\"contourcarpet\"}],\"contour\":[{\"colorbar\":{\"outlinewidth\":0,\"ticks\":\"\"},\"colorscale\":[[0.0,\"#0d0887\"],[0.1111111111111111,\"#46039f\"],[0.2222222222222222,\"#7201a8\"],[0.3333333333333333,\"#9c179e\"],[0.4444444444444444,\"#bd3786\"],[0.5555555555555556,\"#d8576b\"],[0.6666666666666666,\"#ed7953\"],[0.7777777777777778,\"#fb9f3a\"],[0.8888888888888888,\"#fdca26\"],[1.0,\"#f0f921\"]],\"type\":\"contour\"}],\"heatmapgl\":[{\"colorbar\":{\"outlinewidth\":0,\"ticks\":\"\"},\"colorscale\":[[0.0,\"#0d0887\"],[0.1111111111111111,\"#46039f\"],[0.2222222222222222,\"#7201a8\"],[0.3333333333333333,\"#9c179e\"],[0.4444444444444444,\"#bd3786\"],[0.5555555555555556,\"#d8576b\"],[0.6666666666666666,\"#ed7953\"],[0.7777777777777778,\"#fb9f3a\"],[0.8888888888888888,\"#fdca26\"],[1.0,\"#f0f921\"]],\"type\":\"heatmapgl\"}],\"heatmap\":[{\"colorbar\":{\"outlinewidth\":0,\"ticks\":\"\"},\"colorscale\":[[0.0,\"#0d0887\"],[0.1111111111111111,\"#46039f\"],[0.2222222222222222,\"#7201a8\"],[0.3333333333333333,\"#9c179e\"],[0.4444444444444444,\"#bd3786\"],[0.5555555555555556,\"#d8576b\"],[0.6666666666666666,\"#ed7953\"],[0.7777777777777778,\"#fb9f3a\"],[0.8888888888888888,\"#fdca26\"],[1.0,\"#f0f921\"]],\"type\":\"heatmap\"}],\"histogram2dcontour\":[{\"colorbar\":{\"outlinewidth\":0,\"ticks\":\"\"},\"colorscale\":[[0.0,\"#0d0887\"],[0.1111111111111111,\"#46039f\"],[0.2222222222222222,\"#7201a8\"],[0.3333333333333333,\"#9c179e\"],[0.4444444444444444,\"#bd3786\"],[0.5555555555555556,\"#d8576b\"],[0.6666666666666666,\"#ed7953\"],[0.7777777777777778,\"#fb9f3a\"],[0.8888888888888888,\"#fdca26\"],[1.0,\"#f0f921\"]],\"type\":\"histogram2dcontour\"}],\"histogram2d\":[{\"colorbar\":{\"outlinewidth\":0,\"ticks\":\"\"},\"colorscale\":[[0.0,\"#0d0887\"],[0.1111111111111111,\"#46039f\"],[0.2222222222222222,\"#7201a8\"],[0.3333333333333333,\"#9c179e\"],[0.4444444444444444,\"#bd3786\"],[0.5555555555555556,\"#d8576b\"],[0.6666666666666666,\"#ed7953\"],[0.7777777777777778,\"#fb9f3a\"],[0.8888888888888888,\"#fdca26\"],[1.0,\"#f0f921\"]],\"type\":\"histogram2d\"}],\"histogram\":[{\"marker\":{\"pattern\":{\"fillmode\":\"overlay\",\"size\":10,\"solidity\":0.2}},\"type\":\"histogram\"}],\"mesh3d\":[{\"colorbar\":{\"outlinewidth\":0,\"ticks\":\"\"},\"type\":\"mesh3d\"}],\"parcoords\":[{\"line\":{\"colorbar\":{\"outlinewidth\":0,\"ticks\":\"\"}},\"type\":\"parcoords\"}],\"pie\":[{\"automargin\":true,\"type\":\"pie\"}],\"scatter3d\":[{\"line\":{\"colorbar\":{\"outlinewidth\":0,\"ticks\":\"\"}},\"marker\":{\"colorbar\":{\"outlinewidth\":0,\"ticks\":\"\"}},\"type\":\"scatter3d\"}],\"scattercarpet\":[{\"marker\":{\"colorbar\":{\"outlinewidth\":0,\"ticks\":\"\"}},\"type\":\"scattercarpet\"}],\"scattergeo\":[{\"marker\":{\"colorbar\":{\"outlinewidth\":0,\"ticks\":\"\"}},\"type\":\"scattergeo\"}],\"scattergl\":[{\"marker\":{\"colorbar\":{\"outlinewidth\":0,\"ticks\":\"\"}},\"type\":\"scattergl\"}],\"scattermapbox\":[{\"marker\":{\"colorbar\":{\"outlinewidth\":0,\"ticks\":\"\"}},\"type\":\"scattermapbox\"}],\"scatterpolargl\":[{\"marker\":{\"colorbar\":{\"outlinewidth\":0,\"ticks\":\"\"}},\"type\":\"scatterpolargl\"}],\"scatterpolar\":[{\"marker\":{\"colorbar\":{\"outlinewidth\":0,\"ticks\":\"\"}},\"type\":\"scatterpolar\"}],\"scatter\":[{\"fillpattern\":{\"fillmode\":\"overlay\",\"size\":10,\"solidity\":0.2},\"type\":\"scatter\"}],\"scatterternary\":[{\"marker\":{\"colorbar\":{\"outlinewidth\":0,\"ticks\":\"\"}},\"type\":\"scatterternary\"}],\"surface\":[{\"colorbar\":{\"outlinewidth\":0,\"ticks\":\"\"},\"colorscale\":[[0.0,\"#0d0887\"],[0.1111111111111111,\"#46039f\"],[0.2222222222222222,\"#7201a8\"],[0.3333333333333333,\"#9c179e\"],[0.4444444444444444,\"#bd3786\"],[0.5555555555555556,\"#d8576b\"],[0.6666666666666666,\"#ed7953\"],[0.7777777777777778,\"#fb9f3a\"],[0.8888888888888888,\"#fdca26\"],[1.0,\"#f0f921\"]],\"type\":\"surface\"}],\"table\":[{\"cells\":{\"fill\":{\"color\":\"#EBF0F8\"},\"line\":{\"color\":\"white\"}},\"header\":{\"fill\":{\"color\":\"#C8D4E3\"},\"line\":{\"color\":\"white\"}},\"type\":\"table\"}]},\"layout\":{\"annotationdefaults\":{\"arrowcolor\":\"#2a3f5f\",\"arrowhead\":0,\"arrowwidth\":1},\"autotypenumbers\":\"strict\",\"coloraxis\":{\"colorbar\":{\"outlinewidth\":0,\"ticks\":\"\"}},\"colorscale\":{\"diverging\":[[0,\"#8e0152\"],[0.1,\"#c51b7d\"],[0.2,\"#de77ae\"],[0.3,\"#f1b6da\"],[0.4,\"#fde0ef\"],[0.5,\"#f7f7f7\"],[0.6,\"#e6f5d0\"],[0.7,\"#b8e186\"],[0.8,\"#7fbc41\"],[0.9,\"#4d9221\"],[1,\"#276419\"]],\"sequential\":[[0.0,\"#0d0887\"],[0.1111111111111111,\"#46039f\"],[0.2222222222222222,\"#7201a8\"],[0.3333333333333333,\"#9c179e\"],[0.4444444444444444,\"#bd3786\"],[0.5555555555555556,\"#d8576b\"],[0.6666666666666666,\"#ed7953\"],[0.7777777777777778,\"#fb9f3a\"],[0.8888888888888888,\"#fdca26\"],[1.0,\"#f0f921\"]],\"sequentialminus\":[[0.0,\"#0d0887\"],[0.1111111111111111,\"#46039f\"],[0.2222222222222222,\"#7201a8\"],[0.3333333333333333,\"#9c179e\"],[0.4444444444444444,\"#bd3786\"],[0.5555555555555556,\"#d8576b\"],[0.6666666666666666,\"#ed7953\"],[0.7777777777777778,\"#fb9f3a\"],[0.8888888888888888,\"#fdca26\"],[1.0,\"#f0f921\"]]},\"colorway\":[\"#636efa\",\"#EF553B\",\"#00cc96\",\"#ab63fa\",\"#FFA15A\",\"#19d3f3\",\"#FF6692\",\"#B6E880\",\"#FF97FF\",\"#FECB52\"],\"font\":{\"color\":\"#2a3f5f\"},\"geo\":{\"bgcolor\":\"white\",\"lakecolor\":\"white\",\"landcolor\":\"#E5ECF6\",\"showlakes\":true,\"showland\":true,\"subunitcolor\":\"white\"},\"hoverlabel\":{\"align\":\"left\"},\"hovermode\":\"closest\",\"mapbox\":{\"style\":\"light\"},\"paper_bgcolor\":\"white\",\"plot_bgcolor\":\"#E5ECF6\",\"polar\":{\"angularaxis\":{\"gridcolor\":\"white\",\"linecolor\":\"white\",\"ticks\":\"\"},\"bgcolor\":\"#E5ECF6\",\"radialaxis\":{\"gridcolor\":\"white\",\"linecolor\":\"white\",\"ticks\":\"\"}},\"scene\":{\"xaxis\":{\"backgroundcolor\":\"#E5ECF6\",\"gridcolor\":\"white\",\"gridwidth\":2,\"linecolor\":\"white\",\"showbackground\":true,\"ticks\":\"\",\"zerolinecolor\":\"white\"},\"yaxis\":{\"backgroundcolor\":\"#E5ECF6\",\"gridcolor\":\"white\",\"gridwidth\":2,\"linecolor\":\"white\",\"showbackground\":true,\"ticks\":\"\",\"zerolinecolor\":\"white\"},\"zaxis\":{\"backgroundcolor\":\"#E5ECF6\",\"gridcolor\":\"white\",\"gridwidth\":2,\"linecolor\":\"white\",\"showbackground\":true,\"ticks\":\"\",\"zerolinecolor\":\"white\"}},\"shapedefaults\":{\"line\":{\"color\":\"#2a3f5f\"}},\"ternary\":{\"aaxis\":{\"gridcolor\":\"white\",\"linecolor\":\"white\",\"ticks\":\"\"},\"baxis\":{\"gridcolor\":\"white\",\"linecolor\":\"white\",\"ticks\":\"\"},\"bgcolor\":\"#E5ECF6\",\"caxis\":{\"gridcolor\":\"white\",\"linecolor\":\"white\",\"ticks\":\"\"}},\"title\":{\"x\":0.05},\"xaxis\":{\"automargin\":true,\"gridcolor\":\"white\",\"linecolor\":\"white\",\"ticks\":\"\",\"title\":{\"standoff\":15},\"zerolinecolor\":\"white\",\"zerolinewidth\":2},\"yaxis\":{\"automargin\":true,\"gridcolor\":\"white\",\"linecolor\":\"white\",\"ticks\":\"\",\"title\":{\"standoff\":15},\"zerolinecolor\":\"white\",\"zerolinewidth\":2}}},\"title\":{\"text\":\"Price vs Stores by Region\"},\"width\":800,\"xaxis\":{\"anchor\":\"y\",\"domain\":[0.0,1.0],\"dtick\":2,\"range\":[-0.5,10.525],\"ticklen\":0,\"zeroline\":false},\"yaxis\":{\"anchor\":\"x\",\"domain\":[0.0,1.0],\"dtick\":15,\"range\":[3.4,82.78],\"ticklen\":0,\"zeroline\":false}},                        {\"responsive\": true}                    ).then(function(){\n",
       "                            \n",
       "var gd = document.getElementById('29576129-80d0-4030-b578-77249d31a157');\n",
       "var x = new MutationObserver(function (mutations, observer) {{\n",
       "        var display = window.getComputedStyle(gd).display;\n",
       "        if (!display || display === 'none') {{\n",
       "            console.log([gd, 'removed!']);\n",
       "            Plotly.purge(gd);\n",
       "            observer.disconnect();\n",
       "        }}\n",
       "}});\n",
       "\n",
       "// Listen for the removal of the full notebook cells\n",
       "var notebookContainer = gd.closest('#notebook-container');\n",
       "if (notebookContainer) {{\n",
       "    x.observe(notebookContainer, {childList: true});\n",
       "}}\n",
       "\n",
       "// Listen for the clearing of the current output cell\n",
       "var outputEl = gd.closest('.output');\n",
       "if (outputEl) {{\n",
       "    x.observe(outputEl, {childList: true});\n",
       "}}\n",
       "\n",
       "                        })                };                });            </script>        </div>"
      ]
     },
     "metadata": {},
     "output_type": "display_data"
    }
   ],
   "source": [
    "fig = ff.create_facet_grid(\n",
    "    df,\n",
    "    x='convenience_stores',\n",
    "    y='house_price',\n",
    "    color_name='Region',\n",
    "    show_boxes=False,\n",
    "    marker={'size': 10, 'opacity': 1.0},\n",
    "    colormap={'Region0': 'rgb(255, 0, 0)', 'Region1': 'rgb(0, 255, 0)',\n",
    "             'Region2': 'rgb(0, 0, 255)','Region3':'rgb(255,255,255)'}\n",
    ")\n",
    "251, 232, 238\n",
    "\n",
    "\n",
    "fig['layout'].update(title=\"Price vs Stores by Region\", width=800, height=600, plot_bgcolor='rgb(251, 251, 251)', \n",
    "                     paper_bgcolor='rgb(255, 255, 255)')\n",
    "\n",
    "\n",
    "iplot(fig, filename='facet - custom colormap')"
   ]
  },
  {
   "cell_type": "markdown",
   "metadata": {},
   "source": [
    "The Facet Grid of Prices vs Stores by Region shows that more stores are available in Region2 and Region3."
   ]
  },
  {
   "cell_type": "code",
   "execution_count": 39,
   "metadata": {},
   "outputs": [],
   "source": [
    "#Region2 and Region 3 distributions \n",
    "price_r3_more=df.loc[(df['Region']=='Region3') & (df['store_cat'] == 'More'),'house_price']\n",
    "price_r3_less=df.loc[(df['Region']=='Region3') & (df['store_cat'] == 'Less'),'house_price']\n",
    "\n",
    "price_r2_more=df.loc[(df['Region']=='Region2') & (df['store_cat'] == 'More'),'house_price']\n",
    "price_r2_less=df.loc[(df['Region']=='Region2') & (df['store_cat'] == 'Less'),'house_price']"
   ]
  },
  {
   "cell_type": "code",
   "execution_count": 40,
   "metadata": {},
   "outputs": [
    {
     "data": {
      "application/vnd.plotly.v1+json": {
       "config": {
        "plotlyServerURL": "https://plot.ly"
       },
       "data": [
        {
         "marker": {
          "color": "#3D9970"
         },
         "name": "Region3 with More Stores",
         "type": "box",
         "y": [
          39.3,
          42.3,
          47.7,
          33.6,
          34.7,
          38.3,
          42,
          38.9,
          53.5,
          42.4,
          50.7,
          56.8,
          36.8,
          48.1,
          43.7,
          50.8,
          41,
          51.8,
          54.4,
          45.7,
          30.5,
          51.6,
          7.6,
          31.3,
          48,
          48.6,
          60.7,
          42.2,
          47.4,
          42.5,
          37.5,
          40.1,
          43.2,
          48.5,
          40.9,
          57.8,
          55.5,
          37.4,
          42.7,
          34.6,
          48.2,
          39.1,
          31.6,
          43.8,
          49,
          39.3,
          41.4,
          40.6,
          40.6,
          26.5,
          40.5,
          49.7,
          34,
          44,
          45.4,
          34.4,
          32.9,
          54.4,
          24.5,
          42.5,
          42.8,
          42,
          26.9,
          38.1,
          62.1,
          38.4,
          36.5,
          30.9,
          36.3,
          47,
          42.3,
          44.9,
          45.1,
          51.7,
          41.5,
          56.8,
          37.4,
          67.7,
          37.2,
          52.5
         ]
        },
        {
         "marker": {
          "color": "#FF4136"
         },
         "name": "Region3 with Less Stores",
         "type": "box",
         "y": [
          24.6,
          25.3,
          20.7,
          13.7,
          25.3,
          29.5,
          26.5,
          27,
          16.1,
          26.6,
          20.8,
          28.4,
          28.9,
          18.3,
          23.5,
          21.8,
          22,
          25.5,
          26.6,
          26.2,
          19,
          29.7,
          23.1,
          22.3,
          13.8,
          28.8,
          23,
          25.6,
          28.5,
          36.9,
          24.7,
          19.1,
          24.7,
          12.8,
          30.1,
          24.7,
          24.8,
          23.8,
          31.3,
          22.3
         ]
        },
        {
         "marker": {
          "color": "#1121F8"
         },
         "name": "Region2 with More Stores",
         "type": "box",
         "y": [
          37.9,
          42.2,
          47.3,
          54.8,
          43.1,
          40.3,
          46.7,
          58.1,
          70.1,
          51.6,
          47.9,
          56.2,
          57.1,
          25,
          49.3,
          55.1,
          47.7,
          46.2,
          34.1,
          51.7,
          41.9,
          63.2,
          44.3,
          36.2,
          42,
          59,
          36.3,
          54.4,
          59.5,
          51,
          62.2,
          71,
          47.1,
          39.4,
          53.3,
          59.6,
          57.4,
          55,
          41,
          37.5,
          37.5,
          39.5,
          46.8,
          51.4,
          45.5,
          39.7,
          44.7,
          39.4,
          73.6,
          43.4,
          58.8,
          58.1,
          45.2,
          42,
          55.9,
          44.3,
          42.3,
          49.3,
          45.9,
          46.1,
          44,
          40.9,
          52.2,
          58,
          48.1,
          40.8,
          40.2,
          78.3,
          48.5,
          46,
          40.2,
          32.4,
          61.9,
          48.2,
          40.8,
          30,
          52.7,
          51.8,
          63.3,
          53,
          41.1,
          40.1,
          41,
          44.8,
          56.3,
          51,
          44.5,
          38.1,
          46.1,
          55,
          53,
          78,
          41.6,
          49.8,
          42.5,
          22.8,
          50.4,
          53.5,
          46.6,
          53.7,
          60.7,
          47.1,
          63.3,
          48,
          33.1,
          42.1,
          49.5,
          69.7,
          53.3,
          47.3,
          46.6,
          38.6,
          35.3,
          35.5,
          39.7,
          41.2,
          40.5,
          50,
          40.6,
          63.9
         ]
        },
        {
         "marker": {
          "color": "#C362C2"
         },
         "name": "Region2 with Less Stores",
         "type": "box",
         "y": [
          41.4,
          34.3,
          50.5,
          37.4,
          38.8,
          47,
          34.2,
          27.3,
          53.9,
          61.5,
          44.2,
          55,
          40.8,
          36.8,
          29.8,
          40.3,
          48,
          45.4,
          43.2,
          34.6,
          38.2,
          32.9,
          34.1,
          46.4,
          32.5,
          45.5,
          62.9,
          43.5,
          52.2,
          35.6,
          37.4,
          39.6,
          55.2,
          30.6,
          35.1,
          36.5,
          36.7,
          42.6,
          37.8,
          36.6,
          31.5,
          34.2,
          43.5,
          31.1,
          39.7,
          38.5,
          42.3,
          46.6,
          39,
          40.6,
          26.5,
          43.9,
          38.1,
          29.3,
          23.5,
          55.3,
          37,
          34.1,
          35.7,
          38.4,
          50.2,
          42.2,
          27.3,
          37.5,
          37.7,
          33.1,
          36.7,
          39.6,
          35.6,
          42.9,
          37,
          41.2,
          37.9,
          45.3,
          40,
          43.1,
          52.2,
          40.3,
          55.3,
          40.3,
          42.5,
          31.9,
          32.2,
          37.3,
          28.5
         ]
        }
       ],
       "layout": {
        "template": {
         "data": {
          "bar": [
           {
            "error_x": {
             "color": "#2a3f5f"
            },
            "error_y": {
             "color": "#2a3f5f"
            },
            "marker": {
             "line": {
              "color": "#E5ECF6",
              "width": 0.5
             },
             "pattern": {
              "fillmode": "overlay",
              "size": 10,
              "solidity": 0.2
             }
            },
            "type": "bar"
           }
          ],
          "barpolar": [
           {
            "marker": {
             "line": {
              "color": "#E5ECF6",
              "width": 0.5
             },
             "pattern": {
              "fillmode": "overlay",
              "size": 10,
              "solidity": 0.2
             }
            },
            "type": "barpolar"
           }
          ],
          "carpet": [
           {
            "aaxis": {
             "endlinecolor": "#2a3f5f",
             "gridcolor": "white",
             "linecolor": "white",
             "minorgridcolor": "white",
             "startlinecolor": "#2a3f5f"
            },
            "baxis": {
             "endlinecolor": "#2a3f5f",
             "gridcolor": "white",
             "linecolor": "white",
             "minorgridcolor": "white",
             "startlinecolor": "#2a3f5f"
            },
            "type": "carpet"
           }
          ],
          "choropleth": [
           {
            "colorbar": {
             "outlinewidth": 0,
             "ticks": ""
            },
            "type": "choropleth"
           }
          ],
          "contour": [
           {
            "colorbar": {
             "outlinewidth": 0,
             "ticks": ""
            },
            "colorscale": [
             [
              0,
              "#0d0887"
             ],
             [
              0.1111111111111111,
              "#46039f"
             ],
             [
              0.2222222222222222,
              "#7201a8"
             ],
             [
              0.3333333333333333,
              "#9c179e"
             ],
             [
              0.4444444444444444,
              "#bd3786"
             ],
             [
              0.5555555555555556,
              "#d8576b"
             ],
             [
              0.6666666666666666,
              "#ed7953"
             ],
             [
              0.7777777777777778,
              "#fb9f3a"
             ],
             [
              0.8888888888888888,
              "#fdca26"
             ],
             [
              1,
              "#f0f921"
             ]
            ],
            "type": "contour"
           }
          ],
          "contourcarpet": [
           {
            "colorbar": {
             "outlinewidth": 0,
             "ticks": ""
            },
            "type": "contourcarpet"
           }
          ],
          "heatmap": [
           {
            "colorbar": {
             "outlinewidth": 0,
             "ticks": ""
            },
            "colorscale": [
             [
              0,
              "#0d0887"
             ],
             [
              0.1111111111111111,
              "#46039f"
             ],
             [
              0.2222222222222222,
              "#7201a8"
             ],
             [
              0.3333333333333333,
              "#9c179e"
             ],
             [
              0.4444444444444444,
              "#bd3786"
             ],
             [
              0.5555555555555556,
              "#d8576b"
             ],
             [
              0.6666666666666666,
              "#ed7953"
             ],
             [
              0.7777777777777778,
              "#fb9f3a"
             ],
             [
              0.8888888888888888,
              "#fdca26"
             ],
             [
              1,
              "#f0f921"
             ]
            ],
            "type": "heatmap"
           }
          ],
          "heatmapgl": [
           {
            "colorbar": {
             "outlinewidth": 0,
             "ticks": ""
            },
            "colorscale": [
             [
              0,
              "#0d0887"
             ],
             [
              0.1111111111111111,
              "#46039f"
             ],
             [
              0.2222222222222222,
              "#7201a8"
             ],
             [
              0.3333333333333333,
              "#9c179e"
             ],
             [
              0.4444444444444444,
              "#bd3786"
             ],
             [
              0.5555555555555556,
              "#d8576b"
             ],
             [
              0.6666666666666666,
              "#ed7953"
             ],
             [
              0.7777777777777778,
              "#fb9f3a"
             ],
             [
              0.8888888888888888,
              "#fdca26"
             ],
             [
              1,
              "#f0f921"
             ]
            ],
            "type": "heatmapgl"
           }
          ],
          "histogram": [
           {
            "marker": {
             "pattern": {
              "fillmode": "overlay",
              "size": 10,
              "solidity": 0.2
             }
            },
            "type": "histogram"
           }
          ],
          "histogram2d": [
           {
            "colorbar": {
             "outlinewidth": 0,
             "ticks": ""
            },
            "colorscale": [
             [
              0,
              "#0d0887"
             ],
             [
              0.1111111111111111,
              "#46039f"
             ],
             [
              0.2222222222222222,
              "#7201a8"
             ],
             [
              0.3333333333333333,
              "#9c179e"
             ],
             [
              0.4444444444444444,
              "#bd3786"
             ],
             [
              0.5555555555555556,
              "#d8576b"
             ],
             [
              0.6666666666666666,
              "#ed7953"
             ],
             [
              0.7777777777777778,
              "#fb9f3a"
             ],
             [
              0.8888888888888888,
              "#fdca26"
             ],
             [
              1,
              "#f0f921"
             ]
            ],
            "type": "histogram2d"
           }
          ],
          "histogram2dcontour": [
           {
            "colorbar": {
             "outlinewidth": 0,
             "ticks": ""
            },
            "colorscale": [
             [
              0,
              "#0d0887"
             ],
             [
              0.1111111111111111,
              "#46039f"
             ],
             [
              0.2222222222222222,
              "#7201a8"
             ],
             [
              0.3333333333333333,
              "#9c179e"
             ],
             [
              0.4444444444444444,
              "#bd3786"
             ],
             [
              0.5555555555555556,
              "#d8576b"
             ],
             [
              0.6666666666666666,
              "#ed7953"
             ],
             [
              0.7777777777777778,
              "#fb9f3a"
             ],
             [
              0.8888888888888888,
              "#fdca26"
             ],
             [
              1,
              "#f0f921"
             ]
            ],
            "type": "histogram2dcontour"
           }
          ],
          "mesh3d": [
           {
            "colorbar": {
             "outlinewidth": 0,
             "ticks": ""
            },
            "type": "mesh3d"
           }
          ],
          "parcoords": [
           {
            "line": {
             "colorbar": {
              "outlinewidth": 0,
              "ticks": ""
             }
            },
            "type": "parcoords"
           }
          ],
          "pie": [
           {
            "automargin": true,
            "type": "pie"
           }
          ],
          "scatter": [
           {
            "fillpattern": {
             "fillmode": "overlay",
             "size": 10,
             "solidity": 0.2
            },
            "type": "scatter"
           }
          ],
          "scatter3d": [
           {
            "line": {
             "colorbar": {
              "outlinewidth": 0,
              "ticks": ""
             }
            },
            "marker": {
             "colorbar": {
              "outlinewidth": 0,
              "ticks": ""
             }
            },
            "type": "scatter3d"
           }
          ],
          "scattercarpet": [
           {
            "marker": {
             "colorbar": {
              "outlinewidth": 0,
              "ticks": ""
             }
            },
            "type": "scattercarpet"
           }
          ],
          "scattergeo": [
           {
            "marker": {
             "colorbar": {
              "outlinewidth": 0,
              "ticks": ""
             }
            },
            "type": "scattergeo"
           }
          ],
          "scattergl": [
           {
            "marker": {
             "colorbar": {
              "outlinewidth": 0,
              "ticks": ""
             }
            },
            "type": "scattergl"
           }
          ],
          "scattermapbox": [
           {
            "marker": {
             "colorbar": {
              "outlinewidth": 0,
              "ticks": ""
             }
            },
            "type": "scattermapbox"
           }
          ],
          "scatterpolar": [
           {
            "marker": {
             "colorbar": {
              "outlinewidth": 0,
              "ticks": ""
             }
            },
            "type": "scatterpolar"
           }
          ],
          "scatterpolargl": [
           {
            "marker": {
             "colorbar": {
              "outlinewidth": 0,
              "ticks": ""
             }
            },
            "type": "scatterpolargl"
           }
          ],
          "scatterternary": [
           {
            "marker": {
             "colorbar": {
              "outlinewidth": 0,
              "ticks": ""
             }
            },
            "type": "scatterternary"
           }
          ],
          "surface": [
           {
            "colorbar": {
             "outlinewidth": 0,
             "ticks": ""
            },
            "colorscale": [
             [
              0,
              "#0d0887"
             ],
             [
              0.1111111111111111,
              "#46039f"
             ],
             [
              0.2222222222222222,
              "#7201a8"
             ],
             [
              0.3333333333333333,
              "#9c179e"
             ],
             [
              0.4444444444444444,
              "#bd3786"
             ],
             [
              0.5555555555555556,
              "#d8576b"
             ],
             [
              0.6666666666666666,
              "#ed7953"
             ],
             [
              0.7777777777777778,
              "#fb9f3a"
             ],
             [
              0.8888888888888888,
              "#fdca26"
             ],
             [
              1,
              "#f0f921"
             ]
            ],
            "type": "surface"
           }
          ],
          "table": [
           {
            "cells": {
             "fill": {
              "color": "#EBF0F8"
             },
             "line": {
              "color": "white"
             }
            },
            "header": {
             "fill": {
              "color": "#C8D4E3"
             },
             "line": {
              "color": "white"
             }
            },
            "type": "table"
           }
          ]
         },
         "layout": {
          "annotationdefaults": {
           "arrowcolor": "#2a3f5f",
           "arrowhead": 0,
           "arrowwidth": 1
          },
          "autotypenumbers": "strict",
          "coloraxis": {
           "colorbar": {
            "outlinewidth": 0,
            "ticks": ""
           }
          },
          "colorscale": {
           "diverging": [
            [
             0,
             "#8e0152"
            ],
            [
             0.1,
             "#c51b7d"
            ],
            [
             0.2,
             "#de77ae"
            ],
            [
             0.3,
             "#f1b6da"
            ],
            [
             0.4,
             "#fde0ef"
            ],
            [
             0.5,
             "#f7f7f7"
            ],
            [
             0.6,
             "#e6f5d0"
            ],
            [
             0.7,
             "#b8e186"
            ],
            [
             0.8,
             "#7fbc41"
            ],
            [
             0.9,
             "#4d9221"
            ],
            [
             1,
             "#276419"
            ]
           ],
           "sequential": [
            [
             0,
             "#0d0887"
            ],
            [
             0.1111111111111111,
             "#46039f"
            ],
            [
             0.2222222222222222,
             "#7201a8"
            ],
            [
             0.3333333333333333,
             "#9c179e"
            ],
            [
             0.4444444444444444,
             "#bd3786"
            ],
            [
             0.5555555555555556,
             "#d8576b"
            ],
            [
             0.6666666666666666,
             "#ed7953"
            ],
            [
             0.7777777777777778,
             "#fb9f3a"
            ],
            [
             0.8888888888888888,
             "#fdca26"
            ],
            [
             1,
             "#f0f921"
            ]
           ],
           "sequentialminus": [
            [
             0,
             "#0d0887"
            ],
            [
             0.1111111111111111,
             "#46039f"
            ],
            [
             0.2222222222222222,
             "#7201a8"
            ],
            [
             0.3333333333333333,
             "#9c179e"
            ],
            [
             0.4444444444444444,
             "#bd3786"
            ],
            [
             0.5555555555555556,
             "#d8576b"
            ],
            [
             0.6666666666666666,
             "#ed7953"
            ],
            [
             0.7777777777777778,
             "#fb9f3a"
            ],
            [
             0.8888888888888888,
             "#fdca26"
            ],
            [
             1,
             "#f0f921"
            ]
           ]
          },
          "colorway": [
           "#636efa",
           "#EF553B",
           "#00cc96",
           "#ab63fa",
           "#FFA15A",
           "#19d3f3",
           "#FF6692",
           "#B6E880",
           "#FF97FF",
           "#FECB52"
          ],
          "font": {
           "color": "#2a3f5f"
          },
          "geo": {
           "bgcolor": "white",
           "lakecolor": "white",
           "landcolor": "#E5ECF6",
           "showlakes": true,
           "showland": true,
           "subunitcolor": "white"
          },
          "hoverlabel": {
           "align": "left"
          },
          "hovermode": "closest",
          "mapbox": {
           "style": "light"
          },
          "paper_bgcolor": "white",
          "plot_bgcolor": "#E5ECF6",
          "polar": {
           "angularaxis": {
            "gridcolor": "white",
            "linecolor": "white",
            "ticks": ""
           },
           "bgcolor": "#E5ECF6",
           "radialaxis": {
            "gridcolor": "white",
            "linecolor": "white",
            "ticks": ""
           }
          },
          "scene": {
           "xaxis": {
            "backgroundcolor": "#E5ECF6",
            "gridcolor": "white",
            "gridwidth": 2,
            "linecolor": "white",
            "showbackground": true,
            "ticks": "",
            "zerolinecolor": "white"
           },
           "yaxis": {
            "backgroundcolor": "#E5ECF6",
            "gridcolor": "white",
            "gridwidth": 2,
            "linecolor": "white",
            "showbackground": true,
            "ticks": "",
            "zerolinecolor": "white"
           },
           "zaxis": {
            "backgroundcolor": "#E5ECF6",
            "gridcolor": "white",
            "gridwidth": 2,
            "linecolor": "white",
            "showbackground": true,
            "ticks": "",
            "zerolinecolor": "white"
           }
          },
          "shapedefaults": {
           "line": {
            "color": "#2a3f5f"
           }
          },
          "ternary": {
           "aaxis": {
            "gridcolor": "white",
            "linecolor": "white",
            "ticks": ""
           },
           "baxis": {
            "gridcolor": "white",
            "linecolor": "white",
            "ticks": ""
           },
           "bgcolor": "#E5ECF6",
           "caxis": {
            "gridcolor": "white",
            "linecolor": "white",
            "ticks": ""
           }
          },
          "title": {
           "x": 0.05
          },
          "xaxis": {
           "automargin": true,
           "gridcolor": "white",
           "linecolor": "white",
           "ticks": "",
           "title": {
            "standoff": 15
           },
           "zerolinecolor": "white",
           "zerolinewidth": 2
          },
          "yaxis": {
           "automargin": true,
           "gridcolor": "white",
           "linecolor": "white",
           "ticks": "",
           "title": {
            "standoff": 15
           },
           "zerolinecolor": "white",
           "zerolinewidth": 2
          }
         }
        },
        "title": {
         "text": "Deeper Look Into region 2 and Region 3 Prices"
        },
        "xaxis": {
         "title": {
          "text": "Stores"
         }
        },
        "yaxis": {
         "title": {
          "text": "Price Per unit Area"
         }
        }
       }
      },
      "text/html": [
       "<div>                            <div id=\"1a891e93-ec24-4469-bce6-1ab867dfe150\" class=\"plotly-graph-div\" style=\"height:525px; width:100%;\"></div>            <script type=\"text/javascript\">                require([\"plotly\"], function(Plotly) {                    window.PLOTLYENV=window.PLOTLYENV || {};                                    if (document.getElementById(\"1a891e93-ec24-4469-bce6-1ab867dfe150\")) {                    Plotly.newPlot(                        \"1a891e93-ec24-4469-bce6-1ab867dfe150\",                        [{\"marker\":{\"color\":\"#3D9970\"},\"name\":\"Region3 with More Stores\",\"y\":[39.3,42.3,47.7,33.6,34.7,38.3,42.0,38.9,53.5,42.4,50.7,56.8,36.8,48.1,43.7,50.8,41.0,51.8,54.4,45.7,30.5,51.6,7.6,31.3,48.0,48.6,60.7,42.2,47.4,42.5,37.5,40.1,43.2,48.5,40.9,57.8,55.5,37.4,42.7,34.6,48.2,39.1,31.6,43.8,49.0,39.3,41.4,40.6,40.6,26.5,40.5,49.7,34.0,44.0,45.4,34.4,32.9,54.4,24.5,42.5,42.8,42.0,26.9,38.1,62.1,38.4,36.5,30.9,36.3,47.0,42.3,44.9,45.1,51.7,41.5,56.8,37.4,67.7,37.2,52.5],\"type\":\"box\"},{\"marker\":{\"color\":\"#FF4136\"},\"name\":\"Region3 with Less Stores\",\"y\":[24.6,25.3,20.7,13.7,25.3,29.5,26.5,27.0,16.1,26.6,20.8,28.4,28.9,18.3,23.5,21.8,22.0,25.5,26.6,26.2,19.0,29.7,23.1,22.3,13.8,28.8,23.0,25.6,28.5,36.9,24.7,19.1,24.7,12.8,30.1,24.7,24.8,23.8,31.3,22.3],\"type\":\"box\"},{\"marker\":{\"color\":\"#1121F8\"},\"name\":\"Region2 with More Stores\",\"y\":[37.9,42.2,47.3,54.8,43.1,40.3,46.7,58.1,70.1,51.6,47.9,56.2,57.1,25.0,49.3,55.1,47.7,46.2,34.1,51.7,41.9,63.2,44.3,36.2,42.0,59.0,36.3,54.4,59.5,51.0,62.2,71.0,47.1,39.4,53.3,59.6,57.4,55.0,41.0,37.5,37.5,39.5,46.8,51.4,45.5,39.7,44.7,39.4,73.6,43.4,58.8,58.1,45.2,42.0,55.9,44.3,42.3,49.3,45.9,46.1,44.0,40.9,52.2,58.0,48.1,40.8,40.2,78.3,48.5,46.0,40.2,32.4,61.9,48.2,40.8,30.0,52.7,51.8,63.3,53.0,41.1,40.1,41.0,44.8,56.3,51.0,44.5,38.1,46.1,55.0,53.0,78.0,41.6,49.8,42.5,22.8,50.4,53.5,46.6,53.7,60.7,47.1,63.3,48.0,33.1,42.1,49.5,69.7,53.3,47.3,46.6,38.6,35.3,35.5,39.7,41.2,40.5,50.0,40.6,63.9],\"type\":\"box\"},{\"marker\":{\"color\":\"#C362C2\"},\"name\":\"Region2 with Less Stores\",\"y\":[41.4,34.3,50.5,37.4,38.8,47.0,34.2,27.3,53.9,61.5,44.2,55.0,40.8,36.8,29.8,40.3,48.0,45.4,43.2,34.6,38.2,32.9,34.1,46.4,32.5,45.5,62.9,43.5,52.2,35.6,37.4,39.6,55.2,30.6,35.1,36.5,36.7,42.6,37.8,36.6,31.5,34.2,43.5,31.1,39.7,38.5,42.3,46.6,39.0,40.6,26.5,43.9,38.1,29.3,23.5,55.3,37.0,34.1,35.7,38.4,50.2,42.2,27.3,37.5,37.7,33.1,36.7,39.6,35.6,42.9,37.0,41.2,37.9,45.3,40.0,43.1,52.2,40.3,55.3,40.3,42.5,31.9,32.2,37.3,28.5],\"type\":\"box\"}],                        {\"template\":{\"data\":{\"histogram2dcontour\":[{\"type\":\"histogram2dcontour\",\"colorbar\":{\"outlinewidth\":0,\"ticks\":\"\"},\"colorscale\":[[0.0,\"#0d0887\"],[0.1111111111111111,\"#46039f\"],[0.2222222222222222,\"#7201a8\"],[0.3333333333333333,\"#9c179e\"],[0.4444444444444444,\"#bd3786\"],[0.5555555555555556,\"#d8576b\"],[0.6666666666666666,\"#ed7953\"],[0.7777777777777778,\"#fb9f3a\"],[0.8888888888888888,\"#fdca26\"],[1.0,\"#f0f921\"]]}],\"choropleth\":[{\"type\":\"choropleth\",\"colorbar\":{\"outlinewidth\":0,\"ticks\":\"\"}}],\"histogram2d\":[{\"type\":\"histogram2d\",\"colorbar\":{\"outlinewidth\":0,\"ticks\":\"\"},\"colorscale\":[[0.0,\"#0d0887\"],[0.1111111111111111,\"#46039f\"],[0.2222222222222222,\"#7201a8\"],[0.3333333333333333,\"#9c179e\"],[0.4444444444444444,\"#bd3786\"],[0.5555555555555556,\"#d8576b\"],[0.6666666666666666,\"#ed7953\"],[0.7777777777777778,\"#fb9f3a\"],[0.8888888888888888,\"#fdca26\"],[1.0,\"#f0f921\"]]}],\"heatmap\":[{\"type\":\"heatmap\",\"colorbar\":{\"outlinewidth\":0,\"ticks\":\"\"},\"colorscale\":[[0.0,\"#0d0887\"],[0.1111111111111111,\"#46039f\"],[0.2222222222222222,\"#7201a8\"],[0.3333333333333333,\"#9c179e\"],[0.4444444444444444,\"#bd3786\"],[0.5555555555555556,\"#d8576b\"],[0.6666666666666666,\"#ed7953\"],[0.7777777777777778,\"#fb9f3a\"],[0.8888888888888888,\"#fdca26\"],[1.0,\"#f0f921\"]]}],\"heatmapgl\":[{\"type\":\"heatmapgl\",\"colorbar\":{\"outlinewidth\":0,\"ticks\":\"\"},\"colorscale\":[[0.0,\"#0d0887\"],[0.1111111111111111,\"#46039f\"],[0.2222222222222222,\"#7201a8\"],[0.3333333333333333,\"#9c179e\"],[0.4444444444444444,\"#bd3786\"],[0.5555555555555556,\"#d8576b\"],[0.6666666666666666,\"#ed7953\"],[0.7777777777777778,\"#fb9f3a\"],[0.8888888888888888,\"#fdca26\"],[1.0,\"#f0f921\"]]}],\"contourcarpet\":[{\"type\":\"contourcarpet\",\"colorbar\":{\"outlinewidth\":0,\"ticks\":\"\"}}],\"contour\":[{\"type\":\"contour\",\"colorbar\":{\"outlinewidth\":0,\"ticks\":\"\"},\"colorscale\":[[0.0,\"#0d0887\"],[0.1111111111111111,\"#46039f\"],[0.2222222222222222,\"#7201a8\"],[0.3333333333333333,\"#9c179e\"],[0.4444444444444444,\"#bd3786\"],[0.5555555555555556,\"#d8576b\"],[0.6666666666666666,\"#ed7953\"],[0.7777777777777778,\"#fb9f3a\"],[0.8888888888888888,\"#fdca26\"],[1.0,\"#f0f921\"]]}],\"surface\":[{\"type\":\"surface\",\"colorbar\":{\"outlinewidth\":0,\"ticks\":\"\"},\"colorscale\":[[0.0,\"#0d0887\"],[0.1111111111111111,\"#46039f\"],[0.2222222222222222,\"#7201a8\"],[0.3333333333333333,\"#9c179e\"],[0.4444444444444444,\"#bd3786\"],[0.5555555555555556,\"#d8576b\"],[0.6666666666666666,\"#ed7953\"],[0.7777777777777778,\"#fb9f3a\"],[0.8888888888888888,\"#fdca26\"],[1.0,\"#f0f921\"]]}],\"mesh3d\":[{\"type\":\"mesh3d\",\"colorbar\":{\"outlinewidth\":0,\"ticks\":\"\"}}],\"scatter\":[{\"fillpattern\":{\"fillmode\":\"overlay\",\"size\":10,\"solidity\":0.2},\"type\":\"scatter\"}],\"parcoords\":[{\"type\":\"parcoords\",\"line\":{\"colorbar\":{\"outlinewidth\":0,\"ticks\":\"\"}}}],\"scatterpolargl\":[{\"type\":\"scatterpolargl\",\"marker\":{\"colorbar\":{\"outlinewidth\":0,\"ticks\":\"\"}}}],\"bar\":[{\"error_x\":{\"color\":\"#2a3f5f\"},\"error_y\":{\"color\":\"#2a3f5f\"},\"marker\":{\"line\":{\"color\":\"#E5ECF6\",\"width\":0.5},\"pattern\":{\"fillmode\":\"overlay\",\"size\":10,\"solidity\":0.2}},\"type\":\"bar\"}],\"scattergeo\":[{\"type\":\"scattergeo\",\"marker\":{\"colorbar\":{\"outlinewidth\":0,\"ticks\":\"\"}}}],\"scatterpolar\":[{\"type\":\"scatterpolar\",\"marker\":{\"colorbar\":{\"outlinewidth\":0,\"ticks\":\"\"}}}],\"histogram\":[{\"marker\":{\"pattern\":{\"fillmode\":\"overlay\",\"size\":10,\"solidity\":0.2}},\"type\":\"histogram\"}],\"scattergl\":[{\"type\":\"scattergl\",\"marker\":{\"colorbar\":{\"outlinewidth\":0,\"ticks\":\"\"}}}],\"scatter3d\":[{\"type\":\"scatter3d\",\"line\":{\"colorbar\":{\"outlinewidth\":0,\"ticks\":\"\"}},\"marker\":{\"colorbar\":{\"outlinewidth\":0,\"ticks\":\"\"}}}],\"scattermapbox\":[{\"type\":\"scattermapbox\",\"marker\":{\"colorbar\":{\"outlinewidth\":0,\"ticks\":\"\"}}}],\"scatterternary\":[{\"type\":\"scatterternary\",\"marker\":{\"colorbar\":{\"outlinewidth\":0,\"ticks\":\"\"}}}],\"scattercarpet\":[{\"type\":\"scattercarpet\",\"marker\":{\"colorbar\":{\"outlinewidth\":0,\"ticks\":\"\"}}}],\"carpet\":[{\"aaxis\":{\"endlinecolor\":\"#2a3f5f\",\"gridcolor\":\"white\",\"linecolor\":\"white\",\"minorgridcolor\":\"white\",\"startlinecolor\":\"#2a3f5f\"},\"baxis\":{\"endlinecolor\":\"#2a3f5f\",\"gridcolor\":\"white\",\"linecolor\":\"white\",\"minorgridcolor\":\"white\",\"startlinecolor\":\"#2a3f5f\"},\"type\":\"carpet\"}],\"table\":[{\"cells\":{\"fill\":{\"color\":\"#EBF0F8\"},\"line\":{\"color\":\"white\"}},\"header\":{\"fill\":{\"color\":\"#C8D4E3\"},\"line\":{\"color\":\"white\"}},\"type\":\"table\"}],\"barpolar\":[{\"marker\":{\"line\":{\"color\":\"#E5ECF6\",\"width\":0.5},\"pattern\":{\"fillmode\":\"overlay\",\"size\":10,\"solidity\":0.2}},\"type\":\"barpolar\"}],\"pie\":[{\"automargin\":true,\"type\":\"pie\"}]},\"layout\":{\"autotypenumbers\":\"strict\",\"colorway\":[\"#636efa\",\"#EF553B\",\"#00cc96\",\"#ab63fa\",\"#FFA15A\",\"#19d3f3\",\"#FF6692\",\"#B6E880\",\"#FF97FF\",\"#FECB52\"],\"font\":{\"color\":\"#2a3f5f\"},\"hovermode\":\"closest\",\"hoverlabel\":{\"align\":\"left\"},\"paper_bgcolor\":\"white\",\"plot_bgcolor\":\"#E5ECF6\",\"polar\":{\"bgcolor\":\"#E5ECF6\",\"angularaxis\":{\"gridcolor\":\"white\",\"linecolor\":\"white\",\"ticks\":\"\"},\"radialaxis\":{\"gridcolor\":\"white\",\"linecolor\":\"white\",\"ticks\":\"\"}},\"ternary\":{\"bgcolor\":\"#E5ECF6\",\"aaxis\":{\"gridcolor\":\"white\",\"linecolor\":\"white\",\"ticks\":\"\"},\"baxis\":{\"gridcolor\":\"white\",\"linecolor\":\"white\",\"ticks\":\"\"},\"caxis\":{\"gridcolor\":\"white\",\"linecolor\":\"white\",\"ticks\":\"\"}},\"coloraxis\":{\"colorbar\":{\"outlinewidth\":0,\"ticks\":\"\"}},\"colorscale\":{\"sequential\":[[0.0,\"#0d0887\"],[0.1111111111111111,\"#46039f\"],[0.2222222222222222,\"#7201a8\"],[0.3333333333333333,\"#9c179e\"],[0.4444444444444444,\"#bd3786\"],[0.5555555555555556,\"#d8576b\"],[0.6666666666666666,\"#ed7953\"],[0.7777777777777778,\"#fb9f3a\"],[0.8888888888888888,\"#fdca26\"],[1.0,\"#f0f921\"]],\"sequentialminus\":[[0.0,\"#0d0887\"],[0.1111111111111111,\"#46039f\"],[0.2222222222222222,\"#7201a8\"],[0.3333333333333333,\"#9c179e\"],[0.4444444444444444,\"#bd3786\"],[0.5555555555555556,\"#d8576b\"],[0.6666666666666666,\"#ed7953\"],[0.7777777777777778,\"#fb9f3a\"],[0.8888888888888888,\"#fdca26\"],[1.0,\"#f0f921\"]],\"diverging\":[[0,\"#8e0152\"],[0.1,\"#c51b7d\"],[0.2,\"#de77ae\"],[0.3,\"#f1b6da\"],[0.4,\"#fde0ef\"],[0.5,\"#f7f7f7\"],[0.6,\"#e6f5d0\"],[0.7,\"#b8e186\"],[0.8,\"#7fbc41\"],[0.9,\"#4d9221\"],[1,\"#276419\"]]},\"xaxis\":{\"gridcolor\":\"white\",\"linecolor\":\"white\",\"ticks\":\"\",\"title\":{\"standoff\":15},\"zerolinecolor\":\"white\",\"automargin\":true,\"zerolinewidth\":2},\"yaxis\":{\"gridcolor\":\"white\",\"linecolor\":\"white\",\"ticks\":\"\",\"title\":{\"standoff\":15},\"zerolinecolor\":\"white\",\"automargin\":true,\"zerolinewidth\":2},\"scene\":{\"xaxis\":{\"backgroundcolor\":\"#E5ECF6\",\"gridcolor\":\"white\",\"linecolor\":\"white\",\"showbackground\":true,\"ticks\":\"\",\"zerolinecolor\":\"white\",\"gridwidth\":2},\"yaxis\":{\"backgroundcolor\":\"#E5ECF6\",\"gridcolor\":\"white\",\"linecolor\":\"white\",\"showbackground\":true,\"ticks\":\"\",\"zerolinecolor\":\"white\",\"gridwidth\":2},\"zaxis\":{\"backgroundcolor\":\"#E5ECF6\",\"gridcolor\":\"white\",\"linecolor\":\"white\",\"showbackground\":true,\"ticks\":\"\",\"zerolinecolor\":\"white\",\"gridwidth\":2}},\"shapedefaults\":{\"line\":{\"color\":\"#2a3f5f\"}},\"annotationdefaults\":{\"arrowcolor\":\"#2a3f5f\",\"arrowhead\":0,\"arrowwidth\":1},\"geo\":{\"bgcolor\":\"white\",\"landcolor\":\"#E5ECF6\",\"subunitcolor\":\"white\",\"showland\":true,\"showlakes\":true,\"lakecolor\":\"white\"},\"title\":{\"x\":0.05},\"mapbox\":{\"style\":\"light\"}}},\"title\":{\"text\":\"Deeper Look Into region 2 and Region 3 Prices\"},\"xaxis\":{\"title\":{\"text\":\"Stores\"}},\"yaxis\":{\"title\":{\"text\":\"Price Per unit Area\"}}},                        {\"responsive\": true}                    ).then(function(){\n",
       "                            \n",
       "var gd = document.getElementById('1a891e93-ec24-4469-bce6-1ab867dfe150');\n",
       "var x = new MutationObserver(function (mutations, observer) {{\n",
       "        var display = window.getComputedStyle(gd).display;\n",
       "        if (!display || display === 'none') {{\n",
       "            console.log([gd, 'removed!']);\n",
       "            Plotly.purge(gd);\n",
       "            observer.disconnect();\n",
       "        }}\n",
       "}});\n",
       "\n",
       "// Listen for the removal of the full notebook cells\n",
       "var notebookContainer = gd.closest('#notebook-container');\n",
       "if (notebookContainer) {{\n",
       "    x.observe(notebookContainer, {childList: true});\n",
       "}}\n",
       "\n",
       "// Listen for the clearing of the current output cell\n",
       "var outputEl = gd.closest('.output');\n",
       "if (outputEl) {{\n",
       "    x.observe(outputEl, {childList: true});\n",
       "}}\n",
       "\n",
       "                        })                };                });            </script>        </div>"
      ]
     },
     "metadata": {},
     "output_type": "display_data"
    }
   ],
   "source": [
    "trace0 = go.Box(y=price_r3_more,\n",
    "               name='Region3 with More Stores',\n",
    "               marker=dict(color='#3D9970'))\n",
    "\n",
    "trace1 = go.Box(y=price_r3_less,\n",
    "               name='Region3 with Less Stores',\n",
    "               marker=dict(color='#FF4136'))\n",
    "\n",
    "trace2 = go.Box(y=price_r2_more,\n",
    "               name='Region2 with More Stores',\n",
    "               marker=dict(color='#1121F8'))\n",
    "\n",
    "\n",
    "trace3 = go.Box(y=price_r2_less,\n",
    "               name='Region2 with Less Stores',\n",
    "               marker=dict(color='#C362C2'))\n",
    "\n",
    "fig = go.Figure()\n",
    "\n",
    "fig.add_trace(trace0)\n",
    "fig.add_trace(trace1)\n",
    "fig.add_trace(trace2)\n",
    "fig.add_trace(trace3)\n",
    "\n",
    "fig.update_layout(title='Deeper Look Into region 2 and Region 3 Prices',\n",
    "                  xaxis=dict(title='Stores'),\n",
    "                   yaxis= dict(title='Price Per unit Area'))\n",
    "fig.show()"
   ]
  },
  {
   "cell_type": "markdown",
   "metadata": {},
   "source": [
    "Region2 with More stores have a higher price than Region3 with more stores. Region2 with less stores have a higher price than region 2 with less stores. In general Region2 have more prices than region3."
   ]
  },
  {
   "cell_type": "code",
   "execution_count": 41,
   "metadata": {},
   "outputs": [
    {
     "data": {
      "application/vnd.plotly.v1+json": {
       "config": {
        "plotlyServerURL": "https://plot.ly"
       },
       "data": [
        {
         "marker": {
          "color": "#DF0101",
          "size": 10
         },
         "mode": "markers",
         "name": "More Stores",
         "type": "scatter",
         "x": [
          13,
          16.9,
          1.5,
          10.4,
          36.1,
          36.6,
          21.7,
          13.3,
          3.5,
          13.3,
          1,
          8.5,
          30.8,
          13.2,
          15.1,
          0,
          40.9,
          8,
          1.1,
          0,
          32.7,
          8.1,
          14.8,
          13.3,
          13.6,
          1.1,
          41.3,
          33.4,
          13.6,
          12.9,
          19.8,
          13.6,
          3.2,
          35.8,
          6.5,
          3.5,
          8.5,
          27.6,
          43.8,
          15.2,
          34.4,
          34,
          18.2,
          13.6,
          1.1,
          12.9,
          13.7,
          16.4,
          32.6,
          17.7,
          13,
          1.5,
          19.1,
          0,
          2.3,
          15,
          19.2,
          3.4,
          17.5,
          12.6,
          8.3,
          13.3,
          34.6,
          36.6,
          4.1,
          7.8,
          27.3,
          31.3,
          31.5,
          7.8,
          13.2,
          0,
          1.1,
          4.1,
          33.9,
          3.9,
          37.3,
          40.9,
          23,
          8.1
         ],
         "y": [
          39.3,
          42.3,
          47.7,
          33.6,
          34.7,
          38.3,
          42,
          38.9,
          53.5,
          42.4,
          50.7,
          56.8,
          36.8,
          48.1,
          43.7,
          50.8,
          41,
          51.8,
          54.4,
          45.7,
          30.5,
          51.6,
          7.6,
          31.3,
          48,
          48.6,
          60.7,
          42.2,
          47.4,
          42.5,
          37.5,
          40.1,
          43.2,
          48.5,
          40.9,
          57.8,
          55.5,
          37.4,
          42.7,
          34.6,
          48.2,
          39.1,
          31.6,
          43.8,
          49,
          39.3,
          41.4,
          40.6,
          40.6,
          26.5,
          40.5,
          49.7,
          34,
          44,
          45.4,
          34.4,
          32.9,
          54.4,
          24.5,
          42.5,
          42.8,
          42,
          26.9,
          38.1,
          62.1,
          38.4,
          36.5,
          30.9,
          36.3,
          47,
          42.3,
          44.9,
          45.1,
          51.7,
          41.5,
          56.8,
          37.4,
          67.7,
          37.2,
          52.5
         ]
        },
        {
         "marker": {
          "color": "#00FF40",
          "size": 10
         },
         "mode": "markers",
         "name": "Less Stores",
         "type": "scatter",
         "x": [
          14.7,
          12,
          31.3,
          31.7,
          17.5,
          12.3,
          18,
          1.8,
          31.9,
          12.2,
          18.9,
          11.9,
          12,
          30.7,
          8.4,
          14.1,
          8.9,
          17.4,
          18,
          11.5,
          31,
          18.1,
          21.7,
          19,
          31.7,
          17.7,
          17.6,
          2,
          34.9,
          2.5,
          10.3,
          30.3,
          16.4,
          32,
          12.2,
          5.6,
          14.2,
          21.7,
          6.2,
          5.2
         ],
         "y": [
          24.6,
          25.3,
          20.7,
          13.7,
          25.3,
          29.5,
          26.5,
          27,
          16.1,
          26.6,
          20.8,
          28.4,
          28.9,
          18.3,
          23.5,
          21.8,
          22,
          25.5,
          26.6,
          26.2,
          19,
          29.7,
          23.1,
          22.3,
          13.8,
          28.8,
          23,
          25.6,
          28.5,
          36.9,
          24.7,
          19.1,
          24.7,
          12.8,
          30.1,
          24.7,
          24.8,
          23.8,
          31.3,
          22.3
         ]
        }
       ],
       "layout": {
        "template": {
         "data": {
          "bar": [
           {
            "error_x": {
             "color": "#2a3f5f"
            },
            "error_y": {
             "color": "#2a3f5f"
            },
            "marker": {
             "line": {
              "color": "#E5ECF6",
              "width": 0.5
             },
             "pattern": {
              "fillmode": "overlay",
              "size": 10,
              "solidity": 0.2
             }
            },
            "type": "bar"
           }
          ],
          "barpolar": [
           {
            "marker": {
             "line": {
              "color": "#E5ECF6",
              "width": 0.5
             },
             "pattern": {
              "fillmode": "overlay",
              "size": 10,
              "solidity": 0.2
             }
            },
            "type": "barpolar"
           }
          ],
          "carpet": [
           {
            "aaxis": {
             "endlinecolor": "#2a3f5f",
             "gridcolor": "white",
             "linecolor": "white",
             "minorgridcolor": "white",
             "startlinecolor": "#2a3f5f"
            },
            "baxis": {
             "endlinecolor": "#2a3f5f",
             "gridcolor": "white",
             "linecolor": "white",
             "minorgridcolor": "white",
             "startlinecolor": "#2a3f5f"
            },
            "type": "carpet"
           }
          ],
          "choropleth": [
           {
            "colorbar": {
             "outlinewidth": 0,
             "ticks": ""
            },
            "type": "choropleth"
           }
          ],
          "contour": [
           {
            "colorbar": {
             "outlinewidth": 0,
             "ticks": ""
            },
            "colorscale": [
             [
              0,
              "#0d0887"
             ],
             [
              0.1111111111111111,
              "#46039f"
             ],
             [
              0.2222222222222222,
              "#7201a8"
             ],
             [
              0.3333333333333333,
              "#9c179e"
             ],
             [
              0.4444444444444444,
              "#bd3786"
             ],
             [
              0.5555555555555556,
              "#d8576b"
             ],
             [
              0.6666666666666666,
              "#ed7953"
             ],
             [
              0.7777777777777778,
              "#fb9f3a"
             ],
             [
              0.8888888888888888,
              "#fdca26"
             ],
             [
              1,
              "#f0f921"
             ]
            ],
            "type": "contour"
           }
          ],
          "contourcarpet": [
           {
            "colorbar": {
             "outlinewidth": 0,
             "ticks": ""
            },
            "type": "contourcarpet"
           }
          ],
          "heatmap": [
           {
            "colorbar": {
             "outlinewidth": 0,
             "ticks": ""
            },
            "colorscale": [
             [
              0,
              "#0d0887"
             ],
             [
              0.1111111111111111,
              "#46039f"
             ],
             [
              0.2222222222222222,
              "#7201a8"
             ],
             [
              0.3333333333333333,
              "#9c179e"
             ],
             [
              0.4444444444444444,
              "#bd3786"
             ],
             [
              0.5555555555555556,
              "#d8576b"
             ],
             [
              0.6666666666666666,
              "#ed7953"
             ],
             [
              0.7777777777777778,
              "#fb9f3a"
             ],
             [
              0.8888888888888888,
              "#fdca26"
             ],
             [
              1,
              "#f0f921"
             ]
            ],
            "type": "heatmap"
           }
          ],
          "heatmapgl": [
           {
            "colorbar": {
             "outlinewidth": 0,
             "ticks": ""
            },
            "colorscale": [
             [
              0,
              "#0d0887"
             ],
             [
              0.1111111111111111,
              "#46039f"
             ],
             [
              0.2222222222222222,
              "#7201a8"
             ],
             [
              0.3333333333333333,
              "#9c179e"
             ],
             [
              0.4444444444444444,
              "#bd3786"
             ],
             [
              0.5555555555555556,
              "#d8576b"
             ],
             [
              0.6666666666666666,
              "#ed7953"
             ],
             [
              0.7777777777777778,
              "#fb9f3a"
             ],
             [
              0.8888888888888888,
              "#fdca26"
             ],
             [
              1,
              "#f0f921"
             ]
            ],
            "type": "heatmapgl"
           }
          ],
          "histogram": [
           {
            "marker": {
             "pattern": {
              "fillmode": "overlay",
              "size": 10,
              "solidity": 0.2
             }
            },
            "type": "histogram"
           }
          ],
          "histogram2d": [
           {
            "colorbar": {
             "outlinewidth": 0,
             "ticks": ""
            },
            "colorscale": [
             [
              0,
              "#0d0887"
             ],
             [
              0.1111111111111111,
              "#46039f"
             ],
             [
              0.2222222222222222,
              "#7201a8"
             ],
             [
              0.3333333333333333,
              "#9c179e"
             ],
             [
              0.4444444444444444,
              "#bd3786"
             ],
             [
              0.5555555555555556,
              "#d8576b"
             ],
             [
              0.6666666666666666,
              "#ed7953"
             ],
             [
              0.7777777777777778,
              "#fb9f3a"
             ],
             [
              0.8888888888888888,
              "#fdca26"
             ],
             [
              1,
              "#f0f921"
             ]
            ],
            "type": "histogram2d"
           }
          ],
          "histogram2dcontour": [
           {
            "colorbar": {
             "outlinewidth": 0,
             "ticks": ""
            },
            "colorscale": [
             [
              0,
              "#0d0887"
             ],
             [
              0.1111111111111111,
              "#46039f"
             ],
             [
              0.2222222222222222,
              "#7201a8"
             ],
             [
              0.3333333333333333,
              "#9c179e"
             ],
             [
              0.4444444444444444,
              "#bd3786"
             ],
             [
              0.5555555555555556,
              "#d8576b"
             ],
             [
              0.6666666666666666,
              "#ed7953"
             ],
             [
              0.7777777777777778,
              "#fb9f3a"
             ],
             [
              0.8888888888888888,
              "#fdca26"
             ],
             [
              1,
              "#f0f921"
             ]
            ],
            "type": "histogram2dcontour"
           }
          ],
          "mesh3d": [
           {
            "colorbar": {
             "outlinewidth": 0,
             "ticks": ""
            },
            "type": "mesh3d"
           }
          ],
          "parcoords": [
           {
            "line": {
             "colorbar": {
              "outlinewidth": 0,
              "ticks": ""
             }
            },
            "type": "parcoords"
           }
          ],
          "pie": [
           {
            "automargin": true,
            "type": "pie"
           }
          ],
          "scatter": [
           {
            "fillpattern": {
             "fillmode": "overlay",
             "size": 10,
             "solidity": 0.2
            },
            "type": "scatter"
           }
          ],
          "scatter3d": [
           {
            "line": {
             "colorbar": {
              "outlinewidth": 0,
              "ticks": ""
             }
            },
            "marker": {
             "colorbar": {
              "outlinewidth": 0,
              "ticks": ""
             }
            },
            "type": "scatter3d"
           }
          ],
          "scattercarpet": [
           {
            "marker": {
             "colorbar": {
              "outlinewidth": 0,
              "ticks": ""
             }
            },
            "type": "scattercarpet"
           }
          ],
          "scattergeo": [
           {
            "marker": {
             "colorbar": {
              "outlinewidth": 0,
              "ticks": ""
             }
            },
            "type": "scattergeo"
           }
          ],
          "scattergl": [
           {
            "marker": {
             "colorbar": {
              "outlinewidth": 0,
              "ticks": ""
             }
            },
            "type": "scattergl"
           }
          ],
          "scattermapbox": [
           {
            "marker": {
             "colorbar": {
              "outlinewidth": 0,
              "ticks": ""
             }
            },
            "type": "scattermapbox"
           }
          ],
          "scatterpolar": [
           {
            "marker": {
             "colorbar": {
              "outlinewidth": 0,
              "ticks": ""
             }
            },
            "type": "scatterpolar"
           }
          ],
          "scatterpolargl": [
           {
            "marker": {
             "colorbar": {
              "outlinewidth": 0,
              "ticks": ""
             }
            },
            "type": "scatterpolargl"
           }
          ],
          "scatterternary": [
           {
            "marker": {
             "colorbar": {
              "outlinewidth": 0,
              "ticks": ""
             }
            },
            "type": "scatterternary"
           }
          ],
          "surface": [
           {
            "colorbar": {
             "outlinewidth": 0,
             "ticks": ""
            },
            "colorscale": [
             [
              0,
              "#0d0887"
             ],
             [
              0.1111111111111111,
              "#46039f"
             ],
             [
              0.2222222222222222,
              "#7201a8"
             ],
             [
              0.3333333333333333,
              "#9c179e"
             ],
             [
              0.4444444444444444,
              "#bd3786"
             ],
             [
              0.5555555555555556,
              "#d8576b"
             ],
             [
              0.6666666666666666,
              "#ed7953"
             ],
             [
              0.7777777777777778,
              "#fb9f3a"
             ],
             [
              0.8888888888888888,
              "#fdca26"
             ],
             [
              1,
              "#f0f921"
             ]
            ],
            "type": "surface"
           }
          ],
          "table": [
           {
            "cells": {
             "fill": {
              "color": "#EBF0F8"
             },
             "line": {
              "color": "white"
             }
            },
            "header": {
             "fill": {
              "color": "#C8D4E3"
             },
             "line": {
              "color": "white"
             }
            },
            "type": "table"
           }
          ]
         },
         "layout": {
          "annotationdefaults": {
           "arrowcolor": "#2a3f5f",
           "arrowhead": 0,
           "arrowwidth": 1
          },
          "autotypenumbers": "strict",
          "coloraxis": {
           "colorbar": {
            "outlinewidth": 0,
            "ticks": ""
           }
          },
          "colorscale": {
           "diverging": [
            [
             0,
             "#8e0152"
            ],
            [
             0.1,
             "#c51b7d"
            ],
            [
             0.2,
             "#de77ae"
            ],
            [
             0.3,
             "#f1b6da"
            ],
            [
             0.4,
             "#fde0ef"
            ],
            [
             0.5,
             "#f7f7f7"
            ],
            [
             0.6,
             "#e6f5d0"
            ],
            [
             0.7,
             "#b8e186"
            ],
            [
             0.8,
             "#7fbc41"
            ],
            [
             0.9,
             "#4d9221"
            ],
            [
             1,
             "#276419"
            ]
           ],
           "sequential": [
            [
             0,
             "#0d0887"
            ],
            [
             0.1111111111111111,
             "#46039f"
            ],
            [
             0.2222222222222222,
             "#7201a8"
            ],
            [
             0.3333333333333333,
             "#9c179e"
            ],
            [
             0.4444444444444444,
             "#bd3786"
            ],
            [
             0.5555555555555556,
             "#d8576b"
            ],
            [
             0.6666666666666666,
             "#ed7953"
            ],
            [
             0.7777777777777778,
             "#fb9f3a"
            ],
            [
             0.8888888888888888,
             "#fdca26"
            ],
            [
             1,
             "#f0f921"
            ]
           ],
           "sequentialminus": [
            [
             0,
             "#0d0887"
            ],
            [
             0.1111111111111111,
             "#46039f"
            ],
            [
             0.2222222222222222,
             "#7201a8"
            ],
            [
             0.3333333333333333,
             "#9c179e"
            ],
            [
             0.4444444444444444,
             "#bd3786"
            ],
            [
             0.5555555555555556,
             "#d8576b"
            ],
            [
             0.6666666666666666,
             "#ed7953"
            ],
            [
             0.7777777777777778,
             "#fb9f3a"
            ],
            [
             0.8888888888888888,
             "#fdca26"
            ],
            [
             1,
             "#f0f921"
            ]
           ]
          },
          "colorway": [
           "#636efa",
           "#EF553B",
           "#00cc96",
           "#ab63fa",
           "#FFA15A",
           "#19d3f3",
           "#FF6692",
           "#B6E880",
           "#FF97FF",
           "#FECB52"
          ],
          "font": {
           "color": "#2a3f5f"
          },
          "geo": {
           "bgcolor": "white",
           "lakecolor": "white",
           "landcolor": "#E5ECF6",
           "showlakes": true,
           "showland": true,
           "subunitcolor": "white"
          },
          "hoverlabel": {
           "align": "left"
          },
          "hovermode": "closest",
          "mapbox": {
           "style": "light"
          },
          "paper_bgcolor": "white",
          "plot_bgcolor": "#E5ECF6",
          "polar": {
           "angularaxis": {
            "gridcolor": "white",
            "linecolor": "white",
            "ticks": ""
           },
           "bgcolor": "#E5ECF6",
           "radialaxis": {
            "gridcolor": "white",
            "linecolor": "white",
            "ticks": ""
           }
          },
          "scene": {
           "xaxis": {
            "backgroundcolor": "#E5ECF6",
            "gridcolor": "white",
            "gridwidth": 2,
            "linecolor": "white",
            "showbackground": true,
            "ticks": "",
            "zerolinecolor": "white"
           },
           "yaxis": {
            "backgroundcolor": "#E5ECF6",
            "gridcolor": "white",
            "gridwidth": 2,
            "linecolor": "white",
            "showbackground": true,
            "ticks": "",
            "zerolinecolor": "white"
           },
           "zaxis": {
            "backgroundcolor": "#E5ECF6",
            "gridcolor": "white",
            "gridwidth": 2,
            "linecolor": "white",
            "showbackground": true,
            "ticks": "",
            "zerolinecolor": "white"
           }
          },
          "shapedefaults": {
           "line": {
            "color": "#2a3f5f"
           }
          },
          "ternary": {
           "aaxis": {
            "gridcolor": "white",
            "linecolor": "white",
            "ticks": ""
           },
           "baxis": {
            "gridcolor": "white",
            "linecolor": "white",
            "ticks": ""
           },
           "bgcolor": "#E5ECF6",
           "caxis": {
            "gridcolor": "white",
            "linecolor": "white",
            "ticks": ""
           }
          },
          "title": {
           "x": 0.05
          },
          "xaxis": {
           "automargin": true,
           "gridcolor": "white",
           "linecolor": "white",
           "ticks": "",
           "title": {
            "standoff": 15
           },
           "zerolinecolor": "white",
           "zerolinewidth": 2
          },
          "yaxis": {
           "automargin": true,
           "gridcolor": "white",
           "linecolor": "white",
           "ticks": "",
           "title": {
            "standoff": 15
           },
           "zerolinecolor": "white",
           "zerolinewidth": 2
          }
         }
        },
        "title": {
         "text": "Influence of Nearby Stores in Home Price in Region 3"
        },
        "xaxis": {
         "title": {
          "font": {
           "size": 16
          },
          "text": "Age of the House"
         },
         "zeroline": false
        },
        "yaxis": {
         "title": {
          "font": {
           "size": 16
          },
          "text": "Price Per Unit Area"
         },
         "zeroline": false
        }
       }
      },
      "text/html": [
       "<div>                            <div id=\"8cffc0a0-7980-4850-9ae3-fa132ef458a2\" class=\"plotly-graph-div\" style=\"height:525px; width:100%;\"></div>            <script type=\"text/javascript\">                require([\"plotly\"], function(Plotly) {                    window.PLOTLYENV=window.PLOTLYENV || {};                                    if (document.getElementById(\"8cffc0a0-7980-4850-9ae3-fa132ef458a2\")) {                    Plotly.newPlot(                        \"8cffc0a0-7980-4850-9ae3-fa132ef458a2\",                        [{\"marker\":{\"color\":\"#DF0101\",\"size\":10},\"mode\":\"markers\",\"name\":\"More Stores\",\"x\":[13.0,16.9,1.5,10.4,36.1,36.6,21.7,13.3,3.5,13.3,1.0,8.5,30.8,13.2,15.1,0.0,40.9,8.0,1.1,0.0,32.7,8.1,14.8,13.3,13.6,1.1,41.3,33.4,13.6,12.9,19.8,13.6,3.2,35.8,6.5,3.5,8.5,27.6,43.8,15.2,34.4,34.0,18.2,13.6,1.1,12.9,13.7,16.4,32.6,17.7,13.0,1.5,19.1,0.0,2.3,15.0,19.2,3.4,17.5,12.6,8.3,13.3,34.6,36.6,4.1,7.8,27.3,31.3,31.5,7.8,13.2,0.0,1.1,4.1,33.9,3.9,37.3,40.9,23.0,8.1],\"y\":[39.3,42.3,47.7,33.6,34.7,38.3,42.0,38.9,53.5,42.4,50.7,56.8,36.8,48.1,43.7,50.8,41.0,51.8,54.4,45.7,30.5,51.6,7.6,31.3,48.0,48.6,60.7,42.2,47.4,42.5,37.5,40.1,43.2,48.5,40.9,57.8,55.5,37.4,42.7,34.6,48.2,39.1,31.6,43.8,49.0,39.3,41.4,40.6,40.6,26.5,40.5,49.7,34.0,44.0,45.4,34.4,32.9,54.4,24.5,42.5,42.8,42.0,26.9,38.1,62.1,38.4,36.5,30.9,36.3,47.0,42.3,44.9,45.1,51.7,41.5,56.8,37.4,67.7,37.2,52.5],\"type\":\"scatter\"},{\"marker\":{\"color\":\"#00FF40\",\"size\":10},\"mode\":\"markers\",\"name\":\"Less Stores\",\"x\":[14.7,12.0,31.3,31.7,17.5,12.3,18.0,1.8,31.9,12.2,18.9,11.9,12.0,30.7,8.4,14.1,8.9,17.4,18.0,11.5,31.0,18.1,21.7,19.0,31.7,17.7,17.6,2.0,34.9,2.5,10.3,30.3,16.4,32.0,12.2,5.6,14.2,21.7,6.2,5.2],\"y\":[24.6,25.3,20.7,13.7,25.3,29.5,26.5,27.0,16.1,26.6,20.8,28.4,28.9,18.3,23.5,21.8,22.0,25.5,26.6,26.2,19.0,29.7,23.1,22.3,13.8,28.8,23.0,25.6,28.5,36.9,24.7,19.1,24.7,12.8,30.1,24.7,24.8,23.8,31.3,22.3],\"type\":\"scatter\"}],                        {\"title\":{\"text\":\"Influence of Nearby Stores in Home Price in Region 3\"},\"xaxis\":{\"title\":{\"text\":\"Age of the House\",\"font\":{\"size\":16}},\"zeroline\":false},\"yaxis\":{\"title\":{\"text\":\"Price Per Unit Area\",\"font\":{\"size\":16}},\"zeroline\":false},\"template\":{\"data\":{\"histogram2dcontour\":[{\"type\":\"histogram2dcontour\",\"colorbar\":{\"outlinewidth\":0,\"ticks\":\"\"},\"colorscale\":[[0.0,\"#0d0887\"],[0.1111111111111111,\"#46039f\"],[0.2222222222222222,\"#7201a8\"],[0.3333333333333333,\"#9c179e\"],[0.4444444444444444,\"#bd3786\"],[0.5555555555555556,\"#d8576b\"],[0.6666666666666666,\"#ed7953\"],[0.7777777777777778,\"#fb9f3a\"],[0.8888888888888888,\"#fdca26\"],[1.0,\"#f0f921\"]]}],\"choropleth\":[{\"type\":\"choropleth\",\"colorbar\":{\"outlinewidth\":0,\"ticks\":\"\"}}],\"histogram2d\":[{\"type\":\"histogram2d\",\"colorbar\":{\"outlinewidth\":0,\"ticks\":\"\"},\"colorscale\":[[0.0,\"#0d0887\"],[0.1111111111111111,\"#46039f\"],[0.2222222222222222,\"#7201a8\"],[0.3333333333333333,\"#9c179e\"],[0.4444444444444444,\"#bd3786\"],[0.5555555555555556,\"#d8576b\"],[0.6666666666666666,\"#ed7953\"],[0.7777777777777778,\"#fb9f3a\"],[0.8888888888888888,\"#fdca26\"],[1.0,\"#f0f921\"]]}],\"heatmap\":[{\"type\":\"heatmap\",\"colorbar\":{\"outlinewidth\":0,\"ticks\":\"\"},\"colorscale\":[[0.0,\"#0d0887\"],[0.1111111111111111,\"#46039f\"],[0.2222222222222222,\"#7201a8\"],[0.3333333333333333,\"#9c179e\"],[0.4444444444444444,\"#bd3786\"],[0.5555555555555556,\"#d8576b\"],[0.6666666666666666,\"#ed7953\"],[0.7777777777777778,\"#fb9f3a\"],[0.8888888888888888,\"#fdca26\"],[1.0,\"#f0f921\"]]}],\"heatmapgl\":[{\"type\":\"heatmapgl\",\"colorbar\":{\"outlinewidth\":0,\"ticks\":\"\"},\"colorscale\":[[0.0,\"#0d0887\"],[0.1111111111111111,\"#46039f\"],[0.2222222222222222,\"#7201a8\"],[0.3333333333333333,\"#9c179e\"],[0.4444444444444444,\"#bd3786\"],[0.5555555555555556,\"#d8576b\"],[0.6666666666666666,\"#ed7953\"],[0.7777777777777778,\"#fb9f3a\"],[0.8888888888888888,\"#fdca26\"],[1.0,\"#f0f921\"]]}],\"contourcarpet\":[{\"type\":\"contourcarpet\",\"colorbar\":{\"outlinewidth\":0,\"ticks\":\"\"}}],\"contour\":[{\"type\":\"contour\",\"colorbar\":{\"outlinewidth\":0,\"ticks\":\"\"},\"colorscale\":[[0.0,\"#0d0887\"],[0.1111111111111111,\"#46039f\"],[0.2222222222222222,\"#7201a8\"],[0.3333333333333333,\"#9c179e\"],[0.4444444444444444,\"#bd3786\"],[0.5555555555555556,\"#d8576b\"],[0.6666666666666666,\"#ed7953\"],[0.7777777777777778,\"#fb9f3a\"],[0.8888888888888888,\"#fdca26\"],[1.0,\"#f0f921\"]]}],\"surface\":[{\"type\":\"surface\",\"colorbar\":{\"outlinewidth\":0,\"ticks\":\"\"},\"colorscale\":[[0.0,\"#0d0887\"],[0.1111111111111111,\"#46039f\"],[0.2222222222222222,\"#7201a8\"],[0.3333333333333333,\"#9c179e\"],[0.4444444444444444,\"#bd3786\"],[0.5555555555555556,\"#d8576b\"],[0.6666666666666666,\"#ed7953\"],[0.7777777777777778,\"#fb9f3a\"],[0.8888888888888888,\"#fdca26\"],[1.0,\"#f0f921\"]]}],\"mesh3d\":[{\"type\":\"mesh3d\",\"colorbar\":{\"outlinewidth\":0,\"ticks\":\"\"}}],\"scatter\":[{\"fillpattern\":{\"fillmode\":\"overlay\",\"size\":10,\"solidity\":0.2},\"type\":\"scatter\"}],\"parcoords\":[{\"type\":\"parcoords\",\"line\":{\"colorbar\":{\"outlinewidth\":0,\"ticks\":\"\"}}}],\"scatterpolargl\":[{\"type\":\"scatterpolargl\",\"marker\":{\"colorbar\":{\"outlinewidth\":0,\"ticks\":\"\"}}}],\"bar\":[{\"error_x\":{\"color\":\"#2a3f5f\"},\"error_y\":{\"color\":\"#2a3f5f\"},\"marker\":{\"line\":{\"color\":\"#E5ECF6\",\"width\":0.5},\"pattern\":{\"fillmode\":\"overlay\",\"size\":10,\"solidity\":0.2}},\"type\":\"bar\"}],\"scattergeo\":[{\"type\":\"scattergeo\",\"marker\":{\"colorbar\":{\"outlinewidth\":0,\"ticks\":\"\"}}}],\"scatterpolar\":[{\"type\":\"scatterpolar\",\"marker\":{\"colorbar\":{\"outlinewidth\":0,\"ticks\":\"\"}}}],\"histogram\":[{\"marker\":{\"pattern\":{\"fillmode\":\"overlay\",\"size\":10,\"solidity\":0.2}},\"type\":\"histogram\"}],\"scattergl\":[{\"type\":\"scattergl\",\"marker\":{\"colorbar\":{\"outlinewidth\":0,\"ticks\":\"\"}}}],\"scatter3d\":[{\"type\":\"scatter3d\",\"line\":{\"colorbar\":{\"outlinewidth\":0,\"ticks\":\"\"}},\"marker\":{\"colorbar\":{\"outlinewidth\":0,\"ticks\":\"\"}}}],\"scattermapbox\":[{\"type\":\"scattermapbox\",\"marker\":{\"colorbar\":{\"outlinewidth\":0,\"ticks\":\"\"}}}],\"scatterternary\":[{\"type\":\"scatterternary\",\"marker\":{\"colorbar\":{\"outlinewidth\":0,\"ticks\":\"\"}}}],\"scattercarpet\":[{\"type\":\"scattercarpet\",\"marker\":{\"colorbar\":{\"outlinewidth\":0,\"ticks\":\"\"}}}],\"carpet\":[{\"aaxis\":{\"endlinecolor\":\"#2a3f5f\",\"gridcolor\":\"white\",\"linecolor\":\"white\",\"minorgridcolor\":\"white\",\"startlinecolor\":\"#2a3f5f\"},\"baxis\":{\"endlinecolor\":\"#2a3f5f\",\"gridcolor\":\"white\",\"linecolor\":\"white\",\"minorgridcolor\":\"white\",\"startlinecolor\":\"#2a3f5f\"},\"type\":\"carpet\"}],\"table\":[{\"cells\":{\"fill\":{\"color\":\"#EBF0F8\"},\"line\":{\"color\":\"white\"}},\"header\":{\"fill\":{\"color\":\"#C8D4E3\"},\"line\":{\"color\":\"white\"}},\"type\":\"table\"}],\"barpolar\":[{\"marker\":{\"line\":{\"color\":\"#E5ECF6\",\"width\":0.5},\"pattern\":{\"fillmode\":\"overlay\",\"size\":10,\"solidity\":0.2}},\"type\":\"barpolar\"}],\"pie\":[{\"automargin\":true,\"type\":\"pie\"}]},\"layout\":{\"autotypenumbers\":\"strict\",\"colorway\":[\"#636efa\",\"#EF553B\",\"#00cc96\",\"#ab63fa\",\"#FFA15A\",\"#19d3f3\",\"#FF6692\",\"#B6E880\",\"#FF97FF\",\"#FECB52\"],\"font\":{\"color\":\"#2a3f5f\"},\"hovermode\":\"closest\",\"hoverlabel\":{\"align\":\"left\"},\"paper_bgcolor\":\"white\",\"plot_bgcolor\":\"#E5ECF6\",\"polar\":{\"bgcolor\":\"#E5ECF6\",\"angularaxis\":{\"gridcolor\":\"white\",\"linecolor\":\"white\",\"ticks\":\"\"},\"radialaxis\":{\"gridcolor\":\"white\",\"linecolor\":\"white\",\"ticks\":\"\"}},\"ternary\":{\"bgcolor\":\"#E5ECF6\",\"aaxis\":{\"gridcolor\":\"white\",\"linecolor\":\"white\",\"ticks\":\"\"},\"baxis\":{\"gridcolor\":\"white\",\"linecolor\":\"white\",\"ticks\":\"\"},\"caxis\":{\"gridcolor\":\"white\",\"linecolor\":\"white\",\"ticks\":\"\"}},\"coloraxis\":{\"colorbar\":{\"outlinewidth\":0,\"ticks\":\"\"}},\"colorscale\":{\"sequential\":[[0.0,\"#0d0887\"],[0.1111111111111111,\"#46039f\"],[0.2222222222222222,\"#7201a8\"],[0.3333333333333333,\"#9c179e\"],[0.4444444444444444,\"#bd3786\"],[0.5555555555555556,\"#d8576b\"],[0.6666666666666666,\"#ed7953\"],[0.7777777777777778,\"#fb9f3a\"],[0.8888888888888888,\"#fdca26\"],[1.0,\"#f0f921\"]],\"sequentialminus\":[[0.0,\"#0d0887\"],[0.1111111111111111,\"#46039f\"],[0.2222222222222222,\"#7201a8\"],[0.3333333333333333,\"#9c179e\"],[0.4444444444444444,\"#bd3786\"],[0.5555555555555556,\"#d8576b\"],[0.6666666666666666,\"#ed7953\"],[0.7777777777777778,\"#fb9f3a\"],[0.8888888888888888,\"#fdca26\"],[1.0,\"#f0f921\"]],\"diverging\":[[0,\"#8e0152\"],[0.1,\"#c51b7d\"],[0.2,\"#de77ae\"],[0.3,\"#f1b6da\"],[0.4,\"#fde0ef\"],[0.5,\"#f7f7f7\"],[0.6,\"#e6f5d0\"],[0.7,\"#b8e186\"],[0.8,\"#7fbc41\"],[0.9,\"#4d9221\"],[1,\"#276419\"]]},\"xaxis\":{\"gridcolor\":\"white\",\"linecolor\":\"white\",\"ticks\":\"\",\"title\":{\"standoff\":15},\"zerolinecolor\":\"white\",\"automargin\":true,\"zerolinewidth\":2},\"yaxis\":{\"gridcolor\":\"white\",\"linecolor\":\"white\",\"ticks\":\"\",\"title\":{\"standoff\":15},\"zerolinecolor\":\"white\",\"automargin\":true,\"zerolinewidth\":2},\"scene\":{\"xaxis\":{\"backgroundcolor\":\"#E5ECF6\",\"gridcolor\":\"white\",\"linecolor\":\"white\",\"showbackground\":true,\"ticks\":\"\",\"zerolinecolor\":\"white\",\"gridwidth\":2},\"yaxis\":{\"backgroundcolor\":\"#E5ECF6\",\"gridcolor\":\"white\",\"linecolor\":\"white\",\"showbackground\":true,\"ticks\":\"\",\"zerolinecolor\":\"white\",\"gridwidth\":2},\"zaxis\":{\"backgroundcolor\":\"#E5ECF6\",\"gridcolor\":\"white\",\"linecolor\":\"white\",\"showbackground\":true,\"ticks\":\"\",\"zerolinecolor\":\"white\",\"gridwidth\":2}},\"shapedefaults\":{\"line\":{\"color\":\"#2a3f5f\"}},\"annotationdefaults\":{\"arrowcolor\":\"#2a3f5f\",\"arrowhead\":0,\"arrowwidth\":1},\"geo\":{\"bgcolor\":\"white\",\"landcolor\":\"#E5ECF6\",\"subunitcolor\":\"white\",\"showland\":true,\"showlakes\":true,\"lakecolor\":\"white\"},\"title\":{\"x\":0.05},\"mapbox\":{\"style\":\"light\"}}}},                        {\"responsive\": true}                    ).then(function(){\n",
       "                            \n",
       "var gd = document.getElementById('8cffc0a0-7980-4850-9ae3-fa132ef458a2');\n",
       "var x = new MutationObserver(function (mutations, observer) {{\n",
       "        var display = window.getComputedStyle(gd).display;\n",
       "        if (!display || display === 'none') {{\n",
       "            console.log([gd, 'removed!']);\n",
       "            Plotly.purge(gd);\n",
       "            observer.disconnect();\n",
       "        }}\n",
       "}});\n",
       "\n",
       "// Listen for the removal of the full notebook cells\n",
       "var notebookContainer = gd.closest('#notebook-container');\n",
       "if (notebookContainer) {{\n",
       "    x.observe(notebookContainer, {childList: true});\n",
       "}}\n",
       "\n",
       "// Listen for the clearing of the current output cell\n",
       "var outputEl = gd.closest('.output');\n",
       "if (outputEl) {{\n",
       "    x.observe(outputEl, {childList: true});\n",
       "}}\n",
       "\n",
       "                        })                };                });            </script>        </div>"
      ]
     },
     "metadata": {},
     "output_type": "display_data"
    }
   ],
   "source": [
    "r3_more_stores= df.loc[(df['Region']=='Region3') & (df['store_cat'] == 'More')]\n",
    "r3_less_stores = df.loc[(df['Region']=='Region3') & (df['store_cat'] == 'Less')]\n",
    "\n",
    "trace0 = go.Scatter(\n",
    "    y=r3_more_stores['house_price'],\n",
    "    x=r3_more_stores['house_age'],\n",
    "    name='More Stores',\n",
    "    mode='markers',\n",
    "    marker=dict(size=10,\n",
    "                color='#DF0101')\n",
    ")\n",
    "trace1 = go.Scatter(\n",
    "    y=r3_less_stores['house_price'],\n",
    "    x=r3_less_stores['house_age'],\n",
    "    name='Less Stores',\n",
    "    mode='markers',\n",
    "    marker=dict(size=10,\n",
    "                color='#00FF40')\n",
    ")\n",
    "data=[trace0, trace1]\n",
    "\n",
    "layout=dict(\n",
    "    title='Influence of Nearby Stores in Home Price in Region 3',\n",
    "    yaxis=dict(zeroline=False,\n",
    "              title='Price Per Unit Area',\n",
    "              titlefont=dict(\n",
    "                  size=16)\n",
    "              ),\n",
    "    xaxis=dict(zeroline=False,\n",
    "              title='Age of the House',\n",
    "              titlefont=dict(\n",
    "                  size=16)\n",
    "              )\n",
    ")\n",
    "\n",
    "fig = go.Figure(data=data, layout=layout)\n",
    "fig.show()"
   ]
  },
  {
   "cell_type": "markdown",
   "metadata": {},
   "source": [
    "It is observed that in region3 for houses of all agess, houses with more nearby stores have a higher price than houses with less nearby stores."
   ]
  },
  {
   "cell_type": "code",
   "execution_count": 42,
   "metadata": {},
   "outputs": [
    {
     "data": {
      "application/vnd.plotly.v1+json": {
       "config": {
        "plotlyServerURL": "https://plot.ly"
       },
       "data": [
        {
         "marker": {
          "color": "#DF0101",
          "size": 10
         },
         "mode": "markers",
         "name": "More Stores",
         "type": "scatter",
         "x": [
          32,
          19.5,
          13.3,
          13.3,
          5,
          34.5,
          20.3,
          6.3,
          0,
          10.5,
          10.1,
          3.1,
          7.1,
          29.6,
          16.5,
          15.4,
          3.1,
          16.2,
          34.4,
          16.1,
          33.6,
          5.3,
          40.1,
          30.4,
          12.5,
          6.6,
          32.5,
          6.8,
          6.4,
          16.4,
          6.4,
          0,
          17.2,
          33.3,
          30.6,
          16.6,
          9.9,
          3.8,
          38.5,
          29.6,
          26.6,
          18,
          11.4,
          16.2,
          2.1,
          34.9,
          4.9,
          11.6,
          0,
          28.2,
          3.6,
          6.6,
          4.3,
          33,
          11.6,
          34.8,
          35.3,
          9.7,
          13.1,
          15.6,
          22.2,
          34.8,
          5.2,
          6.2,
          19.2,
          28,
          29.3,
          37.2,
          30.6,
          34.5,
          32.4,
          39.7,
          3.6,
          32.8,
          7.5,
          39.2,
          5.9,
          1.1,
          0,
          15.9,
          34.7,
          17.2,
          27.5,
          4.7,
          5.9,
          16.6,
          13.9,
          26.4,
          33.2,
          16.2,
          16.4,
          35.4,
          3.7,
          7.1,
          28.6,
          30,
          1.7,
          5.7,
          33.5,
          4.6,
          3.8,
          32.9,
          41.4,
          32.3,
          35.3,
          15.9,
          5.4,
          0,
          14.1,
          8,
          18.3,
          32.8,
          42.7,
          26.8,
          30.9,
          16.4,
          1.9,
          5.6,
          18.8,
          6.5
         ],
         "y": [
          37.9,
          42.2,
          47.3,
          54.8,
          43.1,
          40.3,
          46.7,
          58.1,
          70.1,
          51.6,
          47.9,
          56.2,
          57.1,
          25,
          49.3,
          55.1,
          47.7,
          46.2,
          34.1,
          51.7,
          41.9,
          63.2,
          44.3,
          36.2,
          42,
          59,
          36.3,
          54.4,
          59.5,
          51,
          62.2,
          71,
          47.1,
          39.4,
          53.3,
          59.6,
          57.4,
          55,
          41,
          37.5,
          37.5,
          39.5,
          46.8,
          51.4,
          45.5,
          39.7,
          44.7,
          39.4,
          73.6,
          43.4,
          58.8,
          58.1,
          45.2,
          42,
          55.9,
          44.3,
          42.3,
          49.3,
          45.9,
          46.1,
          44,
          40.9,
          52.2,
          58,
          48.1,
          40.8,
          40.2,
          78.3,
          48.5,
          46,
          40.2,
          32.4,
          61.9,
          48.2,
          40.8,
          30,
          52.7,
          51.8,
          63.3,
          53,
          41.1,
          40.1,
          41,
          44.8,
          56.3,
          51,
          44.5,
          38.1,
          46.1,
          55,
          53,
          78,
          41.6,
          49.8,
          42.5,
          22.8,
          50.4,
          53.5,
          46.6,
          53.7,
          60.7,
          47.1,
          63.3,
          48,
          33.1,
          42.1,
          49.5,
          69.7,
          53.3,
          47.3,
          46.6,
          38.6,
          35.3,
          35.5,
          39.7,
          41.2,
          40.5,
          50,
          40.6,
          63.9
         ]
        },
        {
         "marker": {
          "color": "#00FF40",
          "size": 10
         },
         "mode": "markers",
         "name": "Less Stores",
         "type": "scatter",
         "x": [
          34.8,
          13.2,
          35.7,
          17.7,
          39.6,
          19.2,
          37.9,
          13.9,
          2.7,
          35.9,
          21.7,
          2.6,
          35.5,
          35.9,
          38.2,
          11.8,
          8.9,
          0,
          9.1,
          28.4,
          17.5,
          12.7,
          31.4,
          20.6,
          31.5,
          0,
          38.6,
          10,
          0,
          16.1,
          15.5,
          19.2,
          0,
          13.7,
          41.3,
          30.2,
          13.1,
          14,
          13.2,
          22.8,
          38.3,
          38.5,
          0,
          17.6,
          37.8,
          9,
          9.1,
          11.9,
          13,
          12.8,
          14.6,
          17.3,
          15.7,
          13.2,
          33.5,
          30.1,
          37.7,
          12.5,
          38,
          38.3,
          14.4,
          21.3,
          15.6,
          15.6,
          16.9,
          12.9,
          3.5,
          39.8,
          5.1,
          33.6,
          13,
          34.6,
          0,
          10.3,
          17.1,
          18.2,
          0,
          29.1,
          0,
          16.9,
          21.2,
          37.1,
          13.1,
          12.7,
          12.7
         ],
         "y": [
          41.4,
          34.3,
          50.5,
          37.4,
          38.8,
          47,
          34.2,
          27.3,
          53.9,
          61.5,
          44.2,
          55,
          40.8,
          36.8,
          29.8,
          40.3,
          48,
          45.4,
          43.2,
          34.6,
          38.2,
          32.9,
          34.1,
          46.4,
          32.5,
          45.5,
          62.9,
          43.5,
          52.2,
          35.6,
          37.4,
          39.6,
          55.2,
          30.6,
          35.1,
          36.5,
          36.7,
          42.6,
          37.8,
          36.6,
          31.5,
          34.2,
          43.5,
          31.1,
          39.7,
          38.5,
          42.3,
          46.6,
          39,
          40.6,
          26.5,
          43.9,
          38.1,
          29.3,
          23.5,
          55.3,
          37,
          34.1,
          35.7,
          38.4,
          50.2,
          42.2,
          27.3,
          37.5,
          37.7,
          33.1,
          36.7,
          39.6,
          35.6,
          42.9,
          37,
          41.2,
          37.9,
          45.3,
          40,
          43.1,
          52.2,
          40.3,
          55.3,
          40.3,
          42.5,
          31.9,
          32.2,
          37.3,
          28.5
         ]
        }
       ],
       "layout": {
        "template": {
         "data": {
          "bar": [
           {
            "error_x": {
             "color": "#2a3f5f"
            },
            "error_y": {
             "color": "#2a3f5f"
            },
            "marker": {
             "line": {
              "color": "#E5ECF6",
              "width": 0.5
             },
             "pattern": {
              "fillmode": "overlay",
              "size": 10,
              "solidity": 0.2
             }
            },
            "type": "bar"
           }
          ],
          "barpolar": [
           {
            "marker": {
             "line": {
              "color": "#E5ECF6",
              "width": 0.5
             },
             "pattern": {
              "fillmode": "overlay",
              "size": 10,
              "solidity": 0.2
             }
            },
            "type": "barpolar"
           }
          ],
          "carpet": [
           {
            "aaxis": {
             "endlinecolor": "#2a3f5f",
             "gridcolor": "white",
             "linecolor": "white",
             "minorgridcolor": "white",
             "startlinecolor": "#2a3f5f"
            },
            "baxis": {
             "endlinecolor": "#2a3f5f",
             "gridcolor": "white",
             "linecolor": "white",
             "minorgridcolor": "white",
             "startlinecolor": "#2a3f5f"
            },
            "type": "carpet"
           }
          ],
          "choropleth": [
           {
            "colorbar": {
             "outlinewidth": 0,
             "ticks": ""
            },
            "type": "choropleth"
           }
          ],
          "contour": [
           {
            "colorbar": {
             "outlinewidth": 0,
             "ticks": ""
            },
            "colorscale": [
             [
              0,
              "#0d0887"
             ],
             [
              0.1111111111111111,
              "#46039f"
             ],
             [
              0.2222222222222222,
              "#7201a8"
             ],
             [
              0.3333333333333333,
              "#9c179e"
             ],
             [
              0.4444444444444444,
              "#bd3786"
             ],
             [
              0.5555555555555556,
              "#d8576b"
             ],
             [
              0.6666666666666666,
              "#ed7953"
             ],
             [
              0.7777777777777778,
              "#fb9f3a"
             ],
             [
              0.8888888888888888,
              "#fdca26"
             ],
             [
              1,
              "#f0f921"
             ]
            ],
            "type": "contour"
           }
          ],
          "contourcarpet": [
           {
            "colorbar": {
             "outlinewidth": 0,
             "ticks": ""
            },
            "type": "contourcarpet"
           }
          ],
          "heatmap": [
           {
            "colorbar": {
             "outlinewidth": 0,
             "ticks": ""
            },
            "colorscale": [
             [
              0,
              "#0d0887"
             ],
             [
              0.1111111111111111,
              "#46039f"
             ],
             [
              0.2222222222222222,
              "#7201a8"
             ],
             [
              0.3333333333333333,
              "#9c179e"
             ],
             [
              0.4444444444444444,
              "#bd3786"
             ],
             [
              0.5555555555555556,
              "#d8576b"
             ],
             [
              0.6666666666666666,
              "#ed7953"
             ],
             [
              0.7777777777777778,
              "#fb9f3a"
             ],
             [
              0.8888888888888888,
              "#fdca26"
             ],
             [
              1,
              "#f0f921"
             ]
            ],
            "type": "heatmap"
           }
          ],
          "heatmapgl": [
           {
            "colorbar": {
             "outlinewidth": 0,
             "ticks": ""
            },
            "colorscale": [
             [
              0,
              "#0d0887"
             ],
             [
              0.1111111111111111,
              "#46039f"
             ],
             [
              0.2222222222222222,
              "#7201a8"
             ],
             [
              0.3333333333333333,
              "#9c179e"
             ],
             [
              0.4444444444444444,
              "#bd3786"
             ],
             [
              0.5555555555555556,
              "#d8576b"
             ],
             [
              0.6666666666666666,
              "#ed7953"
             ],
             [
              0.7777777777777778,
              "#fb9f3a"
             ],
             [
              0.8888888888888888,
              "#fdca26"
             ],
             [
              1,
              "#f0f921"
             ]
            ],
            "type": "heatmapgl"
           }
          ],
          "histogram": [
           {
            "marker": {
             "pattern": {
              "fillmode": "overlay",
              "size": 10,
              "solidity": 0.2
             }
            },
            "type": "histogram"
           }
          ],
          "histogram2d": [
           {
            "colorbar": {
             "outlinewidth": 0,
             "ticks": ""
            },
            "colorscale": [
             [
              0,
              "#0d0887"
             ],
             [
              0.1111111111111111,
              "#46039f"
             ],
             [
              0.2222222222222222,
              "#7201a8"
             ],
             [
              0.3333333333333333,
              "#9c179e"
             ],
             [
              0.4444444444444444,
              "#bd3786"
             ],
             [
              0.5555555555555556,
              "#d8576b"
             ],
             [
              0.6666666666666666,
              "#ed7953"
             ],
             [
              0.7777777777777778,
              "#fb9f3a"
             ],
             [
              0.8888888888888888,
              "#fdca26"
             ],
             [
              1,
              "#f0f921"
             ]
            ],
            "type": "histogram2d"
           }
          ],
          "histogram2dcontour": [
           {
            "colorbar": {
             "outlinewidth": 0,
             "ticks": ""
            },
            "colorscale": [
             [
              0,
              "#0d0887"
             ],
             [
              0.1111111111111111,
              "#46039f"
             ],
             [
              0.2222222222222222,
              "#7201a8"
             ],
             [
              0.3333333333333333,
              "#9c179e"
             ],
             [
              0.4444444444444444,
              "#bd3786"
             ],
             [
              0.5555555555555556,
              "#d8576b"
             ],
             [
              0.6666666666666666,
              "#ed7953"
             ],
             [
              0.7777777777777778,
              "#fb9f3a"
             ],
             [
              0.8888888888888888,
              "#fdca26"
             ],
             [
              1,
              "#f0f921"
             ]
            ],
            "type": "histogram2dcontour"
           }
          ],
          "mesh3d": [
           {
            "colorbar": {
             "outlinewidth": 0,
             "ticks": ""
            },
            "type": "mesh3d"
           }
          ],
          "parcoords": [
           {
            "line": {
             "colorbar": {
              "outlinewidth": 0,
              "ticks": ""
             }
            },
            "type": "parcoords"
           }
          ],
          "pie": [
           {
            "automargin": true,
            "type": "pie"
           }
          ],
          "scatter": [
           {
            "fillpattern": {
             "fillmode": "overlay",
             "size": 10,
             "solidity": 0.2
            },
            "type": "scatter"
           }
          ],
          "scatter3d": [
           {
            "line": {
             "colorbar": {
              "outlinewidth": 0,
              "ticks": ""
             }
            },
            "marker": {
             "colorbar": {
              "outlinewidth": 0,
              "ticks": ""
             }
            },
            "type": "scatter3d"
           }
          ],
          "scattercarpet": [
           {
            "marker": {
             "colorbar": {
              "outlinewidth": 0,
              "ticks": ""
             }
            },
            "type": "scattercarpet"
           }
          ],
          "scattergeo": [
           {
            "marker": {
             "colorbar": {
              "outlinewidth": 0,
              "ticks": ""
             }
            },
            "type": "scattergeo"
           }
          ],
          "scattergl": [
           {
            "marker": {
             "colorbar": {
              "outlinewidth": 0,
              "ticks": ""
             }
            },
            "type": "scattergl"
           }
          ],
          "scattermapbox": [
           {
            "marker": {
             "colorbar": {
              "outlinewidth": 0,
              "ticks": ""
             }
            },
            "type": "scattermapbox"
           }
          ],
          "scatterpolar": [
           {
            "marker": {
             "colorbar": {
              "outlinewidth": 0,
              "ticks": ""
             }
            },
            "type": "scatterpolar"
           }
          ],
          "scatterpolargl": [
           {
            "marker": {
             "colorbar": {
              "outlinewidth": 0,
              "ticks": ""
             }
            },
            "type": "scatterpolargl"
           }
          ],
          "scatterternary": [
           {
            "marker": {
             "colorbar": {
              "outlinewidth": 0,
              "ticks": ""
             }
            },
            "type": "scatterternary"
           }
          ],
          "surface": [
           {
            "colorbar": {
             "outlinewidth": 0,
             "ticks": ""
            },
            "colorscale": [
             [
              0,
              "#0d0887"
             ],
             [
              0.1111111111111111,
              "#46039f"
             ],
             [
              0.2222222222222222,
              "#7201a8"
             ],
             [
              0.3333333333333333,
              "#9c179e"
             ],
             [
              0.4444444444444444,
              "#bd3786"
             ],
             [
              0.5555555555555556,
              "#d8576b"
             ],
             [
              0.6666666666666666,
              "#ed7953"
             ],
             [
              0.7777777777777778,
              "#fb9f3a"
             ],
             [
              0.8888888888888888,
              "#fdca26"
             ],
             [
              1,
              "#f0f921"
             ]
            ],
            "type": "surface"
           }
          ],
          "table": [
           {
            "cells": {
             "fill": {
              "color": "#EBF0F8"
             },
             "line": {
              "color": "white"
             }
            },
            "header": {
             "fill": {
              "color": "#C8D4E3"
             },
             "line": {
              "color": "white"
             }
            },
            "type": "table"
           }
          ]
         },
         "layout": {
          "annotationdefaults": {
           "arrowcolor": "#2a3f5f",
           "arrowhead": 0,
           "arrowwidth": 1
          },
          "autotypenumbers": "strict",
          "coloraxis": {
           "colorbar": {
            "outlinewidth": 0,
            "ticks": ""
           }
          },
          "colorscale": {
           "diverging": [
            [
             0,
             "#8e0152"
            ],
            [
             0.1,
             "#c51b7d"
            ],
            [
             0.2,
             "#de77ae"
            ],
            [
             0.3,
             "#f1b6da"
            ],
            [
             0.4,
             "#fde0ef"
            ],
            [
             0.5,
             "#f7f7f7"
            ],
            [
             0.6,
             "#e6f5d0"
            ],
            [
             0.7,
             "#b8e186"
            ],
            [
             0.8,
             "#7fbc41"
            ],
            [
             0.9,
             "#4d9221"
            ],
            [
             1,
             "#276419"
            ]
           ],
           "sequential": [
            [
             0,
             "#0d0887"
            ],
            [
             0.1111111111111111,
             "#46039f"
            ],
            [
             0.2222222222222222,
             "#7201a8"
            ],
            [
             0.3333333333333333,
             "#9c179e"
            ],
            [
             0.4444444444444444,
             "#bd3786"
            ],
            [
             0.5555555555555556,
             "#d8576b"
            ],
            [
             0.6666666666666666,
             "#ed7953"
            ],
            [
             0.7777777777777778,
             "#fb9f3a"
            ],
            [
             0.8888888888888888,
             "#fdca26"
            ],
            [
             1,
             "#f0f921"
            ]
           ],
           "sequentialminus": [
            [
             0,
             "#0d0887"
            ],
            [
             0.1111111111111111,
             "#46039f"
            ],
            [
             0.2222222222222222,
             "#7201a8"
            ],
            [
             0.3333333333333333,
             "#9c179e"
            ],
            [
             0.4444444444444444,
             "#bd3786"
            ],
            [
             0.5555555555555556,
             "#d8576b"
            ],
            [
             0.6666666666666666,
             "#ed7953"
            ],
            [
             0.7777777777777778,
             "#fb9f3a"
            ],
            [
             0.8888888888888888,
             "#fdca26"
            ],
            [
             1,
             "#f0f921"
            ]
           ]
          },
          "colorway": [
           "#636efa",
           "#EF553B",
           "#00cc96",
           "#ab63fa",
           "#FFA15A",
           "#19d3f3",
           "#FF6692",
           "#B6E880",
           "#FF97FF",
           "#FECB52"
          ],
          "font": {
           "color": "#2a3f5f"
          },
          "geo": {
           "bgcolor": "white",
           "lakecolor": "white",
           "landcolor": "#E5ECF6",
           "showlakes": true,
           "showland": true,
           "subunitcolor": "white"
          },
          "hoverlabel": {
           "align": "left"
          },
          "hovermode": "closest",
          "mapbox": {
           "style": "light"
          },
          "paper_bgcolor": "white",
          "plot_bgcolor": "#E5ECF6",
          "polar": {
           "angularaxis": {
            "gridcolor": "white",
            "linecolor": "white",
            "ticks": ""
           },
           "bgcolor": "#E5ECF6",
           "radialaxis": {
            "gridcolor": "white",
            "linecolor": "white",
            "ticks": ""
           }
          },
          "scene": {
           "xaxis": {
            "backgroundcolor": "#E5ECF6",
            "gridcolor": "white",
            "gridwidth": 2,
            "linecolor": "white",
            "showbackground": true,
            "ticks": "",
            "zerolinecolor": "white"
           },
           "yaxis": {
            "backgroundcolor": "#E5ECF6",
            "gridcolor": "white",
            "gridwidth": 2,
            "linecolor": "white",
            "showbackground": true,
            "ticks": "",
            "zerolinecolor": "white"
           },
           "zaxis": {
            "backgroundcolor": "#E5ECF6",
            "gridcolor": "white",
            "gridwidth": 2,
            "linecolor": "white",
            "showbackground": true,
            "ticks": "",
            "zerolinecolor": "white"
           }
          },
          "shapedefaults": {
           "line": {
            "color": "#2a3f5f"
           }
          },
          "ternary": {
           "aaxis": {
            "gridcolor": "white",
            "linecolor": "white",
            "ticks": ""
           },
           "baxis": {
            "gridcolor": "white",
            "linecolor": "white",
            "ticks": ""
           },
           "bgcolor": "#E5ECF6",
           "caxis": {
            "gridcolor": "white",
            "linecolor": "white",
            "ticks": ""
           }
          },
          "title": {
           "x": 0.05
          },
          "xaxis": {
           "automargin": true,
           "gridcolor": "white",
           "linecolor": "white",
           "ticks": "",
           "title": {
            "standoff": 15
           },
           "zerolinecolor": "white",
           "zerolinewidth": 2
          },
          "yaxis": {
           "automargin": true,
           "gridcolor": "white",
           "linecolor": "white",
           "ticks": "",
           "title": {
            "standoff": 15
           },
           "zerolinecolor": "white",
           "zerolinewidth": 2
          }
         }
        },
        "title": {
         "text": "Influence of Nearby Stores in Home Price in Region 2"
        },
        "xaxis": {
         "title": {
          "font": {
           "size": 16
          },
          "text": "Age of the House"
         },
         "zeroline": false
        },
        "yaxis": {
         "title": {
          "font": {
           "size": 16
          },
          "text": "Price Per Unit Area"
         },
         "zeroline": false
        }
       }
      },
      "text/html": [
       "<div>                            <div id=\"ab632b75-692c-4757-aa52-69f78c599df4\" class=\"plotly-graph-div\" style=\"height:525px; width:100%;\"></div>            <script type=\"text/javascript\">                require([\"plotly\"], function(Plotly) {                    window.PLOTLYENV=window.PLOTLYENV || {};                                    if (document.getElementById(\"ab632b75-692c-4757-aa52-69f78c599df4\")) {                    Plotly.newPlot(                        \"ab632b75-692c-4757-aa52-69f78c599df4\",                        [{\"marker\":{\"color\":\"#DF0101\",\"size\":10},\"mode\":\"markers\",\"name\":\"More Stores\",\"x\":[32.0,19.5,13.3,13.3,5.0,34.5,20.3,6.3,0.0,10.5,10.1,3.1,7.1,29.6,16.5,15.4,3.1,16.2,34.4,16.1,33.6,5.3,40.1,30.4,12.5,6.6,32.5,6.8,6.4,16.4,6.4,0.0,17.2,33.3,30.6,16.6,9.9,3.8,38.5,29.6,26.6,18.0,11.4,16.2,2.1,34.9,4.9,11.6,0.0,28.2,3.6,6.6,4.3,33.0,11.6,34.8,35.3,9.7,13.1,15.6,22.2,34.8,5.2,6.2,19.2,28.0,29.3,37.2,30.6,34.5,32.4,39.7,3.6,32.8,7.5,39.2,5.9,1.1,0.0,15.9,34.7,17.2,27.5,4.7,5.9,16.6,13.9,26.4,33.2,16.2,16.4,35.4,3.7,7.1,28.6,30.0,1.7,5.7,33.5,4.6,3.8,32.9,41.4,32.3,35.3,15.9,5.4,0.0,14.1,8.0,18.3,32.8,42.7,26.8,30.9,16.4,1.9,5.6,18.8,6.5],\"y\":[37.9,42.2,47.3,54.8,43.1,40.3,46.7,58.1,70.1,51.6,47.9,56.2,57.1,25.0,49.3,55.1,47.7,46.2,34.1,51.7,41.9,63.2,44.3,36.2,42.0,59.0,36.3,54.4,59.5,51.0,62.2,71.0,47.1,39.4,53.3,59.6,57.4,55.0,41.0,37.5,37.5,39.5,46.8,51.4,45.5,39.7,44.7,39.4,73.6,43.4,58.8,58.1,45.2,42.0,55.9,44.3,42.3,49.3,45.9,46.1,44.0,40.9,52.2,58.0,48.1,40.8,40.2,78.3,48.5,46.0,40.2,32.4,61.9,48.2,40.8,30.0,52.7,51.8,63.3,53.0,41.1,40.1,41.0,44.8,56.3,51.0,44.5,38.1,46.1,55.0,53.0,78.0,41.6,49.8,42.5,22.8,50.4,53.5,46.6,53.7,60.7,47.1,63.3,48.0,33.1,42.1,49.5,69.7,53.3,47.3,46.6,38.6,35.3,35.5,39.7,41.2,40.5,50.0,40.6,63.9],\"type\":\"scatter\"},{\"marker\":{\"color\":\"#00FF40\",\"size\":10},\"mode\":\"markers\",\"name\":\"Less Stores\",\"x\":[34.8,13.2,35.7,17.7,39.6,19.2,37.9,13.9,2.7,35.9,21.7,2.6,35.5,35.9,38.2,11.8,8.9,0.0,9.1,28.4,17.5,12.7,31.4,20.6,31.5,0.0,38.6,10.0,0.0,16.1,15.5,19.2,0.0,13.7,41.3,30.2,13.1,14.0,13.2,22.8,38.3,38.5,0.0,17.6,37.8,9.0,9.1,11.9,13.0,12.8,14.6,17.3,15.7,13.2,33.5,30.1,37.7,12.5,38.0,38.3,14.4,21.3,15.6,15.6,16.9,12.9,3.5,39.8,5.1,33.6,13.0,34.6,0.0,10.3,17.1,18.2,0.0,29.1,0.0,16.9,21.2,37.1,13.1,12.7,12.7],\"y\":[41.4,34.3,50.5,37.4,38.8,47.0,34.2,27.3,53.9,61.5,44.2,55.0,40.8,36.8,29.8,40.3,48.0,45.4,43.2,34.6,38.2,32.9,34.1,46.4,32.5,45.5,62.9,43.5,52.2,35.6,37.4,39.6,55.2,30.6,35.1,36.5,36.7,42.6,37.8,36.6,31.5,34.2,43.5,31.1,39.7,38.5,42.3,46.6,39.0,40.6,26.5,43.9,38.1,29.3,23.5,55.3,37.0,34.1,35.7,38.4,50.2,42.2,27.3,37.5,37.7,33.1,36.7,39.6,35.6,42.9,37.0,41.2,37.9,45.3,40.0,43.1,52.2,40.3,55.3,40.3,42.5,31.9,32.2,37.3,28.5],\"type\":\"scatter\"}],                        {\"title\":{\"text\":\"Influence of Nearby Stores in Home Price in Region 2\"},\"xaxis\":{\"title\":{\"text\":\"Age of the House\",\"font\":{\"size\":16}},\"zeroline\":false},\"yaxis\":{\"title\":{\"text\":\"Price Per Unit Area\",\"font\":{\"size\":16}},\"zeroline\":false},\"template\":{\"data\":{\"histogram2dcontour\":[{\"type\":\"histogram2dcontour\",\"colorbar\":{\"outlinewidth\":0,\"ticks\":\"\"},\"colorscale\":[[0.0,\"#0d0887\"],[0.1111111111111111,\"#46039f\"],[0.2222222222222222,\"#7201a8\"],[0.3333333333333333,\"#9c179e\"],[0.4444444444444444,\"#bd3786\"],[0.5555555555555556,\"#d8576b\"],[0.6666666666666666,\"#ed7953\"],[0.7777777777777778,\"#fb9f3a\"],[0.8888888888888888,\"#fdca26\"],[1.0,\"#f0f921\"]]}],\"choropleth\":[{\"type\":\"choropleth\",\"colorbar\":{\"outlinewidth\":0,\"ticks\":\"\"}}],\"histogram2d\":[{\"type\":\"histogram2d\",\"colorbar\":{\"outlinewidth\":0,\"ticks\":\"\"},\"colorscale\":[[0.0,\"#0d0887\"],[0.1111111111111111,\"#46039f\"],[0.2222222222222222,\"#7201a8\"],[0.3333333333333333,\"#9c179e\"],[0.4444444444444444,\"#bd3786\"],[0.5555555555555556,\"#d8576b\"],[0.6666666666666666,\"#ed7953\"],[0.7777777777777778,\"#fb9f3a\"],[0.8888888888888888,\"#fdca26\"],[1.0,\"#f0f921\"]]}],\"heatmap\":[{\"type\":\"heatmap\",\"colorbar\":{\"outlinewidth\":0,\"ticks\":\"\"},\"colorscale\":[[0.0,\"#0d0887\"],[0.1111111111111111,\"#46039f\"],[0.2222222222222222,\"#7201a8\"],[0.3333333333333333,\"#9c179e\"],[0.4444444444444444,\"#bd3786\"],[0.5555555555555556,\"#d8576b\"],[0.6666666666666666,\"#ed7953\"],[0.7777777777777778,\"#fb9f3a\"],[0.8888888888888888,\"#fdca26\"],[1.0,\"#f0f921\"]]}],\"heatmapgl\":[{\"type\":\"heatmapgl\",\"colorbar\":{\"outlinewidth\":0,\"ticks\":\"\"},\"colorscale\":[[0.0,\"#0d0887\"],[0.1111111111111111,\"#46039f\"],[0.2222222222222222,\"#7201a8\"],[0.3333333333333333,\"#9c179e\"],[0.4444444444444444,\"#bd3786\"],[0.5555555555555556,\"#d8576b\"],[0.6666666666666666,\"#ed7953\"],[0.7777777777777778,\"#fb9f3a\"],[0.8888888888888888,\"#fdca26\"],[1.0,\"#f0f921\"]]}],\"contourcarpet\":[{\"type\":\"contourcarpet\",\"colorbar\":{\"outlinewidth\":0,\"ticks\":\"\"}}],\"contour\":[{\"type\":\"contour\",\"colorbar\":{\"outlinewidth\":0,\"ticks\":\"\"},\"colorscale\":[[0.0,\"#0d0887\"],[0.1111111111111111,\"#46039f\"],[0.2222222222222222,\"#7201a8\"],[0.3333333333333333,\"#9c179e\"],[0.4444444444444444,\"#bd3786\"],[0.5555555555555556,\"#d8576b\"],[0.6666666666666666,\"#ed7953\"],[0.7777777777777778,\"#fb9f3a\"],[0.8888888888888888,\"#fdca26\"],[1.0,\"#f0f921\"]]}],\"surface\":[{\"type\":\"surface\",\"colorbar\":{\"outlinewidth\":0,\"ticks\":\"\"},\"colorscale\":[[0.0,\"#0d0887\"],[0.1111111111111111,\"#46039f\"],[0.2222222222222222,\"#7201a8\"],[0.3333333333333333,\"#9c179e\"],[0.4444444444444444,\"#bd3786\"],[0.5555555555555556,\"#d8576b\"],[0.6666666666666666,\"#ed7953\"],[0.7777777777777778,\"#fb9f3a\"],[0.8888888888888888,\"#fdca26\"],[1.0,\"#f0f921\"]]}],\"mesh3d\":[{\"type\":\"mesh3d\",\"colorbar\":{\"outlinewidth\":0,\"ticks\":\"\"}}],\"scatter\":[{\"fillpattern\":{\"fillmode\":\"overlay\",\"size\":10,\"solidity\":0.2},\"type\":\"scatter\"}],\"parcoords\":[{\"type\":\"parcoords\",\"line\":{\"colorbar\":{\"outlinewidth\":0,\"ticks\":\"\"}}}],\"scatterpolargl\":[{\"type\":\"scatterpolargl\",\"marker\":{\"colorbar\":{\"outlinewidth\":0,\"ticks\":\"\"}}}],\"bar\":[{\"error_x\":{\"color\":\"#2a3f5f\"},\"error_y\":{\"color\":\"#2a3f5f\"},\"marker\":{\"line\":{\"color\":\"#E5ECF6\",\"width\":0.5},\"pattern\":{\"fillmode\":\"overlay\",\"size\":10,\"solidity\":0.2}},\"type\":\"bar\"}],\"scattergeo\":[{\"type\":\"scattergeo\",\"marker\":{\"colorbar\":{\"outlinewidth\":0,\"ticks\":\"\"}}}],\"scatterpolar\":[{\"type\":\"scatterpolar\",\"marker\":{\"colorbar\":{\"outlinewidth\":0,\"ticks\":\"\"}}}],\"histogram\":[{\"marker\":{\"pattern\":{\"fillmode\":\"overlay\",\"size\":10,\"solidity\":0.2}},\"type\":\"histogram\"}],\"scattergl\":[{\"type\":\"scattergl\",\"marker\":{\"colorbar\":{\"outlinewidth\":0,\"ticks\":\"\"}}}],\"scatter3d\":[{\"type\":\"scatter3d\",\"line\":{\"colorbar\":{\"outlinewidth\":0,\"ticks\":\"\"}},\"marker\":{\"colorbar\":{\"outlinewidth\":0,\"ticks\":\"\"}}}],\"scattermapbox\":[{\"type\":\"scattermapbox\",\"marker\":{\"colorbar\":{\"outlinewidth\":0,\"ticks\":\"\"}}}],\"scatterternary\":[{\"type\":\"scatterternary\",\"marker\":{\"colorbar\":{\"outlinewidth\":0,\"ticks\":\"\"}}}],\"scattercarpet\":[{\"type\":\"scattercarpet\",\"marker\":{\"colorbar\":{\"outlinewidth\":0,\"ticks\":\"\"}}}],\"carpet\":[{\"aaxis\":{\"endlinecolor\":\"#2a3f5f\",\"gridcolor\":\"white\",\"linecolor\":\"white\",\"minorgridcolor\":\"white\",\"startlinecolor\":\"#2a3f5f\"},\"baxis\":{\"endlinecolor\":\"#2a3f5f\",\"gridcolor\":\"white\",\"linecolor\":\"white\",\"minorgridcolor\":\"white\",\"startlinecolor\":\"#2a3f5f\"},\"type\":\"carpet\"}],\"table\":[{\"cells\":{\"fill\":{\"color\":\"#EBF0F8\"},\"line\":{\"color\":\"white\"}},\"header\":{\"fill\":{\"color\":\"#C8D4E3\"},\"line\":{\"color\":\"white\"}},\"type\":\"table\"}],\"barpolar\":[{\"marker\":{\"line\":{\"color\":\"#E5ECF6\",\"width\":0.5},\"pattern\":{\"fillmode\":\"overlay\",\"size\":10,\"solidity\":0.2}},\"type\":\"barpolar\"}],\"pie\":[{\"automargin\":true,\"type\":\"pie\"}]},\"layout\":{\"autotypenumbers\":\"strict\",\"colorway\":[\"#636efa\",\"#EF553B\",\"#00cc96\",\"#ab63fa\",\"#FFA15A\",\"#19d3f3\",\"#FF6692\",\"#B6E880\",\"#FF97FF\",\"#FECB52\"],\"font\":{\"color\":\"#2a3f5f\"},\"hovermode\":\"closest\",\"hoverlabel\":{\"align\":\"left\"},\"paper_bgcolor\":\"white\",\"plot_bgcolor\":\"#E5ECF6\",\"polar\":{\"bgcolor\":\"#E5ECF6\",\"angularaxis\":{\"gridcolor\":\"white\",\"linecolor\":\"white\",\"ticks\":\"\"},\"radialaxis\":{\"gridcolor\":\"white\",\"linecolor\":\"white\",\"ticks\":\"\"}},\"ternary\":{\"bgcolor\":\"#E5ECF6\",\"aaxis\":{\"gridcolor\":\"white\",\"linecolor\":\"white\",\"ticks\":\"\"},\"baxis\":{\"gridcolor\":\"white\",\"linecolor\":\"white\",\"ticks\":\"\"},\"caxis\":{\"gridcolor\":\"white\",\"linecolor\":\"white\",\"ticks\":\"\"}},\"coloraxis\":{\"colorbar\":{\"outlinewidth\":0,\"ticks\":\"\"}},\"colorscale\":{\"sequential\":[[0.0,\"#0d0887\"],[0.1111111111111111,\"#46039f\"],[0.2222222222222222,\"#7201a8\"],[0.3333333333333333,\"#9c179e\"],[0.4444444444444444,\"#bd3786\"],[0.5555555555555556,\"#d8576b\"],[0.6666666666666666,\"#ed7953\"],[0.7777777777777778,\"#fb9f3a\"],[0.8888888888888888,\"#fdca26\"],[1.0,\"#f0f921\"]],\"sequentialminus\":[[0.0,\"#0d0887\"],[0.1111111111111111,\"#46039f\"],[0.2222222222222222,\"#7201a8\"],[0.3333333333333333,\"#9c179e\"],[0.4444444444444444,\"#bd3786\"],[0.5555555555555556,\"#d8576b\"],[0.6666666666666666,\"#ed7953\"],[0.7777777777777778,\"#fb9f3a\"],[0.8888888888888888,\"#fdca26\"],[1.0,\"#f0f921\"]],\"diverging\":[[0,\"#8e0152\"],[0.1,\"#c51b7d\"],[0.2,\"#de77ae\"],[0.3,\"#f1b6da\"],[0.4,\"#fde0ef\"],[0.5,\"#f7f7f7\"],[0.6,\"#e6f5d0\"],[0.7,\"#b8e186\"],[0.8,\"#7fbc41\"],[0.9,\"#4d9221\"],[1,\"#276419\"]]},\"xaxis\":{\"gridcolor\":\"white\",\"linecolor\":\"white\",\"ticks\":\"\",\"title\":{\"standoff\":15},\"zerolinecolor\":\"white\",\"automargin\":true,\"zerolinewidth\":2},\"yaxis\":{\"gridcolor\":\"white\",\"linecolor\":\"white\",\"ticks\":\"\",\"title\":{\"standoff\":15},\"zerolinecolor\":\"white\",\"automargin\":true,\"zerolinewidth\":2},\"scene\":{\"xaxis\":{\"backgroundcolor\":\"#E5ECF6\",\"gridcolor\":\"white\",\"linecolor\":\"white\",\"showbackground\":true,\"ticks\":\"\",\"zerolinecolor\":\"white\",\"gridwidth\":2},\"yaxis\":{\"backgroundcolor\":\"#E5ECF6\",\"gridcolor\":\"white\",\"linecolor\":\"white\",\"showbackground\":true,\"ticks\":\"\",\"zerolinecolor\":\"white\",\"gridwidth\":2},\"zaxis\":{\"backgroundcolor\":\"#E5ECF6\",\"gridcolor\":\"white\",\"linecolor\":\"white\",\"showbackground\":true,\"ticks\":\"\",\"zerolinecolor\":\"white\",\"gridwidth\":2}},\"shapedefaults\":{\"line\":{\"color\":\"#2a3f5f\"}},\"annotationdefaults\":{\"arrowcolor\":\"#2a3f5f\",\"arrowhead\":0,\"arrowwidth\":1},\"geo\":{\"bgcolor\":\"white\",\"landcolor\":\"#E5ECF6\",\"subunitcolor\":\"white\",\"showland\":true,\"showlakes\":true,\"lakecolor\":\"white\"},\"title\":{\"x\":0.05},\"mapbox\":{\"style\":\"light\"}}}},                        {\"responsive\": true}                    ).then(function(){\n",
       "                            \n",
       "var gd = document.getElementById('ab632b75-692c-4757-aa52-69f78c599df4');\n",
       "var x = new MutationObserver(function (mutations, observer) {{\n",
       "        var display = window.getComputedStyle(gd).display;\n",
       "        if (!display || display === 'none') {{\n",
       "            console.log([gd, 'removed!']);\n",
       "            Plotly.purge(gd);\n",
       "            observer.disconnect();\n",
       "        }}\n",
       "}});\n",
       "\n",
       "// Listen for the removal of the full notebook cells\n",
       "var notebookContainer = gd.closest('#notebook-container');\n",
       "if (notebookContainer) {{\n",
       "    x.observe(notebookContainer, {childList: true});\n",
       "}}\n",
       "\n",
       "// Listen for the clearing of the current output cell\n",
       "var outputEl = gd.closest('.output');\n",
       "if (outputEl) {{\n",
       "    x.observe(outputEl, {childList: true});\n",
       "}}\n",
       "\n",
       "                        })                };                });            </script>        </div>"
      ]
     },
     "metadata": {},
     "output_type": "display_data"
    }
   ],
   "source": [
    "r2_more_stores= df.loc[(df['Region']=='Region2') & (df['store_cat'] == 'More')]\n",
    "r2_less_stores = df.loc[(df['Region']=='Region2') & (df['store_cat'] == 'Less')]\n",
    "\n",
    "trace0 = go.Scatter(\n",
    "    y=r2_more_stores['house_price'],\n",
    "    x=r2_more_stores['house_age'],\n",
    "    name='More Stores',\n",
    "    mode='markers',\n",
    "    marker=dict(size=10,\n",
    "                color='#DF0101')\n",
    ")\n",
    "trace1 = go.Scatter(\n",
    "    y=r2_less_stores['house_price'],\n",
    "    x=r2_less_stores['house_age'],\n",
    "    name='Less Stores',\n",
    "    mode='markers',\n",
    "    marker=dict(size=10,\n",
    "                color='#00FF40')\n",
    ")\n",
    "\n",
    "data=[trace0, trace1]\n",
    "\n",
    "layout=dict(\n",
    "    title='Influence of Nearby Stores in Home Price in Region 2',\n",
    "    yaxis=dict(zeroline=False,\n",
    "              title='Price Per Unit Area',\n",
    "              titlefont=dict(\n",
    "                  size=16)\n",
    "              ),\n",
    "    xaxis=dict(zeroline=False,\n",
    "              title='Age of the House',\n",
    "              titlefont=dict(\n",
    "                  size=16)\n",
    "              )\n",
    ")\n",
    "\n",
    "fig = go.Figure(data=data, layout=layout)\n",
    "fig.show()"
   ]
  },
  {
   "cell_type": "markdown",
   "metadata": {},
   "source": [
    "It is observed that house prices in region2 is generally more for houses where stores are more for homes of all ages."
   ]
  },
  {
   "cell_type": "markdown",
   "metadata": {},
   "source": [
    "After analysing the visualisations we can infer that combined effect of region and store category is significant on the target value. so we can combine those two features."
   ]
  },
  {
   "cell_type": "code",
   "execution_count": 43,
   "metadata": {},
   "outputs": [],
   "source": [
    "df[\"region_store_cat\"] = (df['Region'].astype(str) + \"_\"\n",
    "                           + df['store_cat'].astype(str) )"
   ]
  },
  {
   "cell_type": "code",
   "execution_count": 44,
   "metadata": {},
   "outputs": [
    {
     "data": {
      "text/html": [
       "<div>\n",
       "<style scoped>\n",
       "    .dataframe tbody tr th:only-of-type {\n",
       "        vertical-align: middle;\n",
       "    }\n",
       "\n",
       "    .dataframe tbody tr th {\n",
       "        vertical-align: top;\n",
       "    }\n",
       "\n",
       "    .dataframe thead th {\n",
       "        text-align: right;\n",
       "    }\n",
       "</style>\n",
       "<table border=\"1\" class=\"dataframe\">\n",
       "  <thead>\n",
       "    <tr style=\"text-align: right;\">\n",
       "      <th></th>\n",
       "      <th>house_age</th>\n",
       "      <th>nearest_MRT</th>\n",
       "      <th>convenience_stores</th>\n",
       "      <th>latitude</th>\n",
       "      <th>longitude</th>\n",
       "      <th>bedrooms</th>\n",
       "      <th>house_size</th>\n",
       "      <th>house_price</th>\n",
       "      <th>Region</th>\n",
       "      <th>store_cat</th>\n",
       "      <th>house_age_cat</th>\n",
       "      <th>region_store_cat</th>\n",
       "    </tr>\n",
       "  </thead>\n",
       "  <tbody>\n",
       "    <tr>\n",
       "      <th>0</th>\n",
       "      <td>32.0</td>\n",
       "      <td>1.928799</td>\n",
       "      <td>10</td>\n",
       "      <td>24.98298</td>\n",
       "      <td>121.54024</td>\n",
       "      <td>1</td>\n",
       "      <td>575</td>\n",
       "      <td>37.9</td>\n",
       "      <td>Region2</td>\n",
       "      <td>More</td>\n",
       "      <td>OldHome</td>\n",
       "      <td>Region2_More</td>\n",
       "    </tr>\n",
       "    <tr>\n",
       "      <th>1</th>\n",
       "      <td>19.5</td>\n",
       "      <td>2.486565</td>\n",
       "      <td>9</td>\n",
       "      <td>24.98034</td>\n",
       "      <td>121.53951</td>\n",
       "      <td>2</td>\n",
       "      <td>1240</td>\n",
       "      <td>42.2</td>\n",
       "      <td>Region2</td>\n",
       "      <td>More</td>\n",
       "      <td>Middle Aged Home</td>\n",
       "      <td>Region2_More</td>\n",
       "    </tr>\n",
       "    <tr>\n",
       "      <th>2</th>\n",
       "      <td>13.3</td>\n",
       "      <td>2.749724</td>\n",
       "      <td>5</td>\n",
       "      <td>24.98746</td>\n",
       "      <td>121.54391</td>\n",
       "      <td>3</td>\n",
       "      <td>1060</td>\n",
       "      <td>47.3</td>\n",
       "      <td>Region2</td>\n",
       "      <td>More</td>\n",
       "      <td>New Home</td>\n",
       "      <td>Region2_More</td>\n",
       "    </tr>\n",
       "    <tr>\n",
       "      <th>3</th>\n",
       "      <td>13.3</td>\n",
       "      <td>2.749724</td>\n",
       "      <td>5</td>\n",
       "      <td>24.98746</td>\n",
       "      <td>121.54391</td>\n",
       "      <td>2</td>\n",
       "      <td>875</td>\n",
       "      <td>54.8</td>\n",
       "      <td>Region2</td>\n",
       "      <td>More</td>\n",
       "      <td>New Home</td>\n",
       "      <td>Region2_More</td>\n",
       "    </tr>\n",
       "    <tr>\n",
       "      <th>4</th>\n",
       "      <td>5.0</td>\n",
       "      <td>2.591697</td>\n",
       "      <td>5</td>\n",
       "      <td>24.97937</td>\n",
       "      <td>121.54245</td>\n",
       "      <td>1</td>\n",
       "      <td>491</td>\n",
       "      <td>43.1</td>\n",
       "      <td>Region2</td>\n",
       "      <td>More</td>\n",
       "      <td>New Home</td>\n",
       "      <td>Region2_More</td>\n",
       "    </tr>\n",
       "  </tbody>\n",
       "</table>\n",
       "</div>"
      ],
      "text/plain": [
       "   house_age  nearest_MRT  convenience_stores  latitude  longitude  bedrooms  \\\n",
       "0       32.0     1.928799                  10  24.98298  121.54024         1   \n",
       "1       19.5     2.486565                   9  24.98034  121.53951         2   \n",
       "2       13.3     2.749724                   5  24.98746  121.54391         3   \n",
       "3       13.3     2.749724                   5  24.98746  121.54391         2   \n",
       "4        5.0     2.591697                   5  24.97937  121.54245         1   \n",
       "\n",
       "   house_size  house_price   Region store_cat     house_age_cat  \\\n",
       "0         575         37.9  Region2      More           OldHome   \n",
       "1        1240         42.2  Region2      More  Middle Aged Home   \n",
       "2        1060         47.3  Region2      More          New Home   \n",
       "3         875         54.8  Region2      More          New Home   \n",
       "4         491         43.1  Region2      More          New Home   \n",
       "\n",
       "  region_store_cat  \n",
       "0     Region2_More  \n",
       "1     Region2_More  \n",
       "2     Region2_More  \n",
       "3     Region2_More  \n",
       "4     Region2_More  "
      ]
     },
     "execution_count": 44,
     "metadata": {},
     "output_type": "execute_result"
    }
   ],
   "source": [
    "df.head()"
   ]
  },
  {
   "cell_type": "code",
   "execution_count": 45,
   "metadata": {},
   "outputs": [],
   "source": [
    "# remove individual features that are combined together\n",
    "df = df.drop(['Region','store_cat','house_age_cat'], axis=1)"
   ]
  },
  {
   "cell_type": "code",
   "execution_count": 46,
   "metadata": {},
   "outputs": [
    {
     "data": {
      "text/plain": [
       "Index(['house_age', 'nearest_MRT', 'convenience_stores', 'latitude',\n",
       "       'longitude', 'bedrooms', 'house_size', 'house_price',\n",
       "       'region_store_cat'],\n",
       "      dtype='object')"
      ]
     },
     "execution_count": 46,
     "metadata": {},
     "output_type": "execute_result"
    }
   ],
   "source": [
    "df.columns"
   ]
  },
  {
   "cell_type": "code",
   "execution_count": 47,
   "metadata": {},
   "outputs": [],
   "source": [
    "column_to_move = df.pop(\"house_price\")\n",
    "\n",
    "# insert column with insert(location, column_name, column_value)\n",
    "\n",
    "df.insert(8, \"house_price\", column_to_move)"
   ]
  },
  {
   "cell_type": "code",
   "execution_count": 48,
   "metadata": {},
   "outputs": [
    {
     "data": {
      "text/html": [
       "<div>\n",
       "<style scoped>\n",
       "    .dataframe tbody tr th:only-of-type {\n",
       "        vertical-align: middle;\n",
       "    }\n",
       "\n",
       "    .dataframe tbody tr th {\n",
       "        vertical-align: top;\n",
       "    }\n",
       "\n",
       "    .dataframe thead th {\n",
       "        text-align: right;\n",
       "    }\n",
       "</style>\n",
       "<table border=\"1\" class=\"dataframe\">\n",
       "  <thead>\n",
       "    <tr style=\"text-align: right;\">\n",
       "      <th></th>\n",
       "      <th>house_age</th>\n",
       "      <th>nearest_MRT</th>\n",
       "      <th>convenience_stores</th>\n",
       "      <th>latitude</th>\n",
       "      <th>longitude</th>\n",
       "      <th>bedrooms</th>\n",
       "      <th>house_size</th>\n",
       "      <th>region_store_cat</th>\n",
       "      <th>house_price</th>\n",
       "    </tr>\n",
       "  </thead>\n",
       "  <tbody>\n",
       "    <tr>\n",
       "      <th>0</th>\n",
       "      <td>32.0</td>\n",
       "      <td>1.928799</td>\n",
       "      <td>10</td>\n",
       "      <td>24.98298</td>\n",
       "      <td>121.54024</td>\n",
       "      <td>1</td>\n",
       "      <td>575</td>\n",
       "      <td>Region2_More</td>\n",
       "      <td>37.9</td>\n",
       "    </tr>\n",
       "    <tr>\n",
       "      <th>1</th>\n",
       "      <td>19.5</td>\n",
       "      <td>2.486565</td>\n",
       "      <td>9</td>\n",
       "      <td>24.98034</td>\n",
       "      <td>121.53951</td>\n",
       "      <td>2</td>\n",
       "      <td>1240</td>\n",
       "      <td>Region2_More</td>\n",
       "      <td>42.2</td>\n",
       "    </tr>\n",
       "    <tr>\n",
       "      <th>2</th>\n",
       "      <td>13.3</td>\n",
       "      <td>2.749724</td>\n",
       "      <td>5</td>\n",
       "      <td>24.98746</td>\n",
       "      <td>121.54391</td>\n",
       "      <td>3</td>\n",
       "      <td>1060</td>\n",
       "      <td>Region2_More</td>\n",
       "      <td>47.3</td>\n",
       "    </tr>\n",
       "    <tr>\n",
       "      <th>3</th>\n",
       "      <td>13.3</td>\n",
       "      <td>2.749724</td>\n",
       "      <td>5</td>\n",
       "      <td>24.98746</td>\n",
       "      <td>121.54391</td>\n",
       "      <td>2</td>\n",
       "      <td>875</td>\n",
       "      <td>Region2_More</td>\n",
       "      <td>54.8</td>\n",
       "    </tr>\n",
       "    <tr>\n",
       "      <th>4</th>\n",
       "      <td>5.0</td>\n",
       "      <td>2.591697</td>\n",
       "      <td>5</td>\n",
       "      <td>24.97937</td>\n",
       "      <td>121.54245</td>\n",
       "      <td>1</td>\n",
       "      <td>491</td>\n",
       "      <td>Region2_More</td>\n",
       "      <td>43.1</td>\n",
       "    </tr>\n",
       "  </tbody>\n",
       "</table>\n",
       "</div>"
      ],
      "text/plain": [
       "   house_age  nearest_MRT  convenience_stores  latitude  longitude  bedrooms  \\\n",
       "0       32.0     1.928799                  10  24.98298  121.54024         1   \n",
       "1       19.5     2.486565                   9  24.98034  121.53951         2   \n",
       "2       13.3     2.749724                   5  24.98746  121.54391         3   \n",
       "3       13.3     2.749724                   5  24.98746  121.54391         2   \n",
       "4        5.0     2.591697                   5  24.97937  121.54245         1   \n",
       "\n",
       "   house_size region_store_cat  house_price  \n",
       "0         575     Region2_More         37.9  \n",
       "1        1240     Region2_More         42.2  \n",
       "2        1060     Region2_More         47.3  \n",
       "3         875     Region2_More         54.8  \n",
       "4         491     Region2_More         43.1  "
      ]
     },
     "execution_count": 48,
     "metadata": {},
     "output_type": "execute_result"
    }
   ],
   "source": [
    "df.head()"
   ]
  },
  {
   "cell_type": "code",
   "execution_count": 49,
   "metadata": {},
   "outputs": [
    {
     "data": {
      "text/html": [
       "<div>\n",
       "<style scoped>\n",
       "    .dataframe tbody tr th:only-of-type {\n",
       "        vertical-align: middle;\n",
       "    }\n",
       "\n",
       "    .dataframe tbody tr th {\n",
       "        vertical-align: top;\n",
       "    }\n",
       "\n",
       "    .dataframe thead th {\n",
       "        text-align: right;\n",
       "    }\n",
       "</style>\n",
       "<table border=\"1\" class=\"dataframe\">\n",
       "  <thead>\n",
       "    <tr style=\"text-align: right;\">\n",
       "      <th></th>\n",
       "      <th>house_age</th>\n",
       "      <th>nearest_MRT</th>\n",
       "      <th>convenience_stores</th>\n",
       "      <th>latitude</th>\n",
       "      <th>longitude</th>\n",
       "      <th>bedrooms</th>\n",
       "      <th>house_size</th>\n",
       "      <th>house_price</th>\n",
       "      <th>region_store_cat_Region1_Less</th>\n",
       "      <th>region_store_cat_Region2_Less</th>\n",
       "      <th>region_store_cat_Region2_More</th>\n",
       "      <th>region_store_cat_Region3_Less</th>\n",
       "      <th>region_store_cat_Region3_More</th>\n",
       "    </tr>\n",
       "  </thead>\n",
       "  <tbody>\n",
       "    <tr>\n",
       "      <th>0</th>\n",
       "      <td>32.0</td>\n",
       "      <td>1.928799</td>\n",
       "      <td>10</td>\n",
       "      <td>24.98298</td>\n",
       "      <td>121.54024</td>\n",
       "      <td>1</td>\n",
       "      <td>575</td>\n",
       "      <td>37.9</td>\n",
       "      <td>0</td>\n",
       "      <td>0</td>\n",
       "      <td>1</td>\n",
       "      <td>0</td>\n",
       "      <td>0</td>\n",
       "    </tr>\n",
       "    <tr>\n",
       "      <th>1</th>\n",
       "      <td>19.5</td>\n",
       "      <td>2.486565</td>\n",
       "      <td>9</td>\n",
       "      <td>24.98034</td>\n",
       "      <td>121.53951</td>\n",
       "      <td>2</td>\n",
       "      <td>1240</td>\n",
       "      <td>42.2</td>\n",
       "      <td>0</td>\n",
       "      <td>0</td>\n",
       "      <td>1</td>\n",
       "      <td>0</td>\n",
       "      <td>0</td>\n",
       "    </tr>\n",
       "    <tr>\n",
       "      <th>2</th>\n",
       "      <td>13.3</td>\n",
       "      <td>2.749724</td>\n",
       "      <td>5</td>\n",
       "      <td>24.98746</td>\n",
       "      <td>121.54391</td>\n",
       "      <td>3</td>\n",
       "      <td>1060</td>\n",
       "      <td>47.3</td>\n",
       "      <td>0</td>\n",
       "      <td>0</td>\n",
       "      <td>1</td>\n",
       "      <td>0</td>\n",
       "      <td>0</td>\n",
       "    </tr>\n",
       "    <tr>\n",
       "      <th>3</th>\n",
       "      <td>13.3</td>\n",
       "      <td>2.749724</td>\n",
       "      <td>5</td>\n",
       "      <td>24.98746</td>\n",
       "      <td>121.54391</td>\n",
       "      <td>2</td>\n",
       "      <td>875</td>\n",
       "      <td>54.8</td>\n",
       "      <td>0</td>\n",
       "      <td>0</td>\n",
       "      <td>1</td>\n",
       "      <td>0</td>\n",
       "      <td>0</td>\n",
       "    </tr>\n",
       "    <tr>\n",
       "      <th>4</th>\n",
       "      <td>5.0</td>\n",
       "      <td>2.591697</td>\n",
       "      <td>5</td>\n",
       "      <td>24.97937</td>\n",
       "      <td>121.54245</td>\n",
       "      <td>1</td>\n",
       "      <td>491</td>\n",
       "      <td>43.1</td>\n",
       "      <td>0</td>\n",
       "      <td>0</td>\n",
       "      <td>1</td>\n",
       "      <td>0</td>\n",
       "      <td>0</td>\n",
       "    </tr>\n",
       "  </tbody>\n",
       "</table>\n",
       "</div>"
      ],
      "text/plain": [
       "   house_age  nearest_MRT  convenience_stores  latitude  longitude  bedrooms  \\\n",
       "0       32.0     1.928799                  10  24.98298  121.54024         1   \n",
       "1       19.5     2.486565                   9  24.98034  121.53951         2   \n",
       "2       13.3     2.749724                   5  24.98746  121.54391         3   \n",
       "3       13.3     2.749724                   5  24.98746  121.54391         2   \n",
       "4        5.0     2.591697                   5  24.97937  121.54245         1   \n",
       "\n",
       "   house_size  house_price  region_store_cat_Region1_Less  \\\n",
       "0         575         37.9                              0   \n",
       "1        1240         42.2                              0   \n",
       "2        1060         47.3                              0   \n",
       "3         875         54.8                              0   \n",
       "4         491         43.1                              0   \n",
       "\n",
       "   region_store_cat_Region2_Less  region_store_cat_Region2_More  \\\n",
       "0                              0                              1   \n",
       "1                              0                              1   \n",
       "2                              0                              1   \n",
       "3                              0                              1   \n",
       "4                              0                              1   \n",
       "\n",
       "   region_store_cat_Region3_Less  region_store_cat_Region3_More  \n",
       "0                              0                              0  \n",
       "1                              0                              0  \n",
       "2                              0                              0  \n",
       "3                              0                              0  \n",
       "4                              0                              0  "
      ]
     },
     "execution_count": 49,
     "metadata": {},
     "output_type": "execute_result"
    }
   ],
   "source": [
    "df=pd.get_dummies(df,drop_first=True)\n",
    "df.head()"
   ]
  },
  {
   "cell_type": "markdown",
   "metadata": {},
   "source": [
    "# Building the Machine Learning Model"
   ]
  },
  {
   "cell_type": "code",
   "execution_count": 50,
   "metadata": {},
   "outputs": [],
   "source": [
    "# In this section we will preprocess our data\n",
    "# First we should split our original data.\n",
    "\n",
    "from sklearn.model_selection import train_test_split,KFold,cross_val_score\n",
    "\n",
    "# Shuffle our dataset before splitting\n",
    "np.random.seed(42)\n",
    "df = df.sample(frac=1, random_state=1)\n",
    "\n",
    "X = df.drop(columns={'house_price'}, axis=1)\n",
    "y = df[\"house_price\"]\n",
    "\n",
    "# Split into both training and testing\n",
    "X_train, X_test, y_train, y_test = train_test_split(X, y,test_size=0.3, random_state=42)"
   ]
  },
  {
   "cell_type": "code",
   "execution_count": 51,
   "metadata": {},
   "outputs": [
    {
     "name": "stdout",
     "output_type": "stream",
     "text": [
      "Random Forest Parameters:\n",
      "\n",
      "{'bootstrap': True,\n",
      " 'ccp_alpha': 0.0,\n",
      " 'criterion': 'mse',\n",
      " 'max_depth': None,\n",
      " 'max_features': 'auto',\n",
      " 'max_leaf_nodes': None,\n",
      " 'max_samples': None,\n",
      " 'min_impurity_decrease': 0.0,\n",
      " 'min_impurity_split': None,\n",
      " 'min_samples_leaf': 1,\n",
      " 'min_samples_split': 2,\n",
      " 'min_weight_fraction_leaf': 0.0,\n",
      " 'n_estimators': 100,\n",
      " 'n_jobs': None,\n",
      " 'oob_score': False,\n",
      " 'random_state': None,\n",
      " 'verbose': 0,\n",
      " 'warm_start': False}\n"
     ]
    }
   ],
   "source": [
    "## Create a Random Forest Regressor object \n",
    "rf_regressor = RandomForestRegressor()\n",
    "\n",
    "## fit the object on the train set\n",
    "rf_regressor.fit(X_train, y_train)\n",
    "\n",
    "print('Random Forest Parameters:\\n')\n",
    "pprint(rf_regressor.get_params())"
   ]
  },
  {
   "cell_type": "code",
   "execution_count": 52,
   "metadata": {},
   "outputs": [],
   "source": [
    "y_pred = rf_regressor.predict(X_test)"
   ]
  },
  {
   "cell_type": "code",
   "execution_count": 53,
   "metadata": {},
   "outputs": [
    {
     "data": {
      "text/html": [
       "<div>\n",
       "<style scoped>\n",
       "    .dataframe tbody tr th:only-of-type {\n",
       "        vertical-align: middle;\n",
       "    }\n",
       "\n",
       "    .dataframe tbody tr th {\n",
       "        vertical-align: top;\n",
       "    }\n",
       "\n",
       "    .dataframe thead th {\n",
       "        text-align: right;\n",
       "    }\n",
       "</style>\n",
       "<table border=\"1\" class=\"dataframe\">\n",
       "  <thead>\n",
       "    <tr style=\"text-align: right;\">\n",
       "      <th></th>\n",
       "      <th>index</th>\n",
       "      <th>actual_house_price</th>\n",
       "      <th>predicted_house_price</th>\n",
       "    </tr>\n",
       "  </thead>\n",
       "  <tbody>\n",
       "    <tr>\n",
       "      <th>0</th>\n",
       "      <td>358</td>\n",
       "      <td>45.1</td>\n",
       "      <td>50.282</td>\n",
       "    </tr>\n",
       "    <tr>\n",
       "      <th>1</th>\n",
       "      <td>265</td>\n",
       "      <td>38.1</td>\n",
       "      <td>40.600</td>\n",
       "    </tr>\n",
       "    <tr>\n",
       "      <th>2</th>\n",
       "      <td>237</td>\n",
       "      <td>39.0</td>\n",
       "      <td>39.603</td>\n",
       "    </tr>\n",
       "    <tr>\n",
       "      <th>3</th>\n",
       "      <td>283</td>\n",
       "      <td>23.5</td>\n",
       "      <td>31.258</td>\n",
       "    </tr>\n",
       "    <tr>\n",
       "      <th>4</th>\n",
       "      <td>378</td>\n",
       "      <td>37.4</td>\n",
       "      <td>35.197</td>\n",
       "    </tr>\n",
       "  </tbody>\n",
       "</table>\n",
       "</div>"
      ],
      "text/plain": [
       "   index  actual_house_price  predicted_house_price\n",
       "0    358                45.1                 50.282\n",
       "1    265                38.1                 40.600\n",
       "2    237                39.0                 39.603\n",
       "3    283                23.5                 31.258\n",
       "4    378                37.4                 35.197"
      ]
     },
     "execution_count": 53,
     "metadata": {},
     "output_type": "execute_result"
    }
   ],
   "source": [
    "actual_predicted_df = pd.concat([pd.DataFrame(y_test).reset_index(), pd.DataFrame(y_pred)], axis=1).\\\n",
    "                            rename(columns={\"house_price\":\"actual_house_price\", 0:\"predicted_house_price\"})\n",
    "actual_predicted_df.head()"
   ]
  },
  {
   "cell_type": "code",
   "execution_count": 54,
   "metadata": {},
   "outputs": [],
   "source": [
    "# Define a function for model evaluation using cross validation\n",
    "def evaluate_model_cross_validation(name, model, X_train, y_train, folds = 10):\n",
    " \n",
    "    # MAE (Mean Absolute Error)\n",
    "    metric='neg_mean_absolute_error'\n",
    "    scores = cross_val_score(rf_regressor, X_train, y_train, scoring=metric, cv=folds, n_jobs=-1)\n",
    "    mean_score, std_score = np.mean(scores), np.std(scores)\n",
    "    print('>%s - train set - MAE: %.3f (+/-%.3f)' % (name, mean_score, std_score))\n",
    "    \n",
    "    \n",
    "    # MSE (Mean Squared Error)\n",
    "    metric='neg_mean_squared_error'\n",
    "    scores = cross_val_score(rf_regressor, X_train, y_train, scoring=metric, cv=folds, n_jobs=-1)\n",
    "    mean_score, std_score = np.mean(scores), np.std(scores)\n",
    "    print('>%s - train set - MSE: %.3f (+/-%.3f)' % (name, mean_score, std_score))\n",
    "    \n",
    "    # R^2 (R-Squared)\n",
    "    metric='r2'\n",
    "    scores = cross_val_score(rf_regressor, X_train, y_train, scoring=metric, cv=folds, n_jobs=-1)\n",
    "    mean_score, std_score = np.mean(scores), np.std(scores)\n",
    "    print('>%s - train set - R^2: %.3f (+/-%.3f)' % (name, mean_score, std_score))"
   ]
  },
  {
   "cell_type": "code",
   "execution_count": 55,
   "metadata": {},
   "outputs": [],
   "source": [
    "def evaluate_model_on_test_set(name, model, y_test, y_predicted):\n",
    "    print('>%s - test set - MAE: %.3f' % (name, mean_absolute_error(y_test, y_predicted)))\n",
    "    print('>%s - test set - MSE: %.3f' % (name, mean_squared_error(y_test, y_predicted)))\n",
    "    print('>%s - test set - R^2: %.3f' % (name, r2_score(y_test, y_predicted)))"
   ]
  },
  {
   "cell_type": "code",
   "execution_count": 56,
   "metadata": {},
   "outputs": [
    {
     "name": "stdout",
     "output_type": "stream",
     "text": [
      ">RF_baseline_model - train set - MAE: -4.815 (+/-0.857)\n",
      ">RF_baseline_model - train set - MSE: -43.691 (+/-20.200)\n",
      ">RF_baseline_model - train set - R^2: 0.735 (+/-0.096)\n"
     ]
    }
   ],
   "source": [
    "evaluate_model_cross_validation(\"RF_baseline_model\", rf_regressor, X_train, y_train, 10)"
   ]
  },
  {
   "cell_type": "code",
   "execution_count": 57,
   "metadata": {},
   "outputs": [
    {
     "name": "stdout",
     "output_type": "stream",
     "text": [
      ">RF_baseline_model - test set - MAE: 4.768\n",
      ">RF_baseline_model - test set - MSE: 48.420\n",
      ">RF_baseline_model - test set - R^2: 0.719\n"
     ]
    }
   ],
   "source": [
    "evaluate_model_on_test_set(\"RF_baseline_model\", rf_regressor, y_test, y_pred)"
   ]
  },
  {
   "cell_type": "code",
   "execution_count": 58,
   "metadata": {},
   "outputs": [
    {
     "data": {
      "text/plain": [
       "GridSearchCV(cv=5, estimator=Ridge(), n_jobs=-1,\n",
       "             param_grid={'alpha': [0.0001, 0.001, 0.01, 0.1, 1, 10, 100, 1000,\n",
       "                                   10000, 100000]},\n",
       "             scoring='neg_mean_absolute_error')"
      ]
     },
     "execution_count": 58,
     "metadata": {},
     "output_type": "execute_result"
    }
   ],
   "source": [
    "#Ridge regression\n",
    "params_rid ={'alpha' :[0.0001, 0.001, 0.01, 0.1, 1, 10, 100, 1000, 10000, 100000]}\n",
    "ridge_regressor =GridSearchCV(Ridge(), params_rid ,cv =5,scoring = 'neg_mean_absolute_error', n_jobs =-1)\n",
    "ridge_regressor.fit(X_train ,y_train)"
   ]
  },
  {
   "cell_type": "code",
   "execution_count": 59,
   "metadata": {},
   "outputs": [],
   "source": [
    "y_test =ridge_regressor.predict(X_test) ##Predict test result"
   ]
  },
  {
   "cell_type": "code",
   "execution_count": 60,
   "metadata": {},
   "outputs": [
    {
     "name": "stdout",
     "output_type": "stream",
     "text": [
      ">Ridge_reg_model - train set - MAE: -4.884 (+/-0.829)\n",
      ">Ridge_reg_model - train set - MSE: -43.786 (+/-18.936)\n",
      ">Ridge_reg_model - train set - R^2: 0.733 (+/-0.098)\n"
     ]
    }
   ],
   "source": [
    "evaluate_model_cross_validation(\"Ridge_reg_model\", ridge_regressor, X_train, y_train, 10)"
   ]
  },
  {
   "cell_type": "code",
   "execution_count": 61,
   "metadata": {},
   "outputs": [
    {
     "name": "stdout",
     "output_type": "stream",
     "text": [
      ">Ridge_reg_model - test set - MAE: 2.915\n",
      ">Ridge_reg_model - test set - MSE: 15.139\n",
      ">Ridge_reg_model - test set - R^2: 0.885\n"
     ]
    }
   ],
   "source": [
    "evaluate_model_on_test_set(\"Ridge_reg_model\", ridge_regressor, y_test, y_pred)"
   ]
  },
  {
   "cell_type": "code",
   "execution_count": 66,
   "metadata": {},
   "outputs": [
    {
     "data": {
      "text/plain": [
       "GridSearchCV(cv=15, estimator=Lasso(), n_jobs=-1,\n",
       "             param_grid={'alpha': [0.0001, 0.001, 0.01, 0.1, 1, 10, 100, 1000,\n",
       "                                   10000, 100000]},\n",
       "             scoring='neg_mean_absolute_error')"
      ]
     },
     "execution_count": 66,
     "metadata": {},
     "output_type": "execute_result"
    }
   ],
   "source": [
    "#Lasso\n",
    "param_lasso ={'alpha' :[0.0001, 0.001, 0.01, 0.1, 1, 10, 100, 1000, 10000, 100000]}\n",
    "lasso_regressor =GridSearchCV(Lasso(), param_lasso ,cv =15,scoring = 'neg_mean_absolute_error', n_jobs =-1)\n",
    "lasso_regressor.fit(X_train ,y_train)"
   ]
  },
  {
   "cell_type": "code",
   "execution_count": 67,
   "metadata": {},
   "outputs": [],
   "source": [
    "y_test =lasso_regressor.predict(X_test) ##Predict test result"
   ]
  },
  {
   "cell_type": "code",
   "execution_count": 68,
   "metadata": {},
   "outputs": [
    {
     "name": "stdout",
     "output_type": "stream",
     "text": [
      ">Lasso_reg_model - train set - MAE: -4.793 (+/-0.846)\n",
      ">Lasso_reg_model - train set - MSE: -42.462 (+/-18.483)\n",
      ">Lasso_reg_model - train set - R^2: 0.730 (+/-0.090)\n"
     ]
    }
   ],
   "source": [
    "evaluate_model_cross_validation(\"Lasso_reg_model\", lasso_regressor, X_train, y_train, 10)"
   ]
  },
  {
   "cell_type": "code",
   "execution_count": 69,
   "metadata": {},
   "outputs": [
    {
     "name": "stdout",
     "output_type": "stream",
     "text": [
      ">Lasso_reg_model - test set - MAE: 3.030\n",
      ">Lasso_reg_model - test set - MSE: 16.175\n",
      ">Lasso_reg_model - test set - R^2: 0.874\n"
     ]
    }
   ],
   "source": [
    "evaluate_model_on_test_set(\"Lasso_reg_model\", lasso_regressor, y_test, y_pred)"
   ]
  },
  {
   "cell_type": "code",
   "execution_count": 70,
   "metadata": {},
   "outputs": [
    {
     "data": {
      "text/plain": [
       "GridSearchCV(cv=10, estimator=BaggingRegressor(),\n",
       "             param_grid={'n_estimators': [100, 350, 500, 750]},\n",
       "             scoring='neg_mean_squared_error')"
      ]
     },
     "execution_count": 70,
     "metadata": {},
     "output_type": "execute_result"
    }
   ],
   "source": [
    "#Bagging Regressor\n",
    "param_BR =   {'n_estimators':[100,350,500,750]}\n",
    "bagging_regressor = GridSearchCV(BaggingRegressor(), param_BR, cv =10, scoring = 'neg_mean_squared_error')\n",
    "bagging_regressor.fit(X_train, y_train)"
   ]
  },
  {
   "cell_type": "code",
   "execution_count": 72,
   "metadata": {},
   "outputs": [],
   "source": [
    "y_test =bagging_regressor.predict(X_test) ##Predict test result"
   ]
  },
  {
   "cell_type": "code",
   "execution_count": 73,
   "metadata": {},
   "outputs": [
    {
     "name": "stdout",
     "output_type": "stream",
     "text": [
      ">Bagging_reg_model - train set - MAE: -4.859 (+/-0.824)\n",
      ">Bagging_reg_model - train set - MSE: -43.766 (+/-19.370)\n",
      ">Bagging_reg_model - train set - R^2: 0.741 (+/-0.098)\n"
     ]
    }
   ],
   "source": [
    "evaluate_model_cross_validation(\"Bagging_reg_model\", bagging_regressor, X_train, y_train, 10)"
   ]
  },
  {
   "cell_type": "code",
   "execution_count": 74,
   "metadata": {},
   "outputs": [
    {
     "name": "stdout",
     "output_type": "stream",
     "text": [
      ">Bagging_reg_model - test set - MAE: 0.470\n",
      ">Bagging_reg_model - test set - MSE: 0.419\n",
      ">Bagging_reg_model - test set - R^2: 0.997\n"
     ]
    }
   ],
   "source": [
    "evaluate_model_on_test_set(\"Bagging_reg_model\", bagging_regressor, y_test, y_pred)"
   ]
  },
  {
   "cell_type": "code",
   "execution_count": 75,
   "metadata": {},
   "outputs": [
    {
     "data": {
      "text/plain": [
       "GridSearchCV(cv=10, estimator=ExtraTreesRegressor(),\n",
       "             param_grid={'bootstrap': [True, False],\n",
       "                         'max_features': ['sqrt', 'log2'],\n",
       "                         'n_estimators': [100, 300, 500, 800, 100]},\n",
       "             scoring='neg_mean_squared_error')"
      ]
     },
     "execution_count": 75,
     "metadata": {},
     "output_type": "execute_result"
    }
   ],
   "source": [
    "#Extra Trees Regressor\n",
    "param_ETR =  {'n_estimators': [100,300,500,800,100], 'bootstrap': [True,False], 'max_features': ['sqrt','log2']}\n",
    "ET_regressor = GridSearchCV(ExtraTreesRegressor(), param_ETR, cv =10, scoring = 'neg_mean_squared_error')\n",
    "ET_regressor.fit(X_train, y_train)"
   ]
  },
  {
   "cell_type": "code",
   "execution_count": 76,
   "metadata": {},
   "outputs": [],
   "source": [
    "y_test =ET_regressor.predict(X_test) ##Predict test result"
   ]
  },
  {
   "cell_type": "code",
   "execution_count": 77,
   "metadata": {},
   "outputs": [
    {
     "name": "stdout",
     "output_type": "stream",
     "text": [
      ">ET_reg_model - train set - MAE: -4.858 (+/-0.861)\n",
      ">ET_reg_model - train set - MSE: -43.744 (+/-18.896)\n",
      ">ET_reg_model - train set - R^2: 0.737 (+/-0.095)\n"
     ]
    }
   ],
   "source": [
    "evaluate_model_cross_validation(\"ET_reg_model\", ET_regressor, X_train, y_train, 10)"
   ]
  },
  {
   "cell_type": "code",
   "execution_count": 78,
   "metadata": {},
   "outputs": [
    {
     "name": "stdout",
     "output_type": "stream",
     "text": [
      ">ET_reg_model - test set - MAE: 2.021\n",
      ">ET_reg_model - test set - MSE: 7.588\n",
      ">ET_reg_model - test set - R^2: 0.939\n"
     ]
    }
   ],
   "source": [
    "evaluate_model_on_test_set(\"ET_reg_model\", ET_regressor, y_test, y_pred)"
   ]
  },
  {
   "cell_type": "code",
   "execution_count": 79,
   "metadata": {},
   "outputs": [
    {
     "data": {
      "text/plain": [
       "GridSearchCV(cv=10, estimator=HistGradientBoostingRegressor(),\n",
       "             param_grid={'learning_rate': [0.2, 0.5, 0.8, 1],\n",
       "                         'loss': ['squared_error', 'absolute_error',\n",
       "                                  'poisson']},\n",
       "             scoring='neg_mean_squared_error')"
      ]
     },
     "execution_count": 79,
     "metadata": {},
     "output_type": "execute_result"
    }
   ],
   "source": [
    "#HistgradientBoosting\n",
    "param_HGBR = {'loss': ['squared_error', 'absolute_error', 'poisson'], 'learning_rate': [0.2,0.5,0.8,1]}\n",
    "HGB_regressor = GridSearchCV(HistGradientBoostingRegressor(), param_HGBR, cv =10, scoring = 'neg_mean_squared_error')\n",
    "HGB_regressor.fit(X_train, y_train)"
   ]
  },
  {
   "cell_type": "code",
   "execution_count": 80,
   "metadata": {},
   "outputs": [],
   "source": [
    "y_test =HGB_regressor.predict(X_test) ##Predict test result"
   ]
  },
  {
   "cell_type": "code",
   "execution_count": 81,
   "metadata": {},
   "outputs": [
    {
     "name": "stdout",
     "output_type": "stream",
     "text": [
      ">HGB_reg_model - train set - MAE: -4.803 (+/-0.816)\n",
      ">HGB_reg_model - train set - MSE: -43.974 (+/-19.123)\n",
      ">HGB_reg_model - train set - R^2: 0.736 (+/-0.102)\n"
     ]
    }
   ],
   "source": [
    "evaluate_model_cross_validation(\"HGB_reg_model\", HGB_regressor, X_train, y_train, 10)"
   ]
  },
  {
   "cell_type": "code",
   "execution_count": 82,
   "metadata": {},
   "outputs": [
    {
     "name": "stdout",
     "output_type": "stream",
     "text": [
      ">HGB_reg_model - test set - MAE: 2.304\n",
      ">HGB_reg_model - test set - MSE: 8.525\n",
      ">HGB_reg_model - test set - R^2: 0.940\n"
     ]
    }
   ],
   "source": [
    "evaluate_model_on_test_set(\"HGB_reg_model\", HGB_regressor, y_test, y_pred)"
   ]
  },
  {
   "cell_type": "markdown",
   "metadata": {},
   "source": [
    "Bagging Regressor, Histgradient Regressor and ExtraTrees Regressor gives us the better fit as well as high generalization power with Rsquare above 0.9. Comparing all the models there is no chance of overfitting."
   ]
  },
  {
   "attachments": {
    "eval.jpg": {
     "image/jpeg": "[encoded data removed]"
    }
   },
   "cell_type": "markdown",
   "metadata": {},
   "source": [
    "![eval.jpg](attachment:eval.jpg)"
   ]
  },
  {
   "cell_type": "markdown",
   "metadata": {},
   "source": [
    "# Assumptions of Models:"
   ]
  },
  {
   "cell_type": "markdown",
   "metadata": {},
   "source": [
    "Random Forest:No formal distributional assumptions, random forests are non-parametric and can thus handle skewed and multi-modal data as well as categorical data that are ordinal or non-ordinal."
   ]
  },
  {
   "cell_type": "markdown",
   "metadata": {},
   "source": [
    "Ridge/ Lasso Regression: The assumptions of ridge regression are the same as that of linear regression: linearity, constant variance, and independence. However, as ridge regression does not provide confidence limits, the distribution of errors to be normal need not be assumed."
   ]
  },
  {
   "cell_type": "markdown",
   "metadata": {},
   "source": [
    "Bagging Regression: can be used as dependent model to boost the performance and reduce the variance. Highly accurate Model which reduces the variance without increasing the bias."
   ]
  },
  {
   "cell_type": "markdown",
   "metadata": {},
   "source": [
    "Extra Trees Regression:  Extra Trees differs from Random Forest, however, in the fact that it uses the whole original sample as opposed to subsampling the data with replacement as Random Forest does. Another difference is in how the nodes are split. While Random Forest is built to always choose the best possible split, Extra Trees chooses random splits. Here that randomness worked and we got a better accuracy."
   ]
  },
  {
   "cell_type": "markdown",
   "metadata": {},
   "source": [
    "HistGradientBoosting Regressor: It is based on the assumption that the best next model minimizes the total prediction error when merged with past models. "
   ]
  },
  {
   "cell_type": "code",
   "execution_count": null,
   "metadata": {},
   "outputs": [],
   "source": []
  }
 ],
 "metadata": {
  "kernelspec": {
   "display_name": "Python 3",
   "language": "python",
   "name": "python3"
  },
  "language_info": {
   "codemirror_mode": {
    "name": "ipython",
    "version": 3
   },
   "file_extension": ".py",
   "mimetype": "text/x-python",
   "name": "python",
   "nbconvert_exporter": "python",
   "pygments_lexer": "ipython3",
   "version": "3.8.3"
  }
 },
 "nbformat": 4,
 "nbformat_minor": 4
}
